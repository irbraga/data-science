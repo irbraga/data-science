{
 "cells": [
  {
   "cell_type": "markdown",
   "metadata": {},
   "source": [
    "# PUC Minas\n",
    "## Pós Graduação em Ciência de Dados e Big Data (2018-2019)\n",
    "## Trabalho de Conclusão de Curso\n",
    "### Aluno: Igor Ribeiro Braga\n",
    "\n",
    "Este notebook é relativo ao meu Trabalho de Conclusão de Curso em Ciência de Dados e Big Data. O título é **Séries Temporais de Receitas Orçamentárias da Prefeitura Municipal de João Pessoa e Predição de Valores Orçamentários**, neste trabalho o dataset foi baixado no site do [TCE-PB](http://tce.pb.gov.br/servicos/dados-abertos-do-sagres-tce-pb), especificamente a Tabela: Receita Orçamentária da Esfera Municipal. Para fazer o download diretamente, clique [aqui](https://dados.tce.pb.gov.br/TCE-PB-SAGRES-Receita_Orcamentaria_Esfera_Municipal.txt.gz). O dataset deve ser salvo na pasta `datasets` na pasta raiz deste notebook."
   ]
  },
  {
   "cell_type": "markdown",
   "metadata": {},
   "source": [
    "### Leitura dos dados e importação das bibliotecas utilizadas\n",
    "\n",
    "Para iniciar o trabalho, o primeiro passo é fazer o downlad do *dataset* com os links disponibilizados acima e armazená-lo na pasta `datasets`. Assim, o documento pode ser lido sem maiores problemas.\n",
    "\n",
    "No código abaixo, as importações das bibliotecas utilizadas e a definição de um método para facilitar a visualização dos valores em moeda Real (R$)."
   ]
  },
  {
   "cell_type": "code",
   "execution_count": 40,
   "metadata": {},
   "outputs": [],
   "source": [
    "# Imports das bibliotecas utilizadas\n",
    "import locale\n",
    "import pandas as pd\n",
    "import numpy as np\n",
    "import seaborn as sns\n",
    "import statsmodels.api as sm\n",
    "import matplotlib.pyplot as plt\n",
    "from matplotlib.pylab import rcParams\n",
    "from statsmodels.tsa.stattools import adfuller\n",
    "\n",
    "# Define valores padrão para as figuras do matplotlib\n",
    "rcParams['figure.figsize'] = 15, 6\n",
    "\n",
    "# Função para converter Float em Currency\n",
    "locale.setlocale(locale.LC_MONETARY, 'pt_BR.UTF-8')\n",
    "\n",
    "def em_reais(valor):\n",
    "    '''\n",
    "    Função para exibir os valores em reais.\n",
    "    '''\n",
    "    return locale.currency(valor, grouping=True)\n",
    "\n",
    "def show_value_counts(serie, column_desc=None, grain='Registers', \n",
    "                      size=None, total=None, title=None, height=10, index=None):\n",
    "    '''\n",
    "    Função que plota os value_counts de uma série.\n",
    "    '''\n",
    "    fig = plt.figure()\n",
    "    fig.set_size_inches(15, height)\n",
    "\n",
    "    ax1 = plt.subplot(1,1,1)\n",
    "\n",
    "    serie = serie.value_counts().sort_values(ascending=True)\n",
    "\n",
    "    if not total:\n",
    "        total = serie.sum()\n",
    "    \n",
    "    corte = ''\n",
    "    \n",
    "    if (index):\n",
    "        serie = serie.rename(index)\n",
    "    \n",
    "    if serie.index.dtype != 'object':\n",
    "        if serie.index.dtype == 'float64':\n",
    "            serie.index = serie.index.map(int)\n",
    "        serie.index = serie.index.map(str)\n",
    "    serie.index = serie.index.map(str)\n",
    "    \n",
    "    if size and len(serie) > size:\n",
    "        serie = serie.sort_values(ascending=False)\n",
    "        serie = serie[:size]\n",
    "        serie = serie.sort_values(ascending=True)\n",
    "        corte = ' ({} most frequents)'.format(size)\n",
    "    \n",
    "    if not title:\n",
    "        if column_desc:\n",
    "            column = column_desc\n",
    "        else:\n",
    "            column = serie.name\n",
    "        title = \"#{} by {}{}\".format(grain, column, corte)\n",
    "   \n",
    "    ax1.barh(serie.index, serie, align='center', color='c', ecolor='black')\n",
    "    percentage = serie/total*100\n",
    "    number_distance = serie.max()*0.005\n",
    "    \n",
    "    for i, v in enumerate(serie):\n",
    "        pct = locale.format('%.2f', percentage[i], True)\n",
    "        ax1.text(v+number_distance , i-0.2, '{0:,} ({1}%)'.format(v, pct), color='k')\n",
    "    ax1.set(title=title,\n",
    "           xlabel='',\n",
    "           ylabel='')\n",
    "    sns.despine(left=True, bottom=True)\n",
    "\n",
    "    plt.show()\n",
    "    plt.show()\n",
    "\n",
    "def teste_adf(serie):\n",
    "    result = adfuller(serie)\n",
    "    print('ADF Statistic: %f' % result[0])\n",
    "    print('p-value: %f' % result[1])\n",
    "    print('Critical Values:')\n",
    "    for key, value in result[4].items():\n",
    "        print('\\t%s: %.3f' % (key, value))\n"
   ]
  },
  {
   "cell_type": "markdown",
   "metadata": {},
   "source": [
    "Para a leitura do dataset, foi definido os tipos das colunas **cd_ugestora**, **dt_mesano** e **dt_ano**."
   ]
  },
  {
   "cell_type": "code",
   "execution_count": 2,
   "metadata": {},
   "outputs": [],
   "source": [
    "# Definindo tipos das colunas antes de ler o dataset\n",
    "columns_types = {'cd_ugestora': str, 'dt_mesano': str, 'dt_ano': int}\n",
    "\n",
    "# Carrega os dados usando pandas\n",
    "receitas = pd.read_csv('datasets/TCE-PB-SAGRES-Receita_Orcamentaria_Esfera_Municipal.txt',sep='|',dtype=columns_types,encoding='utf-8')"
   ]
  },
  {
   "cell_type": "markdown",
   "metadata": {},
   "source": [
    "O dataset possui os dados de todas as entidade públicas da esfera municipal do estado da Paraíba, mas este estudo, apenas a **Prefeitura Municipal de João Pessoa** será utilizada. Portanto um filtro é aplicado e cria-se um novo Pandas Dataframe."
   ]
  },
  {
   "cell_type": "code",
   "execution_count": 3,
   "metadata": {},
   "outputs": [
    {
     "name": "stdout",
     "output_type": "stream",
     "text": [
      "<class 'pandas.core.frame.DataFrame'>\n",
      "Int64Index: 7712 entries, 486833 to 754495\n",
      "Data columns (total 9 columns):\n",
      "cd_ugestora              7712 non-null object\n",
      "de_ugestora              7712 non-null object\n",
      "dt_ano                   7712 non-null int64\n",
      "cd_receitaorcug          7712 non-null int64\n",
      "de_receitaorcug          7516 non-null object\n",
      "tp_atualizacaoreceita    7712 non-null int64\n",
      "de_atualizacaoreceita    7712 non-null object\n",
      "vl_lancamentoOrc         7712 non-null float64\n",
      "dt_mesano                7712 non-null object\n",
      "dtypes: float64(1), int64(3), object(5)\n",
      "memory usage: 602.5+ KB\n"
     ]
    }
   ],
   "source": [
    "# Obtém todos os dados da Prefeitura Municipal de João Pessoa (cd_ugestora=201095)\n",
    "pref_mun_joao_pessoa = receitas[receitas['cd_ugestora'] == '201095']\n",
    "\n",
    "# Mostra informações sobre o dataset\n",
    "pref_mun_joao_pessoa.info()"
   ]
  },
  {
   "cell_type": "markdown",
   "metadata": {},
   "source": [
    "Acima, um resumo do dataset disponibilizado pelo Pandas. Nele, podemos verificar quais as colunas presentes, qual o tipo de dado cada coluna foi carregada e quantos objetos não nulos temos por coluna. Neste exemplo podemos verificar que a coluna **de_receitaorcug** possui valores nulos."
   ]
  },
  {
   "cell_type": "code",
   "execution_count": 4,
   "metadata": {},
   "outputs": [
    {
     "data": {
      "text/html": [
       "<div>\n",
       "<style scoped>\n",
       "    .dataframe tbody tr th:only-of-type {\n",
       "        vertical-align: middle;\n",
       "    }\n",
       "\n",
       "    .dataframe tbody tr th {\n",
       "        vertical-align: top;\n",
       "    }\n",
       "\n",
       "    .dataframe thead th {\n",
       "        text-align: right;\n",
       "    }\n",
       "</style>\n",
       "<table border=\"1\" class=\"dataframe\">\n",
       "  <thead>\n",
       "    <tr style=\"text-align: right;\">\n",
       "      <th></th>\n",
       "      <th>dt_ano</th>\n",
       "      <th>cd_receitaorcug</th>\n",
       "      <th>tp_atualizacaoreceita</th>\n",
       "      <th>vl_lancamentoOrc</th>\n",
       "    </tr>\n",
       "  </thead>\n",
       "  <tbody>\n",
       "    <tr>\n",
       "      <th>count</th>\n",
       "      <td>7712.000000</td>\n",
       "      <td>7.712000e+03</td>\n",
       "      <td>7712.000000</td>\n",
       "      <td>7.712000e+03</td>\n",
       "    </tr>\n",
       "    <tr>\n",
       "      <th>mean</th>\n",
       "      <td>2010.337915</td>\n",
       "      <td>1.514149e+08</td>\n",
       "      <td>1.196966</td>\n",
       "      <td>2.400637e+06</td>\n",
       "    </tr>\n",
       "    <tr>\n",
       "      <th>std</th>\n",
       "      <td>4.931977</td>\n",
       "      <td>1.116424e+09</td>\n",
       "      <td>0.594119</td>\n",
       "      <td>5.496038e+06</td>\n",
       "    </tr>\n",
       "    <tr>\n",
       "      <th>min</th>\n",
       "      <td>2003.000000</td>\n",
       "      <td>1.000000e+00</td>\n",
       "      <td>1.000000</td>\n",
       "      <td>0.000000e+00</td>\n",
       "    </tr>\n",
       "    <tr>\n",
       "      <th>25%</th>\n",
       "      <td>2006.000000</td>\n",
       "      <td>1.121250e+07</td>\n",
       "      <td>1.000000</td>\n",
       "      <td>2.645316e+04</td>\n",
       "    </tr>\n",
       "    <tr>\n",
       "      <th>50%</th>\n",
       "      <td>2010.000000</td>\n",
       "      <td>1.721010e+07</td>\n",
       "      <td>1.000000</td>\n",
       "      <td>2.672748e+05</td>\n",
       "    </tr>\n",
       "    <tr>\n",
       "      <th>75%</th>\n",
       "      <td>2015.000000</td>\n",
       "      <td>1.761000e+07</td>\n",
       "      <td>1.000000</td>\n",
       "      <td>1.587541e+06</td>\n",
       "    </tr>\n",
       "    <tr>\n",
       "      <th>max</th>\n",
       "      <td>2019.000000</td>\n",
       "      <td>9.517214e+09</td>\n",
       "      <td>5.000000</td>\n",
       "      <td>8.593407e+07</td>\n",
       "    </tr>\n",
       "  </tbody>\n",
       "</table>\n",
       "</div>"
      ],
      "text/plain": [
       "            dt_ano  cd_receitaorcug  tp_atualizacaoreceita  vl_lancamentoOrc\n",
       "count  7712.000000     7.712000e+03            7712.000000      7.712000e+03\n",
       "mean   2010.337915     1.514149e+08               1.196966      2.400637e+06\n",
       "std       4.931977     1.116424e+09               0.594119      5.496038e+06\n",
       "min    2003.000000     1.000000e+00               1.000000      0.000000e+00\n",
       "25%    2006.000000     1.121250e+07               1.000000      2.645316e+04\n",
       "50%    2010.000000     1.721010e+07               1.000000      2.672748e+05\n",
       "75%    2015.000000     1.761000e+07               1.000000      1.587541e+06\n",
       "max    2019.000000     9.517214e+09               5.000000      8.593407e+07"
      ]
     },
     "execution_count": 4,
     "metadata": {},
     "output_type": "execute_result"
    }
   ],
   "source": [
    "# Descrição do dataset\n",
    "pref_mun_joao_pessoa.describe()"
   ]
  },
  {
   "cell_type": "markdown",
   "metadata": {},
   "source": [
    "Com o método *describe* do Pandas obtemos informações sobre o dataset como:\n",
    "1. count: Quantidade de registros\n",
    "1. mean: Mediana\n",
    "1. std: Desvio padrão\n",
    "1. min: Valor mínimo\n",
    "1. 25%: Primeiro quartil\n",
    "1. 50%: Segundo quartil\n",
    "1. 75%: Terceiro quartil\n",
    "1. máx: Valor máximo"
   ]
  },
  {
   "cell_type": "markdown",
   "metadata": {},
   "source": [
    "Abaixo são demonstrados quais são os tipos de receitas que uma prefeitura como a de João Pessoa recebe por mês."
   ]
  },
  {
   "cell_type": "code",
   "execution_count": 5,
   "metadata": {},
   "outputs": [
    {
     "data": {
      "image/png": "[encoded data removed]",
      "text/plain": [
       "<Figure size 1080x360 with 1 Axes>"
      ]
     },
     "metadata": {
      "needs_background": "light"
     },
     "output_type": "display_data"
    }
   ],
   "source": [
    "# Mostrar os tipos de receitas que o Município recebe.\n",
    "# Aqui, os valores não são referentes ao total em receita, mas quantas vezes aparece no dataset.\n",
    "show_value_counts(pref_mun_joao_pessoa['de_receitaorcug'],size=10,column_desc='Tipos de receitas',height=5)"
   ]
  },
  {
   "cell_type": "markdown",
   "metadata": {},
   "source": [
    "Para o estudo, as entradas cujo o ano seja de 2019 serão descartadas, pois iremos trabalhar com os anos fechados de receitas recebidas. Para isso os índices das linhas que possuem o ano de 2019 são selecionadas para serem removidas do Dataframe."
   ]
  },
  {
   "cell_type": "code",
   "execution_count": 6,
   "metadata": {},
   "outputs": [
    {
     "data": {
      "text/html": [
       "<div>\n",
       "<style scoped>\n",
       "    .dataframe tbody tr th:only-of-type {\n",
       "        vertical-align: middle;\n",
       "    }\n",
       "\n",
       "    .dataframe tbody tr th {\n",
       "        vertical-align: top;\n",
       "    }\n",
       "\n",
       "    .dataframe thead th {\n",
       "        text-align: right;\n",
       "    }\n",
       "</style>\n",
       "<table border=\"1\" class=\"dataframe\">\n",
       "  <thead>\n",
       "    <tr style=\"text-align: right;\">\n",
       "      <th></th>\n",
       "      <th>cd_ugestora</th>\n",
       "      <th>de_ugestora</th>\n",
       "      <th>dt_ano</th>\n",
       "      <th>cd_receitaorcug</th>\n",
       "      <th>de_receitaorcug</th>\n",
       "      <th>tp_atualizacaoreceita</th>\n",
       "      <th>de_atualizacaoreceita</th>\n",
       "      <th>vl_lancamentoOrc</th>\n",
       "      <th>dt_mesano</th>\n",
       "    </tr>\n",
       "  </thead>\n",
       "  <tbody>\n",
       "    <tr>\n",
       "      <th>486833</th>\n",
       "      <td>201095</td>\n",
       "      <td>Prefeitura Municipal de João Pessoa</td>\n",
       "      <td>2004</td>\n",
       "      <td>11120800</td>\n",
       "      <td>IMPOSTO SOBRE TRANSMISSAO -\"INTER VIVOS\" DE BE...</td>\n",
       "      <td>1</td>\n",
       "      <td>Lançamento de receita</td>\n",
       "      <td>702074.41</td>\n",
       "      <td>012004</td>\n",
       "    </tr>\n",
       "    <tr>\n",
       "      <th>486834</th>\n",
       "      <td>201095</td>\n",
       "      <td>Prefeitura Municipal de João Pessoa</td>\n",
       "      <td>2004</td>\n",
       "      <td>11120800</td>\n",
       "      <td>IMPOSTO SOBRE TRANSMISSAO -\"INTER VIVOS\" DE BE...</td>\n",
       "      <td>1</td>\n",
       "      <td>Lançamento de receita</td>\n",
       "      <td>495731.36</td>\n",
       "      <td>022004</td>\n",
       "    </tr>\n",
       "    <tr>\n",
       "      <th>486835</th>\n",
       "      <td>201095</td>\n",
       "      <td>Prefeitura Municipal de João Pessoa</td>\n",
       "      <td>2004</td>\n",
       "      <td>11120800</td>\n",
       "      <td>IMPOSTO SOBRE TRANSMISSAO -\"INTER VIVOS\" DE BE...</td>\n",
       "      <td>1</td>\n",
       "      <td>Lançamento de receita</td>\n",
       "      <td>684563.07</td>\n",
       "      <td>032004</td>\n",
       "    </tr>\n",
       "    <tr>\n",
       "      <th>486836</th>\n",
       "      <td>201095</td>\n",
       "      <td>Prefeitura Municipal de João Pessoa</td>\n",
       "      <td>2004</td>\n",
       "      <td>11120800</td>\n",
       "      <td>IMPOSTO SOBRE TRANSMISSAO -\"INTER VIVOS\" DE BE...</td>\n",
       "      <td>1</td>\n",
       "      <td>Lançamento de receita</td>\n",
       "      <td>504136.72</td>\n",
       "      <td>042004</td>\n",
       "    </tr>\n",
       "    <tr>\n",
       "      <th>486837</th>\n",
       "      <td>201095</td>\n",
       "      <td>Prefeitura Municipal de João Pessoa</td>\n",
       "      <td>2004</td>\n",
       "      <td>11120800</td>\n",
       "      <td>IMPOSTO SOBRE TRANSMISSAO -\"INTER VIVOS\" DE BE...</td>\n",
       "      <td>1</td>\n",
       "      <td>Lançamento de receita</td>\n",
       "      <td>580640.06</td>\n",
       "      <td>052004</td>\n",
       "    </tr>\n",
       "  </tbody>\n",
       "</table>\n",
       "</div>"
      ],
      "text/plain": [
       "       cd_ugestora                          de_ugestora  dt_ano  \\\n",
       "486833      201095  Prefeitura Municipal de João Pessoa    2004   \n",
       "486834      201095  Prefeitura Municipal de João Pessoa    2004   \n",
       "486835      201095  Prefeitura Municipal de João Pessoa    2004   \n",
       "486836      201095  Prefeitura Municipal de João Pessoa    2004   \n",
       "486837      201095  Prefeitura Municipal de João Pessoa    2004   \n",
       "\n",
       "        cd_receitaorcug                                    de_receitaorcug  \\\n",
       "486833         11120800  IMPOSTO SOBRE TRANSMISSAO -\"INTER VIVOS\" DE BE...   \n",
       "486834         11120800  IMPOSTO SOBRE TRANSMISSAO -\"INTER VIVOS\" DE BE...   \n",
       "486835         11120800  IMPOSTO SOBRE TRANSMISSAO -\"INTER VIVOS\" DE BE...   \n",
       "486836         11120800  IMPOSTO SOBRE TRANSMISSAO -\"INTER VIVOS\" DE BE...   \n",
       "486837         11120800  IMPOSTO SOBRE TRANSMISSAO -\"INTER VIVOS\" DE BE...   \n",
       "\n",
       "        tp_atualizacaoreceita  de_atualizacaoreceita  vl_lancamentoOrc  \\\n",
       "486833                      1  Lançamento de receita         702074.41   \n",
       "486834                      1  Lançamento de receita         495731.36   \n",
       "486835                      1  Lançamento de receita         684563.07   \n",
       "486836                      1  Lançamento de receita         504136.72   \n",
       "486837                      1  Lançamento de receita         580640.06   \n",
       "\n",
       "       dt_mesano  \n",
       "486833    012004  \n",
       "486834    022004  \n",
       "486835    032004  \n",
       "486836    042004  \n",
       "486837    052004  "
      ]
     },
     "execution_count": 6,
     "metadata": {},
     "output_type": "execute_result"
    }
   ],
   "source": [
    "# Seleção dos índices\n",
    "indexAno2019 = pref_mun_joao_pessoa[pref_mun_joao_pessoa['dt_ano'] == 2019].index\n",
    "\n",
    "# Remoção do Dataframe\n",
    "pref_mun_joao_pessoa = pref_mun_joao_pessoa.drop(index=indexAno2019)\n",
    "pref_mun_joao_pessoa.head()"
   ]
  },
  {
   "cell_type": "markdown",
   "metadata": {},
   "source": [
    "Após isso, é verificado se o dataset possui colunas com dados nulos, o que não ocorre no nosso caso."
   ]
  },
  {
   "cell_type": "code",
   "execution_count": 7,
   "metadata": {},
   "outputs": [
    {
     "data": {
      "text/plain": [
       "cd_ugestora              False\n",
       "de_ugestora              False\n",
       "dt_ano                   False\n",
       "cd_receitaorcug          False\n",
       "de_receitaorcug          False\n",
       "tp_atualizacaoreceita    False\n",
       "de_atualizacaoreceita    False\n",
       "vl_lancamentoOrc         False\n",
       "dt_mesano                False\n",
       "dtype: bool"
      ]
     },
     "execution_count": 7,
     "metadata": {},
     "output_type": "execute_result"
    }
   ],
   "source": [
    "# Identificando valores Nulos em colunas\n",
    "pref_mun_joao_pessoa.isna().any()"
   ]
  },
  {
   "cell_type": "markdown",
   "metadata": {},
   "source": [
    "Analisando outras entidade públicas no dataset, identiquei que algumas delas possuiam datas com meses incoerentes, como `13` por exemplo. Assim, vou verificar na coluna **dt_mesano** e pegar os 2 primeiros dígitos do meses (formato MMYYYY) e listar para verificar se algum possui esse dado incoerente."
   ]
  },
  {
   "cell_type": "code",
   "execution_count": 8,
   "metadata": {},
   "outputs": [
    {
     "data": {
      "text/plain": [
       "12    673\n",
       "07    646\n",
       "08    638\n",
       "10    637\n",
       "06    634\n",
       "11    630\n",
       "05    626\n",
       "09    626\n",
       "04    618\n",
       "01    605\n",
       "03    604\n",
       "02    579\n",
       "Name: dt_mesano, dtype: int64"
      ]
     },
     "execution_count": 8,
     "metadata": {},
     "output_type": "execute_result"
    }
   ],
   "source": [
    "# Certificando se possuem meses incoerentes\n",
    "pref_mun_joao_pessoa.dt_mesano.str.slice(0,2).value_counts()"
   ]
  },
  {
   "cell_type": "markdown",
   "metadata": {},
   "source": [
    "Nesse caso os dados só possuem valores de meses válidos.\n",
    "\n",
    "Sabendo que os dados da coluna **dt_mesano** estão coerentes, vou mudar o tipo de dado da coluna pata `datetime`."
   ]
  },
  {
   "cell_type": "code",
   "execution_count": 9,
   "metadata": {},
   "outputs": [],
   "source": [
    "# Convertendo a coluna Mês/Ano em Datetime\n",
    "pref_mun_joao_pessoa['dt_mesano'] = pd.to_datetime(pref_mun_joao_pessoa['dt_mesano'], format='%m%Y')"
   ]
  },
  {
   "cell_type": "markdown",
   "metadata": {},
   "source": [
    "Com o dataset suficientemente validado, podemos iniciar o processo de análise dos dados."
   ]
  },
  {
   "cell_type": "markdown",
   "metadata": {},
   "source": [
    "### Análise inicial do dados e obtenção de informações do dataset\n",
    "\n",
    "Para iniciar o estudo do dataset, alguns questionamentos vieram a mente:\n",
    "\n",
    "1. Quais os valores recebidos por ano?\n",
    "1. Quais os valores recebidos por mês/ano?\n",
    "1. Quais são as top 5 tipos de receita que mais geram receita ao Município?\n",
    "1. Como se comporta a série temporal do total de receitas mês/ano do Município (2003-2018)?\n",
    "1. Como se fazer forecasting de valores orçamentários baseados no dataset?\n",
    "1. Utilizando o Prophet do Facebook para gerar predições da série temporal\n",
    "\n",
    "Bem, vamos começar pela primeira pergunta:\n",
    "\n",
    "#### 1. Quais os valores recebidos por ano?\n",
    "\n",
    "Para responder a essa pergunta, vamos primeiro remover as colunas que não agregam informação para isso em um novo Dataframe."
   ]
  },
  {
   "cell_type": "code",
   "execution_count": 10,
   "metadata": {
    "scrolled": true
   },
   "outputs": [
    {
     "data": {
      "text/html": [
       "<div>\n",
       "<style scoped>\n",
       "    .dataframe tbody tr th:only-of-type {\n",
       "        vertical-align: middle;\n",
       "    }\n",
       "\n",
       "    .dataframe tbody tr th {\n",
       "        vertical-align: top;\n",
       "    }\n",
       "\n",
       "    .dataframe thead th {\n",
       "        text-align: right;\n",
       "    }\n",
       "</style>\n",
       "<table border=\"1\" class=\"dataframe\">\n",
       "  <thead>\n",
       "    <tr style=\"text-align: right;\">\n",
       "      <th></th>\n",
       "      <th>dt_ano</th>\n",
       "      <th>vl_lancamentoOrc</th>\n",
       "    </tr>\n",
       "  </thead>\n",
       "  <tbody>\n",
       "    <tr>\n",
       "      <th>486833</th>\n",
       "      <td>2004</td>\n",
       "      <td>702074.41</td>\n",
       "    </tr>\n",
       "    <tr>\n",
       "      <th>486834</th>\n",
       "      <td>2004</td>\n",
       "      <td>495731.36</td>\n",
       "    </tr>\n",
       "    <tr>\n",
       "      <th>486835</th>\n",
       "      <td>2004</td>\n",
       "      <td>684563.07</td>\n",
       "    </tr>\n",
       "    <tr>\n",
       "      <th>486836</th>\n",
       "      <td>2004</td>\n",
       "      <td>504136.72</td>\n",
       "    </tr>\n",
       "    <tr>\n",
       "      <th>486837</th>\n",
       "      <td>2004</td>\n",
       "      <td>580640.06</td>\n",
       "    </tr>\n",
       "  </tbody>\n",
       "</table>\n",
       "</div>"
      ],
      "text/plain": [
       "        dt_ano  vl_lancamentoOrc\n",
       "486833    2004         702074.41\n",
       "486834    2004         495731.36\n",
       "486835    2004         684563.07\n",
       "486836    2004         504136.72\n",
       "486837    2004         580640.06"
      ]
     },
     "execution_count": 10,
     "metadata": {},
     "output_type": "execute_result"
    }
   ],
   "source": [
    "# Criar novo dataframe apenas com os dados que importam\n",
    "receitas_por_ano = pref_mun_joao_pessoa.drop(columns=['cd_ugestora','de_ugestora','cd_receitaorcug','de_receitaorcug','tp_atualizacaoreceita','de_atualizacaoreceita','dt_mesano'])\n",
    "receitas_por_ano.head()"
   ]
  },
  {
   "cell_type": "markdown",
   "metadata": {},
   "source": [
    "Aqui temos as várias entradas de receitas por mês dos anos de 2003 a 2018. No momento, queremos esses valores agrupados e somados por ano."
   ]
  },
  {
   "cell_type": "code",
   "execution_count": 11,
   "metadata": {},
   "outputs": [],
   "source": [
    "# Agrupar e calcular a soma da coluna vl_lancamentoOrc\n",
    "receitas_por_ano['total'] = receitas_por_ano.groupby('dt_ano').transform('sum')\n",
    "receitas_por_ano = receitas_por_ano.drop(columns=['vl_lancamentoOrc'])"
   ]
  },
  {
   "cell_type": "code",
   "execution_count": 12,
   "metadata": {},
   "outputs": [],
   "source": [
    "# Removendo duplicatas e ordenando pelo ano\n",
    "receitas_por_ano.drop_duplicates(keep='first', inplace=True)\n",
    "receitas_por_ano.sort_values(by=['dt_ano'],ascending=True,inplace=True)"
   ]
  },
  {
   "cell_type": "code",
   "execution_count": 13,
   "metadata": {},
   "outputs": [
    {
     "data": {
      "text/html": [
       "<div>\n",
       "<style scoped>\n",
       "    .dataframe tbody tr th:only-of-type {\n",
       "        vertical-align: middle;\n",
       "    }\n",
       "\n",
       "    .dataframe tbody tr th {\n",
       "        vertical-align: top;\n",
       "    }\n",
       "\n",
       "    .dataframe thead th {\n",
       "        text-align: right;\n",
       "    }\n",
       "</style>\n",
       "<table border=\"1\" class=\"dataframe\">\n",
       "  <thead>\n",
       "    <tr style=\"text-align: right;\">\n",
       "      <th></th>\n",
       "      <th>total</th>\n",
       "    </tr>\n",
       "    <tr>\n",
       "      <th>dt_ano</th>\n",
       "      <th></th>\n",
       "    </tr>\n",
       "  </thead>\n",
       "  <tbody>\n",
       "    <tr>\n",
       "      <th>2003</th>\n",
       "      <td>4.269491e+08</td>\n",
       "    </tr>\n",
       "    <tr>\n",
       "      <th>2004</th>\n",
       "      <td>5.309502e+08</td>\n",
       "    </tr>\n",
       "    <tr>\n",
       "      <th>2005</th>\n",
       "      <td>6.393762e+08</td>\n",
       "    </tr>\n",
       "    <tr>\n",
       "      <th>2006</th>\n",
       "      <td>7.121140e+08</td>\n",
       "    </tr>\n",
       "    <tr>\n",
       "      <th>2007</th>\n",
       "      <td>8.121067e+08</td>\n",
       "    </tr>\n",
       "  </tbody>\n",
       "</table>\n",
       "</div>"
      ],
      "text/plain": [
       "               total\n",
       "dt_ano              \n",
       "2003    4.269491e+08\n",
       "2004    5.309502e+08\n",
       "2005    6.393762e+08\n",
       "2006    7.121140e+08\n",
       "2007    8.121067e+08"
      ]
     },
     "execution_count": 13,
     "metadata": {},
     "output_type": "execute_result"
    }
   ],
   "source": [
    "# Definindo o ano como índice\n",
    "receitas_por_ano.set_index('dt_ano',inplace=True)\n",
    "receitas_por_ano.head()"
   ]
  },
  {
   "cell_type": "markdown",
   "metadata": {},
   "source": [
    "Agora podemos exibir o primeiro gráfico, o de totais de receitas por ano."
   ]
  },
  {
   "cell_type": "code",
   "execution_count": 14,
   "metadata": {},
   "outputs": [
    {
     "data": {
      "image/png": "[encoded data removed]",
      "text/plain": [
       "<Figure size 432x288 with 1 Axes>"
      ]
     },
     "metadata": {
      "needs_background": "light"
     },
     "output_type": "display_data"
    }
   ],
   "source": [
    "# Plotando gráfico: Total de recebimentos x Ano\n",
    "ax = receitas_por_ano.plot(kind='bar',color='lightblue',title='Total de Receitas x Ano')\n",
    "\n",
    "ax.set_ylabel('Total em Milhões')\n",
    "ax.set_xlabel('Ano')\n",
    "\n",
    "plt.show()"
   ]
  },
  {
   "cell_type": "markdown",
   "metadata": {},
   "source": [
    "Como demonstrado no gráfico acima, o ano de 2018 foi o ano que mais acumulou receitas desde 2003. Abaixo temos um resumo de informações sobre o dados do agrupamento desses valores, como os quartis(25%, 50% e 75%), a média (mean), o desvio padrão (std) e os valores máximos e mínimos.\n",
    "\n",
    "Mais abaixo, temos um gráfico bloxplot que evidencia essas informação graficamente."
   ]
  },
  {
   "cell_type": "code",
   "execution_count": 15,
   "metadata": {},
   "outputs": [
    {
     "data": {
      "text/html": [
       "<div>\n",
       "<style scoped>\n",
       "    .dataframe tbody tr th:only-of-type {\n",
       "        vertical-align: middle;\n",
       "    }\n",
       "\n",
       "    .dataframe tbody tr th {\n",
       "        vertical-align: top;\n",
       "    }\n",
       "\n",
       "    .dataframe thead th {\n",
       "        text-align: right;\n",
       "    }\n",
       "</style>\n",
       "<table border=\"1\" class=\"dataframe\">\n",
       "  <thead>\n",
       "    <tr style=\"text-align: right;\">\n",
       "      <th></th>\n",
       "      <th>total</th>\n",
       "    </tr>\n",
       "  </thead>\n",
       "  <tbody>\n",
       "    <tr>\n",
       "      <th>count</th>\n",
       "      <td>1.600000e+01</td>\n",
       "    </tr>\n",
       "    <tr>\n",
       "      <th>mean</th>\n",
       "      <td>1.096098e+09</td>\n",
       "    </tr>\n",
       "    <tr>\n",
       "      <th>std</th>\n",
       "      <td>4.466808e+08</td>\n",
       "    </tr>\n",
       "    <tr>\n",
       "      <th>min</th>\n",
       "      <td>4.269491e+08</td>\n",
       "    </tr>\n",
       "    <tr>\n",
       "      <th>25%</th>\n",
       "      <td>7.600471e+08</td>\n",
       "    </tr>\n",
       "    <tr>\n",
       "      <th>50%</th>\n",
       "      <td>1.019998e+09</td>\n",
       "    </tr>\n",
       "    <tr>\n",
       "      <th>75%</th>\n",
       "      <td>1.559869e+09</td>\n",
       "    </tr>\n",
       "    <tr>\n",
       "      <th>max</th>\n",
       "      <td>1.787108e+09</td>\n",
       "    </tr>\n",
       "  </tbody>\n",
       "</table>\n",
       "</div>"
      ],
      "text/plain": [
       "              total\n",
       "count  1.600000e+01\n",
       "mean   1.096098e+09\n",
       "std    4.466808e+08\n",
       "min    4.269491e+08\n",
       "25%    7.600471e+08\n",
       "50%    1.019998e+09\n",
       "75%    1.559869e+09\n",
       "max    1.787108e+09"
      ]
     },
     "execution_count": 15,
     "metadata": {},
     "output_type": "execute_result"
    }
   ],
   "source": [
    "# Informações sobre o desvio padrão, valores máximo e mínimo e os percentiles.\n",
    "receitas_por_ano.describe()"
   ]
  },
  {
   "cell_type": "code",
   "execution_count": 16,
   "metadata": {},
   "outputs": [
    {
     "data": {
      "text/plain": [
       "<matplotlib.axes._subplots.AxesSubplot at 0x7f7c92963b38>"
      ]
     },
     "execution_count": 16,
     "metadata": {},
     "output_type": "execute_result"
    },
    {
     "data": {
      "image/png": "[encoded data removed]",
      "text/plain": [
       "<Figure size 432x288 with 1 Axes>"
      ]
     },
     "metadata": {
      "needs_background": "light"
     },
     "output_type": "display_data"
    }
   ],
   "source": [
    "# Gráfico bolxplot dos totais de receitas recebidas entre os anos de 2003 e 2018\n",
    "receitas_por_ano.boxplot()"
   ]
  },
  {
   "cell_type": "code",
   "execution_count": 17,
   "metadata": {},
   "outputs": [
    {
     "data": {
      "text/plain": [
       "total    2018\n",
       "dtype: int64"
      ]
     },
     "execution_count": 17,
     "metadata": {},
     "output_type": "execute_result"
    }
   ],
   "source": [
    "# Ano que ocorreu o maior valor total de receitas\n",
    "receitas_por_ano.idxmax(axis=0)"
   ]
  },
  {
   "cell_type": "code",
   "execution_count": 18,
   "metadata": {},
   "outputs": [
    {
     "data": {
      "text/plain": [
       "'R$ 1.787.107.723,33'"
      ]
     },
     "execution_count": 18,
     "metadata": {},
     "output_type": "execute_result"
    }
   ],
   "source": [
    "# Maior valor total de receitas recebidos em um mesmo ano\n",
    "em_reais(receitas_por_ano.loc[2018]['total'])"
   ]
  },
  {
   "cell_type": "markdown",
   "metadata": {},
   "source": [
    "Com o gráfico fica mais evidente a proporção dos valores recebidos por ano, e com isso pudemos identificar o ano que mais acumulou receita e o valor total acumulado.\n",
    "\n",
    "**2018: R$ 1.787.108.000,00**"
   ]
  },
  {
   "cell_type": "markdown",
   "metadata": {},
   "source": [
    "#### 2. Quais os valores recebidos por mês/ano?\n",
    "\n",
    "A análise aqui será similar a da pergunta anterior, mas levando em consideração da coluna **dt_mesano** ao invés da **dt_ano**."
   ]
  },
  {
   "cell_type": "code",
   "execution_count": 19,
   "metadata": {},
   "outputs": [
    {
     "data": {
      "text/html": [
       "<div>\n",
       "<style scoped>\n",
       "    .dataframe tbody tr th:only-of-type {\n",
       "        vertical-align: middle;\n",
       "    }\n",
       "\n",
       "    .dataframe tbody tr th {\n",
       "        vertical-align: top;\n",
       "    }\n",
       "\n",
       "    .dataframe thead th {\n",
       "        text-align: right;\n",
       "    }\n",
       "</style>\n",
       "<table border=\"1\" class=\"dataframe\">\n",
       "  <thead>\n",
       "    <tr style=\"text-align: right;\">\n",
       "      <th></th>\n",
       "      <th>vl_lancamentoOrc</th>\n",
       "      <th>dt_mesano</th>\n",
       "    </tr>\n",
       "  </thead>\n",
       "  <tbody>\n",
       "    <tr>\n",
       "      <th>486833</th>\n",
       "      <td>702074.41</td>\n",
       "      <td>2004-01-01</td>\n",
       "    </tr>\n",
       "    <tr>\n",
       "      <th>486834</th>\n",
       "      <td>495731.36</td>\n",
       "      <td>2004-02-01</td>\n",
       "    </tr>\n",
       "    <tr>\n",
       "      <th>486835</th>\n",
       "      <td>684563.07</td>\n",
       "      <td>2004-03-01</td>\n",
       "    </tr>\n",
       "    <tr>\n",
       "      <th>486836</th>\n",
       "      <td>504136.72</td>\n",
       "      <td>2004-04-01</td>\n",
       "    </tr>\n",
       "    <tr>\n",
       "      <th>486837</th>\n",
       "      <td>580640.06</td>\n",
       "      <td>2004-05-01</td>\n",
       "    </tr>\n",
       "  </tbody>\n",
       "</table>\n",
       "</div>"
      ],
      "text/plain": [
       "        vl_lancamentoOrc  dt_mesano\n",
       "486833         702074.41 2004-01-01\n",
       "486834         495731.36 2004-02-01\n",
       "486835         684563.07 2004-03-01\n",
       "486836         504136.72 2004-04-01\n",
       "486837         580640.06 2004-05-01"
      ]
     },
     "execution_count": 19,
     "metadata": {},
     "output_type": "execute_result"
    }
   ],
   "source": [
    "# Criar novo dataframe apenas com os dados que importam\n",
    "receitas_por_mes_ano = pref_mun_joao_pessoa.drop(columns=['cd_ugestora','de_ugestora','cd_receitaorcug','de_receitaorcug','tp_atualizacaoreceita','de_atualizacaoreceita','dt_ano'])\n",
    "receitas_por_mes_ano.head()"
   ]
  },
  {
   "cell_type": "code",
   "execution_count": 20,
   "metadata": {},
   "outputs": [],
   "source": [
    "# Agrupar e calcular a soma da coluna vl_lancamentoOrc\n",
    "receitas_por_mes_ano['total'] = receitas_por_mes_ano.groupby('dt_mesano').transform('sum')\n",
    "receitas_por_mes_ano = receitas_por_mes_ano.drop(columns=['vl_lancamentoOrc'])"
   ]
  },
  {
   "cell_type": "code",
   "execution_count": 21,
   "metadata": {},
   "outputs": [],
   "source": [
    "# Removendo duplicatas\n",
    "receitas_por_mes_ano.drop_duplicates(keep='first', inplace=True)\n",
    "receitas_por_mes_ano.sort_values(by=['dt_mesano'],ascending=True,inplace=True)"
   ]
  },
  {
   "cell_type": "code",
   "execution_count": 22,
   "metadata": {},
   "outputs": [
    {
     "data": {
      "text/html": [
       "<div>\n",
       "<style scoped>\n",
       "    .dataframe tbody tr th:only-of-type {\n",
       "        vertical-align: middle;\n",
       "    }\n",
       "\n",
       "    .dataframe tbody tr th {\n",
       "        vertical-align: top;\n",
       "    }\n",
       "\n",
       "    .dataframe thead th {\n",
       "        text-align: right;\n",
       "    }\n",
       "</style>\n",
       "<table border=\"1\" class=\"dataframe\">\n",
       "  <thead>\n",
       "    <tr style=\"text-align: right;\">\n",
       "      <th></th>\n",
       "      <th>total</th>\n",
       "    </tr>\n",
       "    <tr>\n",
       "      <th>dt_mesano</th>\n",
       "      <th></th>\n",
       "    </tr>\n",
       "  </thead>\n",
       "  <tbody>\n",
       "    <tr>\n",
       "      <th>2003-01-01</th>\n",
       "      <td>46923205.80</td>\n",
       "    </tr>\n",
       "    <tr>\n",
       "      <th>2003-02-01</th>\n",
       "      <td>31463697.81</td>\n",
       "    </tr>\n",
       "    <tr>\n",
       "      <th>2003-03-01</th>\n",
       "      <td>34147830.15</td>\n",
       "    </tr>\n",
       "    <tr>\n",
       "      <th>2003-04-01</th>\n",
       "      <td>29138516.65</td>\n",
       "    </tr>\n",
       "    <tr>\n",
       "      <th>2003-05-01</th>\n",
       "      <td>38139457.19</td>\n",
       "    </tr>\n",
       "  </tbody>\n",
       "</table>\n",
       "</div>"
      ],
      "text/plain": [
       "                  total\n",
       "dt_mesano              \n",
       "2003-01-01  46923205.80\n",
       "2003-02-01  31463697.81\n",
       "2003-03-01  34147830.15\n",
       "2003-04-01  29138516.65\n",
       "2003-05-01  38139457.19"
      ]
     },
     "execution_count": 22,
     "metadata": {},
     "output_type": "execute_result"
    }
   ],
   "source": [
    "# Definindo o mês/ano como índice\n",
    "receitas_por_mes_ano.set_index('dt_mesano',inplace=True)\n",
    "receitas_por_mes_ano.head()"
   ]
  },
  {
   "cell_type": "markdown",
   "metadata": {},
   "source": [
    "Como os dados tratados aqui agora são os meses do ano, a visualização do gráfico utilizando barras não fica bom pois serão plotados os 190 meses e as informações sobre os meses no eixo X ficarão sobrepostos. Portanto vou criar um gráfico em linha. Isso também irá nos ambientar para nosso futuro estudo sobre a série temporal orçamentária."
   ]
  },
  {
   "cell_type": "code",
   "execution_count": 23,
   "metadata": {},
   "outputs": [
    {
     "data": {
      "image/png": "[encoded data removed]",
      "text/plain": [
       "<Figure size 432x288 with 1 Axes>"
      ]
     },
     "metadata": {
      "needs_background": "light"
     },
     "output_type": "display_data"
    }
   ],
   "source": [
    "# Plotando gráfico: Total de recebimentos x Mês/Ano\n",
    "ax = receitas_por_mes_ano.plot(kind='line',color='lightblue',title='Total de Recebimentos x Mês/Ano')\n",
    "\n",
    "ax.set_ylabel('Total em Milhões')\n",
    "ax.set_xlabel('Mês/Ano')\n",
    "\n",
    "plt.show()"
   ]
  },
  {
   "cell_type": "code",
   "execution_count": 24,
   "metadata": {},
   "outputs": [
    {
     "data": {
      "text/html": [
       "<div>\n",
       "<style scoped>\n",
       "    .dataframe tbody tr th:only-of-type {\n",
       "        vertical-align: middle;\n",
       "    }\n",
       "\n",
       "    .dataframe tbody tr th {\n",
       "        vertical-align: top;\n",
       "    }\n",
       "\n",
       "    .dataframe thead th {\n",
       "        text-align: right;\n",
       "    }\n",
       "</style>\n",
       "<table border=\"1\" class=\"dataframe\">\n",
       "  <thead>\n",
       "    <tr style=\"text-align: right;\">\n",
       "      <th></th>\n",
       "      <th>total</th>\n",
       "    </tr>\n",
       "  </thead>\n",
       "  <tbody>\n",
       "    <tr>\n",
       "      <th>count</th>\n",
       "      <td>1.920000e+02</td>\n",
       "    </tr>\n",
       "    <tr>\n",
       "      <th>mean</th>\n",
       "      <td>9.134154e+07</td>\n",
       "    </tr>\n",
       "    <tr>\n",
       "      <th>std</th>\n",
       "      <td>3.953522e+07</td>\n",
       "    </tr>\n",
       "    <tr>\n",
       "      <th>min</th>\n",
       "      <td>2.913852e+07</td>\n",
       "    </tr>\n",
       "    <tr>\n",
       "      <th>25%</th>\n",
       "      <td>6.025553e+07</td>\n",
       "    </tr>\n",
       "    <tr>\n",
       "      <th>50%</th>\n",
       "      <td>8.585041e+07</td>\n",
       "    </tr>\n",
       "    <tr>\n",
       "      <th>75%</th>\n",
       "      <td>1.231781e+08</td>\n",
       "    </tr>\n",
       "    <tr>\n",
       "      <th>max</th>\n",
       "      <td>2.294779e+08</td>\n",
       "    </tr>\n",
       "  </tbody>\n",
       "</table>\n",
       "</div>"
      ],
      "text/plain": [
       "              total\n",
       "count  1.920000e+02\n",
       "mean   9.134154e+07\n",
       "std    3.953522e+07\n",
       "min    2.913852e+07\n",
       "25%    6.025553e+07\n",
       "50%    8.585041e+07\n",
       "75%    1.231781e+08\n",
       "max    2.294779e+08"
      ]
     },
     "execution_count": 24,
     "metadata": {},
     "output_type": "execute_result"
    }
   ],
   "source": [
    "# Dados estatísticos\n",
    "receitas_por_mes_ano.describe()"
   ]
  },
  {
   "cell_type": "code",
   "execution_count": 25,
   "metadata": {},
   "outputs": [
    {
     "data": {
      "text/plain": [
       "<matplotlib.axes._subplots.AxesSubplot at 0x7f7c9289bcf8>"
      ]
     },
     "execution_count": 25,
     "metadata": {},
     "output_type": "execute_result"
    },
    {
     "data": {
      "image/png": "[encoded data removed]",
      "text/plain": [
       "<Figure size 432x288 with 1 Axes>"
      ]
     },
     "metadata": {
      "needs_background": "light"
     },
     "output_type": "display_data"
    }
   ],
   "source": [
    "# Gráfico Bloxplot com os quartis, outliers, valores mínimos e máximos (desconsiderando os outliers)\n",
    "receitas_por_mes_ano.boxplot()"
   ]
  },
  {
   "cell_type": "markdown",
   "metadata": {},
   "source": [
    "Direfentemente do gráfico bloxpot criado com os totais por ano, neste gráfico são mostrados 2 valores considerados **outliers**. São exatamente os dois picos de valores mostrados no gráfico anterior. São os meses de dezembro de 2014 e dezembro de 2018, como evidenciados abaixo:"
   ]
  },
  {
   "cell_type": "code",
   "execution_count": 26,
   "metadata": {},
   "outputs": [
    {
     "data": {
      "text/plain": [
       "dt_mesano\n",
       "2014-12-01    2.294779e+08\n",
       "2018-12-01    2.177838e+08\n",
       "Name: total, dtype: float64"
      ]
     },
     "execution_count": 26,
     "metadata": {},
     "output_type": "execute_result"
    }
   ],
   "source": [
    "# 2 meses com maior volume de receitas\n",
    "receitas_por_mes_ano.total.nlargest(n=2)"
   ]
  },
  {
   "cell_type": "code",
   "execution_count": 27,
   "metadata": {},
   "outputs": [
    {
     "data": {
      "text/plain": [
       "'R$ 229.477.921,05'"
      ]
     },
     "execution_count": 27,
     "metadata": {},
     "output_type": "execute_result"
    }
   ],
   "source": [
    "# Valor formatado em reais de dezembro de 2014\n",
    "em_reais(receitas_por_mes_ano.loc['2014-12-01']['total'])"
   ]
  },
  {
   "cell_type": "code",
   "execution_count": 28,
   "metadata": {},
   "outputs": [
    {
     "data": {
      "text/plain": [
       "'R$ 217.783.839,04'"
      ]
     },
     "execution_count": 28,
     "metadata": {},
     "output_type": "execute_result"
    }
   ],
   "source": [
    "# Valor formatado em reais de dezembro de 2018\n",
    "em_reais(receitas_por_mes_ano.loc['2018-12-01']['total'])"
   ]
  },
  {
   "cell_type": "markdown",
   "metadata": {},
   "source": [
    "#### 3. Quais são as top 5 tipos de receita que mais geram receita ao Município?"
   ]
  },
  {
   "cell_type": "code",
   "execution_count": null,
   "metadata": {},
   "outputs": [],
   "source": []
  },
  {
   "cell_type": "code",
   "execution_count": null,
   "metadata": {},
   "outputs": [],
   "source": []
  },
  {
   "cell_type": "code",
   "execution_count": null,
   "metadata": {},
   "outputs": [],
   "source": []
  },
  {
   "cell_type": "code",
   "execution_count": null,
   "metadata": {},
   "outputs": [],
   "source": []
  },
  {
   "cell_type": "markdown",
   "metadata": {},
   "source": [
    "#### 4. Como se comporta a série temporal do total de receitas mês/ano do Município (2003-2018)?\n"
   ]
  },
  {
   "cell_type": "markdown",
   "metadata": {},
   "source": [
    "Agora vamos iniciar nosso estudo sobre o gráfico criado apartir das receitas recebidas por mês pela Prefeitura Municipal de João Pessoa durante os anos de 2003 e 2018. A motivação é identificar no gráfico características de **Tendência, Variação e Sazonalidade**. Vejamos o gráfico abaixo:"
   ]
  },
  {
   "cell_type": "code",
   "execution_count": 41,
   "metadata": {},
   "outputs": [
    {
     "data": {
      "image/png": "[encoded data removed]",
      "text/plain": [
       "<Figure size 1080x432 with 1 Axes>"
      ]
     },
     "metadata": {
      "needs_background": "light"
     },
     "output_type": "display_data"
    }
   ],
   "source": [
    "# Plotando gráfico: Total de recebimentos x Mês/Ano\n",
    "ax = receitas_por_mes_ano.plot(kind='line',color='lightblue',title='Total de Recebimentos x Mês/Ano')\n",
    "\n",
    "ax.set_ylabel('Total em Milhões')\n",
    "ax.set_xlabel('Mês/Ano')\n",
    "\n",
    "plt.show()"
   ]
  },
  {
   "cell_type": "markdown",
   "metadata": {},
   "source": [
    "Com o passar dos anos é esperado que o volume de receitas aumente devido a reajustes nos valores cobrado pelos impostos e serviços ou até pelo aumento da população na cidade de João Pessoa. Isso é evidenciado no gráfico pela crescente curva do volume de das arrecadações, portanto podemos afirmar que esse gráfico tem uma **Tendência crescente**.  \n",
    "  \n",
    "A alternância dos valores (quedas e altas) presente ao longo de 1 ano nos ajuda a perceber que as arrecadações das receitas mensais variam, o que pode ser explicado devido ao fato de que alguns impostos, responsáveis por boa parte das arrecadações, são sazonais como o IPVA e IPTU. O IPVA possui uma tabela bem definida onde as arrecadações devem ser feitas respeitando os prazos baseados no final das placas dos veículos e o IPTU possuem datas limites que ficam em torno do mês de abril, evidenciando uma **sazonalidade** dos valores no gráfico. Levando em consideração esses fatos, vamos considerar que o **ciclo desta série seja anual**, ou seja, de janeiro a janeiro e confirmando a **variação** da série entre os ciclos."
   ]
  },
  {
   "cell_type": "markdown",
   "metadata": {},
   "source": [
    "##### Outliers\n",
    "  \n",
    "Outra questão a ser debatida aqui são os 2 outliers identificados previamente. Para isso vamos exibir o gráfico bloxplot novamente aqui."
   ]
  },
  {
   "cell_type": "code",
   "execution_count": 30,
   "metadata": {},
   "outputs": [
    {
     "data": {
      "text/plain": [
       "<matplotlib.axes._subplots.AxesSubplot at 0x7f7c9267b940>"
      ]
     },
     "execution_count": 30,
     "metadata": {},
     "output_type": "execute_result"
    },
    {
     "data": {
      "image/png": "[encoded data removed]",
      "text/plain": [
       "<Figure size 432x288 with 1 Axes>"
      ]
     },
     "metadata": {
      "needs_background": "light"
     },
     "output_type": "display_data"
    }
   ],
   "source": [
    "# Gráfico Bloxplot com os quartis, outliers, valores mínimos e máximos (desconsiderando os outliers)\n",
    "receitas_por_mes_ano.boxplot()"
   ]
  },
  {
   "cell_type": "markdown",
   "metadata": {},
   "source": [
    "Analisando os dados tomei a decisão de **não remover os 2 outliers** presentes aqui por 2 motivos. Primeiro o valor da distância ao terceiro percentil foi pequeno (de 2 milhões para 2.27 milhões como no gráfico) e segundo devido a natureza do meu dataset e sendo um dataset de receitas recebidas pelo município e oficializado por um órgão de competência como o Tribunal de Contas do Estado, retratando assim a veracidade dos dados."
   ]
  },
  {
   "cell_type": "markdown",
   "metadata": {},
   "source": [
    "Para comprovar que a série precisa de ajustes e que não é estacionária, podemos executar o teste de **Dickey-Fuller**, que calculará o *p-value* da série, caso o resultado seja inferior a 5% a série é dita como estacionária."
   ]
  },
  {
   "cell_type": "code",
   "execution_count": 31,
   "metadata": {},
   "outputs": [
    {
     "name": "stdout",
     "output_type": "stream",
     "text": [
      "ADF Statistic: -0.028282\n",
      "p-value: 0.956130\n",
      "Critical Values:\n",
      "\t1%: -3.467\n",
      "\t5%: -2.878\n",
      "\t10%: -2.575\n"
     ]
    }
   ],
   "source": [
    "teste_adf(receitas_por_mes_ano.total)"
   ]
  },
  {
   "cell_type": "code",
   "execution_count": 51,
   "metadata": {},
   "outputs": [
    {
     "data": {
      "text/plain": [
       "<matplotlib.axes._subplots.AxesSubplot at 0x7f7c898e4278>"
      ]
     },
     "execution_count": 51,
     "metadata": {},
     "output_type": "execute_result"
    },
    {
     "data": {
      "image/png": "[encoded data removed]",
      "text/plain": [
       "<Figure size 1080x432 with 1 Axes>"
      ]
     },
     "metadata": {
      "needs_background": "light"
     },
     "output_type": "display_data"
    }
   ],
   "source": [
    "receitas_por_mes_ano.boxplot(by=pd.Grouper(freq='Y'))"
   ]
  },
  {
   "cell_type": "code",
   "execution_count": 76,
   "metadata": {},
   "outputs": [
    {
     "data": {
      "text/plain": [
       "<matplotlib.axes._subplots.AxesSubplot at 0x7f7c87ddde48>"
      ]
     },
     "execution_count": 76,
     "metadata": {},
     "output_type": "execute_result"
    },
    {
     "data": {
      "image/png": "[encoded data removed]",
      "text/plain": [
       "<Figure size 1080x432 with 1 Axes>"
      ]
     },
     "metadata": {
      "needs_background": "light"
     },
     "output_type": "display_data"
    }
   ],
   "source": [
    "df = receitas_por_mes_ano.reset_index()\n",
    "df['month'] = df.dt_mesano.dt.month\n",
    "df.boxplot(by='month')"
   ]
  },
  {
   "cell_type": "code",
   "execution_count": 74,
   "metadata": {},
   "outputs": [
    {
     "data": {
      "text/html": [
       "<div>\n",
       "<style scoped>\n",
       "    .dataframe tbody tr th:only-of-type {\n",
       "        vertical-align: middle;\n",
       "    }\n",
       "\n",
       "    .dataframe tbody tr th {\n",
       "        vertical-align: top;\n",
       "    }\n",
       "\n",
       "    .dataframe thead tr th {\n",
       "        text-align: left;\n",
       "    }\n",
       "\n",
       "    .dataframe thead tr:last-of-type th {\n",
       "        text-align: right;\n",
       "    }\n",
       "</style>\n",
       "<table border=\"1\" class=\"dataframe\">\n",
       "  <thead>\n",
       "    <tr>\n",
       "      <th></th>\n",
       "      <th colspan=\"8\" halign=\"left\">total</th>\n",
       "    </tr>\n",
       "    <tr>\n",
       "      <th></th>\n",
       "      <th>count</th>\n",
       "      <th>mean</th>\n",
       "      <th>std</th>\n",
       "      <th>min</th>\n",
       "      <th>25%</th>\n",
       "      <th>50%</th>\n",
       "      <th>75%</th>\n",
       "      <th>max</th>\n",
       "    </tr>\n",
       "    <tr>\n",
       "      <th>dt_mesano</th>\n",
       "      <th></th>\n",
       "      <th></th>\n",
       "      <th></th>\n",
       "      <th></th>\n",
       "      <th></th>\n",
       "      <th></th>\n",
       "      <th></th>\n",
       "      <th></th>\n",
       "    </tr>\n",
       "  </thead>\n",
       "  <tbody>\n",
       "    <tr>\n",
       "      <th>1</th>\n",
       "      <td>16.0</td>\n",
       "      <td>9.087982e+07</td>\n",
       "      <td>3.364453e+07</td>\n",
       "      <td>46923205.80</td>\n",
       "      <td>6.638142e+07</td>\n",
       "      <td>7.932375e+07</td>\n",
       "      <td>1.283489e+08</td>\n",
       "      <td>1.418164e+08</td>\n",
       "    </tr>\n",
       "    <tr>\n",
       "      <th>2</th>\n",
       "      <td>16.0</td>\n",
       "      <td>9.296788e+07</td>\n",
       "      <td>3.957431e+07</td>\n",
       "      <td>31463697.81</td>\n",
       "      <td>5.634493e+07</td>\n",
       "      <td>9.373354e+07</td>\n",
       "      <td>1.294339e+08</td>\n",
       "      <td>1.425276e+08</td>\n",
       "    </tr>\n",
       "    <tr>\n",
       "      <th>3</th>\n",
       "      <td>16.0</td>\n",
       "      <td>9.242065e+07</td>\n",
       "      <td>4.432860e+07</td>\n",
       "      <td>34147830.15</td>\n",
       "      <td>5.513971e+07</td>\n",
       "      <td>8.249644e+07</td>\n",
       "      <td>1.347433e+08</td>\n",
       "      <td>1.694236e+08</td>\n",
       "    </tr>\n",
       "    <tr>\n",
       "      <th>4</th>\n",
       "      <td>16.0</td>\n",
       "      <td>8.729923e+07</td>\n",
       "      <td>4.217517e+07</td>\n",
       "      <td>29138516.65</td>\n",
       "      <td>5.090311e+07</td>\n",
       "      <td>8.251936e+07</td>\n",
       "      <td>1.189085e+08</td>\n",
       "      <td>1.653283e+08</td>\n",
       "    </tr>\n",
       "    <tr>\n",
       "      <th>5</th>\n",
       "      <td>16.0</td>\n",
       "      <td>9.634263e+07</td>\n",
       "      <td>4.390027e+07</td>\n",
       "      <td>38139457.19</td>\n",
       "      <td>6.142005e+07</td>\n",
       "      <td>8.517974e+07</td>\n",
       "      <td>1.346407e+08</td>\n",
       "      <td>1.604214e+08</td>\n",
       "    </tr>\n",
       "    <tr>\n",
       "      <th>6</th>\n",
       "      <td>16.0</td>\n",
       "      <td>8.960357e+07</td>\n",
       "      <td>3.358803e+07</td>\n",
       "      <td>35425200.97</td>\n",
       "      <td>6.047430e+07</td>\n",
       "      <td>9.639303e+07</td>\n",
       "      <td>1.215318e+08</td>\n",
       "      <td>1.371799e+08</td>\n",
       "    </tr>\n",
       "    <tr>\n",
       "      <th>7</th>\n",
       "      <td>16.0</td>\n",
       "      <td>8.265584e+07</td>\n",
       "      <td>3.420601e+07</td>\n",
       "      <td>33442172.52</td>\n",
       "      <td>5.806740e+07</td>\n",
       "      <td>7.349069e+07</td>\n",
       "      <td>1.120911e+08</td>\n",
       "      <td>1.399172e+08</td>\n",
       "    </tr>\n",
       "    <tr>\n",
       "      <th>8</th>\n",
       "      <td>16.0</td>\n",
       "      <td>8.498146e+07</td>\n",
       "      <td>3.297087e+07</td>\n",
       "      <td>33643001.61</td>\n",
       "      <td>5.732862e+07</td>\n",
       "      <td>8.789961e+07</td>\n",
       "      <td>1.074574e+08</td>\n",
       "      <td>1.354666e+08</td>\n",
       "    </tr>\n",
       "    <tr>\n",
       "      <th>9</th>\n",
       "      <td>16.0</td>\n",
       "      <td>8.046935e+07</td>\n",
       "      <td>3.006257e+07</td>\n",
       "      <td>35340523.72</td>\n",
       "      <td>5.798459e+07</td>\n",
       "      <td>7.772551e+07</td>\n",
       "      <td>1.104995e+08</td>\n",
       "      <td>1.248691e+08</td>\n",
       "    </tr>\n",
       "    <tr>\n",
       "      <th>10</th>\n",
       "      <td>16.0</td>\n",
       "      <td>8.210051e+07</td>\n",
       "      <td>3.323222e+07</td>\n",
       "      <td>35277760.67</td>\n",
       "      <td>5.851977e+07</td>\n",
       "      <td>7.224514e+07</td>\n",
       "      <td>1.089435e+08</td>\n",
       "      <td>1.433414e+08</td>\n",
       "    </tr>\n",
       "    <tr>\n",
       "      <th>11</th>\n",
       "      <td>16.0</td>\n",
       "      <td>9.118132e+07</td>\n",
       "      <td>3.618891e+07</td>\n",
       "      <td>35475823.27</td>\n",
       "      <td>6.538182e+07</td>\n",
       "      <td>8.845079e+07</td>\n",
       "      <td>1.169239e+08</td>\n",
       "      <td>1.651025e+08</td>\n",
       "    </tr>\n",
       "    <tr>\n",
       "      <th>12</th>\n",
       "      <td>16.0</td>\n",
       "      <td>1.251962e+08</td>\n",
       "      <td>5.670535e+07</td>\n",
       "      <td>38531876.55</td>\n",
       "      <td>7.834436e+07</td>\n",
       "      <td>1.107910e+08</td>\n",
       "      <td>1.600972e+08</td>\n",
       "      <td>2.294779e+08</td>\n",
       "    </tr>\n",
       "  </tbody>\n",
       "</table>\n",
       "</div>"
      ],
      "text/plain": [
       "          total                                                         \\\n",
       "          count          mean           std          min           25%   \n",
       "dt_mesano                                                                \n",
       "1          16.0  9.087982e+07  3.364453e+07  46923205.80  6.638142e+07   \n",
       "2          16.0  9.296788e+07  3.957431e+07  31463697.81  5.634493e+07   \n",
       "3          16.0  9.242065e+07  4.432860e+07  34147830.15  5.513971e+07   \n",
       "4          16.0  8.729923e+07  4.217517e+07  29138516.65  5.090311e+07   \n",
       "5          16.0  9.634263e+07  4.390027e+07  38139457.19  6.142005e+07   \n",
       "6          16.0  8.960357e+07  3.358803e+07  35425200.97  6.047430e+07   \n",
       "7          16.0  8.265584e+07  3.420601e+07  33442172.52  5.806740e+07   \n",
       "8          16.0  8.498146e+07  3.297087e+07  33643001.61  5.732862e+07   \n",
       "9          16.0  8.046935e+07  3.006257e+07  35340523.72  5.798459e+07   \n",
       "10         16.0  8.210051e+07  3.323222e+07  35277760.67  5.851977e+07   \n",
       "11         16.0  9.118132e+07  3.618891e+07  35475823.27  6.538182e+07   \n",
       "12         16.0  1.251962e+08  5.670535e+07  38531876.55  7.834436e+07   \n",
       "\n",
       "                                                     \n",
       "                    50%           75%           max  \n",
       "dt_mesano                                            \n",
       "1          7.932375e+07  1.283489e+08  1.418164e+08  \n",
       "2          9.373354e+07  1.294339e+08  1.425276e+08  \n",
       "3          8.249644e+07  1.347433e+08  1.694236e+08  \n",
       "4          8.251936e+07  1.189085e+08  1.653283e+08  \n",
       "5          8.517974e+07  1.346407e+08  1.604214e+08  \n",
       "6          9.639303e+07  1.215318e+08  1.371799e+08  \n",
       "7          7.349069e+07  1.120911e+08  1.399172e+08  \n",
       "8          8.789961e+07  1.074574e+08  1.354666e+08  \n",
       "9          7.772551e+07  1.104995e+08  1.248691e+08  \n",
       "10         7.224514e+07  1.089435e+08  1.433414e+08  \n",
       "11         8.845079e+07  1.169239e+08  1.651025e+08  \n",
       "12         1.107910e+08  1.600972e+08  2.294779e+08  "
      ]
     },
     "execution_count": 74,
     "metadata": {},
     "output_type": "execute_result"
    }
   ],
   "source": [
    "df.describe()"
   ]
  },
  {
   "cell_type": "code",
   "execution_count": 45,
   "metadata": {},
   "outputs": [
    {
     "ename": "ValueError",
     "evalue": "Invalid frequency: 12",
     "output_type": "error",
     "traceback": [
      "\u001b[0;31m---------------------------------------------------------------------------\u001b[0m",
      "\u001b[0;31mTypeError\u001b[0m                                 Traceback (most recent call last)",
      "\u001b[0;32m~/.local/lib/python3.6/site-packages/pandas/tseries/frequencies.py\u001b[0m in \u001b[0;36mto_offset\u001b[0;34m(freq)\u001b[0m\n\u001b[1;32m    135\u001b[0m         \u001b[0;32mtry\u001b[0m\u001b[0;34m:\u001b[0m\u001b[0;34m\u001b[0m\u001b[0;34m\u001b[0m\u001b[0m\n\u001b[0;32m--> 136\u001b[0;31m             \u001b[0msplitted\u001b[0m \u001b[0;34m=\u001b[0m \u001b[0mre\u001b[0m\u001b[0;34m.\u001b[0m\u001b[0msplit\u001b[0m\u001b[0;34m(\u001b[0m\u001b[0mlibfreqs\u001b[0m\u001b[0;34m.\u001b[0m\u001b[0mopattern\u001b[0m\u001b[0;34m,\u001b[0m \u001b[0mfreq\u001b[0m\u001b[0;34m)\u001b[0m\u001b[0;34m\u001b[0m\u001b[0;34m\u001b[0m\u001b[0m\n\u001b[0m\u001b[1;32m    137\u001b[0m             \u001b[0;32mif\u001b[0m \u001b[0msplitted\u001b[0m\u001b[0;34m[\u001b[0m\u001b[0;34m-\u001b[0m\u001b[0;36m1\u001b[0m\u001b[0;34m]\u001b[0m \u001b[0;34m!=\u001b[0m \u001b[0;34m''\u001b[0m \u001b[0;32mand\u001b[0m \u001b[0;32mnot\u001b[0m \u001b[0msplitted\u001b[0m\u001b[0;34m[\u001b[0m\u001b[0;34m-\u001b[0m\u001b[0;36m1\u001b[0m\u001b[0;34m]\u001b[0m\u001b[0;34m.\u001b[0m\u001b[0misspace\u001b[0m\u001b[0;34m(\u001b[0m\u001b[0;34m)\u001b[0m\u001b[0;34m:\u001b[0m\u001b[0;34m\u001b[0m\u001b[0;34m\u001b[0m\u001b[0m\n",
      "\u001b[0;32m/usr/lib/python3.6/re.py\u001b[0m in \u001b[0;36msplit\u001b[0;34m(pattern, string, maxsplit, flags)\u001b[0m\n\u001b[1;32m    211\u001b[0m     of the list.\"\"\"\n\u001b[0;32m--> 212\u001b[0;31m     \u001b[0;32mreturn\u001b[0m \u001b[0m_compile\u001b[0m\u001b[0;34m(\u001b[0m\u001b[0mpattern\u001b[0m\u001b[0;34m,\u001b[0m \u001b[0mflags\u001b[0m\u001b[0;34m)\u001b[0m\u001b[0;34m.\u001b[0m\u001b[0msplit\u001b[0m\u001b[0;34m(\u001b[0m\u001b[0mstring\u001b[0m\u001b[0;34m,\u001b[0m \u001b[0mmaxsplit\u001b[0m\u001b[0;34m)\u001b[0m\u001b[0;34m\u001b[0m\u001b[0;34m\u001b[0m\u001b[0m\n\u001b[0m\u001b[1;32m    213\u001b[0m \u001b[0;34m\u001b[0m\u001b[0m\n",
      "\u001b[0;31mTypeError\u001b[0m: expected string or bytes-like object",
      "\nDuring handling of the above exception, another exception occurred:\n",
      "\u001b[0;31mValueError\u001b[0m                                Traceback (most recent call last)",
      "\u001b[0;32m<ipython-input-45-e8fc2a549667>\u001b[0m in \u001b[0;36m<module>\u001b[0;34m\u001b[0m\n\u001b[1;32m      1\u001b[0m \u001b[0;32mfrom\u001b[0m \u001b[0mpandas\u001b[0m \u001b[0;32mimport\u001b[0m \u001b[0mGrouper\u001b[0m\u001b[0;34m\u001b[0m\u001b[0;34m\u001b[0m\u001b[0m\n\u001b[0;32m----> 2\u001b[0;31m \u001b[0mreceitas_por_mes_ano\u001b[0m\u001b[0;34m.\u001b[0m\u001b[0mgroupby\u001b[0m\u001b[0;34m(\u001b[0m\u001b[0mGrouper\u001b[0m\u001b[0;34m(\u001b[0m\u001b[0mkey\u001b[0m\u001b[0;34m=\u001b[0m\u001b[0;34m'dt_mesano'\u001b[0m\u001b[0;34m,\u001b[0m \u001b[0mfreq\u001b[0m\u001b[0;34m=\u001b[0m\u001b[0;36m12\u001b[0m\u001b[0;34m)\u001b[0m\u001b[0;34m)\u001b[0m\u001b[0;34m\u001b[0m\u001b[0;34m\u001b[0m\u001b[0m\n\u001b[0m",
      "\u001b[0;32m~/.local/lib/python3.6/site-packages/pandas/core/resample.py\u001b[0m in \u001b[0;36m__init__\u001b[0;34m(self, freq, closed, label, how, axis, fill_method, limit, loffset, kind, convention, base, **kwargs)\u001b[0m\n\u001b[1;32m   1302\u001b[0m                              .format(convention))\n\u001b[1;32m   1303\u001b[0m \u001b[0;34m\u001b[0m\u001b[0m\n\u001b[0;32m-> 1304\u001b[0;31m         \u001b[0mfreq\u001b[0m \u001b[0;34m=\u001b[0m \u001b[0mto_offset\u001b[0m\u001b[0;34m(\u001b[0m\u001b[0mfreq\u001b[0m\u001b[0;34m)\u001b[0m\u001b[0;34m\u001b[0m\u001b[0;34m\u001b[0m\u001b[0m\n\u001b[0m\u001b[1;32m   1305\u001b[0m \u001b[0;34m\u001b[0m\u001b[0m\n\u001b[1;32m   1306\u001b[0m         \u001b[0mend_types\u001b[0m \u001b[0;34m=\u001b[0m \u001b[0;34m{\u001b[0m\u001b[0;34m'M'\u001b[0m\u001b[0;34m,\u001b[0m \u001b[0;34m'A'\u001b[0m\u001b[0;34m,\u001b[0m \u001b[0;34m'Q'\u001b[0m\u001b[0;34m,\u001b[0m \u001b[0;34m'BM'\u001b[0m\u001b[0;34m,\u001b[0m \u001b[0;34m'BA'\u001b[0m\u001b[0;34m,\u001b[0m \u001b[0;34m'BQ'\u001b[0m\u001b[0;34m,\u001b[0m \u001b[0;34m'W'\u001b[0m\u001b[0;34m}\u001b[0m\u001b[0;34m\u001b[0m\u001b[0;34m\u001b[0m\u001b[0m\n",
      "\u001b[0;32m~/.local/lib/python3.6/site-packages/pandas/tseries/frequencies.py\u001b[0m in \u001b[0;36mto_offset\u001b[0;34m(freq)\u001b[0m\n\u001b[1;32m    159\u001b[0m                     \u001b[0mdelta\u001b[0m \u001b[0;34m=\u001b[0m \u001b[0mdelta\u001b[0m \u001b[0;34m+\u001b[0m \u001b[0moffset\u001b[0m\u001b[0;34m\u001b[0m\u001b[0;34m\u001b[0m\u001b[0m\n\u001b[1;32m    160\u001b[0m         \u001b[0;32mexcept\u001b[0m \u001b[0mException\u001b[0m\u001b[0;34m:\u001b[0m\u001b[0;34m\u001b[0m\u001b[0;34m\u001b[0m\u001b[0m\n\u001b[0;32m--> 161\u001b[0;31m             \u001b[0;32mraise\u001b[0m \u001b[0mValueError\u001b[0m\u001b[0;34m(\u001b[0m\u001b[0mlibfreqs\u001b[0m\u001b[0;34m.\u001b[0m\u001b[0mINVALID_FREQ_ERR_MSG\u001b[0m\u001b[0;34m.\u001b[0m\u001b[0mformat\u001b[0m\u001b[0;34m(\u001b[0m\u001b[0mfreq\u001b[0m\u001b[0;34m)\u001b[0m\u001b[0;34m)\u001b[0m\u001b[0;34m\u001b[0m\u001b[0;34m\u001b[0m\u001b[0m\n\u001b[0m\u001b[1;32m    162\u001b[0m \u001b[0;34m\u001b[0m\u001b[0m\n\u001b[1;32m    163\u001b[0m     \u001b[0;32mif\u001b[0m \u001b[0mdelta\u001b[0m \u001b[0;32mis\u001b[0m \u001b[0;32mNone\u001b[0m\u001b[0;34m:\u001b[0m\u001b[0;34m\u001b[0m\u001b[0;34m\u001b[0m\u001b[0m\n",
      "\u001b[0;31mValueError\u001b[0m: Invalid frequency: 12"
     ]
    }
   ],
   "source": [
    "from pandas import Grouper\n",
    "\n",
    "receitas_por_mes_ano.groupby()\n"
   ]
  },
  {
   "cell_type": "code",
   "execution_count": null,
   "metadata": {},
   "outputs": [],
   "source": []
  },
  {
   "cell_type": "code",
   "execution_count": null,
   "metadata": {},
   "outputs": [],
   "source": []
  },
  {
   "cell_type": "code",
   "execution_count": 78,
   "metadata": {},
   "outputs": [
    {
     "data": {
      "image/png": "[encoded data removed]",
      "text/plain": [
       "<Figure size 1080x432 with 1 Axes>"
      ]
     },
     "metadata": {
      "needs_background": "light"
     },
     "output_type": "display_data"
    }
   ],
   "source": [
    "sm.graphics.tsa.plot_acf(receitas_por_mes_ano.values.squeeze(), lags=190)\n",
    "plt.show()"
   ]
  },
  {
   "cell_type": "code",
   "execution_count": 81,
   "metadata": {},
   "outputs": [
    {
     "data": {
      "text/plain": [
       "<matplotlib.axes._subplots.AxesSubplot at 0x7f7c87b39c18>"
      ]
     },
     "execution_count": 81,
     "metadata": {},
     "output_type": "execute_result"
    },
    {
     "data": {
      "image/png": "[encoded data removed]",
      "text/plain": [
       "<Figure size 1080x432 with 1 Axes>"
      ]
     },
     "metadata": {
      "needs_background": "light"
     },
     "output_type": "display_data"
    }
   ],
   "source": [
    "import pandas as pd\n",
    "from pandas.plotting import autocorrelation_plot\n",
    "\n",
    "autocorrelation_plot(receitas_por_mes_ano.total)"
   ]
  },
  {
   "cell_type": "code",
   "execution_count": null,
   "metadata": {},
   "outputs": [],
   "source": []
  },
  {
   "cell_type": "code",
   "execution_count": null,
   "metadata": {},
   "outputs": [],
   "source": []
  },
  {
   "cell_type": "code",
   "execution_count": null,
   "metadata": {},
   "outputs": [],
   "source": []
  },
  {
   "cell_type": "markdown",
   "metadata": {},
   "source": [
    "Como o valor de *p* foi 0.9 teremos que fazer ajustes na série."
   ]
  },
  {
   "cell_type": "code",
   "execution_count": 32,
   "metadata": {},
   "outputs": [],
   "source": [
    "# Verificar se a média, variância e autocorrelação são constantes no tempo, se for a série é estacionária."
   ]
  },
  {
   "cell_type": "code",
   "execution_count": 33,
   "metadata": {},
   "outputs": [],
   "source": [
    "ts = receitas_por_mes_ano"
   ]
  },
  {
   "cell_type": "code",
   "execution_count": 34,
   "metadata": {},
   "outputs": [
    {
     "data": {
      "text/plain": [
       "91341536.73083334"
      ]
     },
     "execution_count": 34,
     "metadata": {},
     "output_type": "execute_result"
    }
   ],
   "source": [
    "ts.total.mean()"
   ]
  },
  {
   "cell_type": "code",
   "execution_count": 35,
   "metadata": {},
   "outputs": [
    {
     "data": {
      "image/png": "[encoded data removed]",
      "text/plain": [
       "<Figure size 432x288 with 4 Axes>"
      ]
     },
     "metadata": {
      "needs_background": "light"
     },
     "output_type": "display_data"
    }
   ],
   "source": [
    "from statsmodels.tsa.seasonal import seasonal_decompose\n",
    "\n",
    "season = seasonal_decompose(ts, freq=12)\n",
    "fig = season.plot();"
   ]
  },
  {
   "cell_type": "code",
   "execution_count": 36,
   "metadata": {},
   "outputs": [
    {
     "data": {
      "text/plain": [
       "Teste Estatistico Dickey Fuller     -0.0283\n",
       "Valor-P                              0.9561\n",
       "Lags Usados                         11.0000\n",
       "Número de observações usadas       180.0000\n",
       "Valores Críticos (1%)               -3.4672\n",
       "Valores Críticos (5%)               -2.8777\n",
       "Valores Críticos (10%)              -2.5754\n",
       "dtype: float64"
      ]
     },
     "execution_count": 36,
     "metadata": {},
     "output_type": "execute_result"
    }
   ],
   "source": [
    "adfinput = adfuller(ts['total'])\n",
    "adftest = pd.Series(adfinput[0:4], index=['Teste Estatistico Dickey Fuller','Valor-P',\n",
    "                                          'Lags Usados','Número de observações usadas'])\n",
    "adftest = round(adftest,4)\n",
    "    \n",
    "for key, value in adfinput[4].items():\n",
    "    adftest[\"Valores Críticos (%s)\"%key] = value.round(4) \n",
    "adftest"
   ]
  },
  {
   "cell_type": "code",
   "execution_count": 37,
   "metadata": {},
   "outputs": [
    {
     "name": "stderr",
     "output_type": "stream",
     "text": [
      "/home/irbraga/.local/lib/python3.6/site-packages/statsmodels/tsa/stattools.py:1276: InterpolationWarning: p-value is smaller than the indicated p-value\n",
      "  warn(\"p-value is smaller than the indicated p-value\", InterpolationWarning)\n"
     ]
    },
    {
     "data": {
      "text/plain": [
       "Teste Statistico KPSS       1.2938\n",
       "Valor-P                     0.0100\n",
       "Lags Usados                15.0000\n",
       "Valores Críticos (10%)      0.3470\n",
       "Valores Críticos (5%)       0.4630\n",
       "Valores Críticos (2.5%)     0.5740\n",
       "Valores Críticos (1%)       0.7390\n",
       "dtype: float64"
      ]
     },
     "execution_count": 37,
     "metadata": {},
     "output_type": "execute_result"
    }
   ],
   "source": [
    "from statsmodels.tsa.stattools import kpss\n",
    "\n",
    "kpss_input = kpss(ts['total'])\n",
    "kpss_test = pd.Series(kpss_input[0:3], index=['Teste Statistico KPSS','Valor-P','Lags Usados'])\n",
    "kpss_test = round(kpss_test,4)\n",
    "    \n",
    "for key, value in kpss_input[3].items():\n",
    "    kpss_test[\"Valores Críticos (%s)\"%key] = value \n",
    "kpss_test"
   ]
  },
  {
   "cell_type": "code",
   "execution_count": null,
   "metadata": {},
   "outputs": [],
   "source": []
  },
  {
   "cell_type": "code",
   "execution_count": null,
   "metadata": {},
   "outputs": [],
   "source": []
  },
  {
   "cell_type": "code",
   "execution_count": 38,
   "metadata": {},
   "outputs": [
    {
     "ename": "NameError",
     "evalue": "name 'ts_log' is not defined",
     "output_type": "error",
     "traceback": [
      "\u001b[0;31m---------------------------------------------------------------------------\u001b[0m",
      "\u001b[0;31mNameError\u001b[0m                                 Traceback (most recent call last)",
      "\u001b[0;32m<ipython-input-38-b00312b12f04>\u001b[0m in \u001b[0;36m<module>\u001b[0;34m\u001b[0m\n\u001b[0;32m----> 1\u001b[0;31m \u001b[0mts_log\u001b[0m\u001b[0;34m.\u001b[0m\u001b[0mtotal\u001b[0m\u001b[0;34m.\u001b[0m\u001b[0mmean\u001b[0m\u001b[0;34m(\u001b[0m\u001b[0;34m)\u001b[0m\u001b[0;34m\u001b[0m\u001b[0;34m\u001b[0m\u001b[0m\n\u001b[0m",
      "\u001b[0;31mNameError\u001b[0m: name 'ts_log' is not defined"
     ]
    }
   ],
   "source": [
    "ts_log.total.mean()"
   ]
  },
  {
   "cell_type": "code",
   "execution_count": null,
   "metadata": {},
   "outputs": [],
   "source": [
    "ts_diff = ts_log - ts_log.shift()\n",
    "ts_diff.fillna(0, inplace=True)"
   ]
  },
  {
   "cell_type": "code",
   "execution_count": null,
   "metadata": {},
   "outputs": [],
   "source": [
    "ts_diff.total.mean()"
   ]
  },
  {
   "cell_type": "code",
   "execution_count": null,
   "metadata": {},
   "outputs": [],
   "source": [
    "sm.graphics.tsa.plot_acf(ts_diff.values.squeeze())\n",
    "plt.show()"
   ]
  },
  {
   "cell_type": "code",
   "execution_count": null,
   "metadata": {},
   "outputs": [],
   "source": [
    "sm.graphics.tsa.plot_pacf(ts_diff.values.squeeze())\n",
    "plt.show()"
   ]
  },
  {
   "cell_type": "code",
   "execution_count": null,
   "metadata": {},
   "outputs": [],
   "source": []
  },
  {
   "cell_type": "code",
   "execution_count": null,
   "metadata": {},
   "outputs": [],
   "source": []
  },
  {
   "cell_type": "code",
   "execution_count": null,
   "metadata": {},
   "outputs": [],
   "source": []
  },
  {
   "cell_type": "code",
   "execution_count": null,
   "metadata": {
    "scrolled": true
   },
   "outputs": [],
   "source": [
    "# Plotar esse mesmo gráfico num bloxplot, plotando os ciclos\n",
    "# Em R -> boxplot(AirPassengers~cycle(AirPassengers)) para ajudar a identificar a sazonalidade no ciclo.\n",
    "# ACF - Auto correlation factor, mostra se o gráfico é estacionário; Se houver uma queda, ela indica se a série\n",
    "# é estacionária, se ocilar não é;\n",
    "# Partial ACF -> Vai mostrar os picos dentro da série\n",
    "\n",
    "# Testar se a nova série é estacionária, rodar o teste ADF (Augmented Dickey-Fuller Test);\n",
    "\n",
    "# Nesse gráfico mostra\n",
    "# - Uma tendência positiva, mostrando uma séria temporal crescente;\n",
    "# - Isso demostra uma série não estacionária;\n",
    "# - Mostra uma aparente sazonalidade com uma variação relevante nos anos de 2015 e 2017;\n",
    "# - Deve-se, portanto, calcular o ruído para ver se a média dessa ocilação positiva e negativa tende a 0;\n",
    "# - Seve-se também aplicar técnicas para estacionar a série;\n",
    "\n",
    "# - Para séries não estacionárias, no modelo ARIMA, utilizar 1 no nível de autoregressão já seria o suficiente;\n",
    "'''\n",
    "Etapas\n",
    "\n",
    "- Tornar a séria estacionária - Por diferenciação\n",
    "- Controlar a variação (por transformação logarítmica, a mais simples)\n",
    "- Determinar se os termos autorregressivos (AR) ou de médias móveis (MA) são necessários\n",
    "- Teste do Modelo, Menor AIC\n",
    "- Analisar os resíduos estacionários, com média zero e variância constante = Modelo correto\n",
    "'''"
   ]
  },
  {
   "cell_type": "code",
   "execution_count": null,
   "metadata": {},
   "outputs": [],
   "source": []
  },
  {
   "cell_type": "code",
   "execution_count": null,
   "metadata": {},
   "outputs": [],
   "source": []
  },
  {
   "cell_type": "code",
   "execution_count": null,
   "metadata": {},
   "outputs": [],
   "source": []
  },
  {
   "cell_type": "code",
   "execution_count": null,
   "metadata": {},
   "outputs": [],
   "source": []
  }
 ],
 "metadata": {
  "kernelspec": {
   "display_name": "Python 3",
   "language": "python",
   "name": "python3"
  },
  "language_info": {
   "codemirror_mode": {
    "name": "ipython",
    "version": 3
   },
   "file_extension": ".py",
   "mimetype": "text/x-python",
   "name": "python",
   "nbconvert_exporter": "python",
   "pygments_lexer": "ipython3",
   "version": "3.6.8"
  }
 },
 "nbformat": 4,
 "nbformat_minor": 2
}
