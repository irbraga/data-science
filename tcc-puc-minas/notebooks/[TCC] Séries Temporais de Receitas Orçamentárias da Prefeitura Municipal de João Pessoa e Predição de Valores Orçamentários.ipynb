{
 "cells": [
  {
   "cell_type": "markdown",
   "metadata": {},
   "source": [
    "# PUC Minas\n",
    "## Pós Graduação em Ciência de Dados e Big Data (2018-2019)\n",
    "## Trabalho de Conclusão de Curso\n",
    "### Aluno: Igor Ribeiro Braga\n",
    "\n",
    "Este notebook é relativo ao meu Trabalho de Conclusão de Curso em Ciência de Dados e Big Data. O título é **Séries Temporais de Receitas Orçamentárias da Prefeitura Municipal de João Pessoa e Predição de Valores Orçamentários**, neste trabalho o dataset foi baixado no site do [TCE-PB](http://tce.pb.gov.br/servicos/dados-abertos-do-sagres-tce-pb), especificamente a Tabela: Receita Orçamentária da Esfera Municipal. Para fazer o download diretamente, clique [aqui](https://dados.tce.pb.gov.br/TCE-PB-SAGRES-Receita_Orcamentaria_Esfera_Municipal.txt.gz). O dataset deve ser salvo na pasta `datasets` na pasta raiz deste trabalho."
   ]
  },
  {
   "cell_type": "markdown",
   "metadata": {},
   "source": [
    "### Leitura dos dados e importação das bibliotecas utilizadas\n",
    "\n",
    "Para iniciar o trabalho, o primeiro passo é fazer o downlad do *dataset* com os links acima e armazená-lo na pasta `datasets`. Assim, o documento pode ser lido sem erros.\n",
    "\n",
    "Aqui, as importações da bibliotecas utilizadas e definição de um método para facilitar a visualização dos valores em moeda Real (R$)."
   ]
  },
  {
   "cell_type": "code",
   "execution_count": 28,
   "metadata": {},
   "outputs": [],
   "source": [
    "import pandas as pd\n",
    "import matplotlib.pyplot as plt\n",
    "import locale \n",
    "\n",
    "# Função para converter Float em Currency\n",
    "locale.setlocale(locale.LC_MONETARY, 'pt_BR.UTF-8')\n",
    "\n",
    "def em_reais(valor):\n",
    "    '''\n",
    "    Função para exibir os valores em reais.\n",
    "    '''\n",
    "    return locale.currency(valor, grouping=True)"
   ]
  },
  {
   "cell_type": "markdown",
   "metadata": {},
   "source": [
    "Para a leitura do dataset, foi definido os tipos das colunas **cd_ugestora**, **dt_mesano** e **dt_ano**."
   ]
  },
  {
   "cell_type": "code",
   "execution_count": 29,
   "metadata": {},
   "outputs": [],
   "source": [
    "# Definindo tipos das colunas antes de ler o dataset\n",
    "columns_types = {'cd_ugestora': str, 'dt_mesano': str, 'dt_ano': int}\n",
    "\n",
    "# Carrega os dados no pandas\n",
    "receitas = pd.read_csv('datasets/TCE-PB-SAGRES-Receita_Orcamentaria_Esfera_Municipal.txt',sep='|',dtype=columns_types,encoding='utf-8')"
   ]
  },
  {
   "cell_type": "markdown",
   "metadata": {},
   "source": [
    "O dataset possui os dados de todas as entidade públicas da esfera municipal do estado da Paraíba, mas para o estudo aqui apenas a **Prefeitura Municipal de João Pessoa** será utilizada. Portanto um filtro é aplicado e cria-se um novo Pandas Dataframe."
   ]
  },
  {
   "cell_type": "code",
   "execution_count": 30,
   "metadata": {},
   "outputs": [
    {
     "name": "stdout",
     "output_type": "stream",
     "text": [
      "<class 'pandas.core.frame.DataFrame'>\n",
      "Int64Index: 7749 entries, 487846 to 628083\n",
      "Data columns (total 9 columns):\n",
      "cd_ugestora              7749 non-null object\n",
      "de_ugestora              7749 non-null object\n",
      "dt_ano                   7749 non-null int64\n",
      "cd_receitaorcug          7749 non-null int64\n",
      "de_receitaorcug          7516 non-null object\n",
      "tp_atualizacaoreceita    7749 non-null int64\n",
      "de_atualizacaoreceita    7749 non-null object\n",
      "vl_lancamentoOrc         7749 non-null float64\n",
      "dt_mesano                7749 non-null object\n",
      "dtypes: float64(1), int64(3), object(5)\n",
      "memory usage: 605.4+ KB\n"
     ]
    }
   ],
   "source": [
    "# Obtém todos os dados da Prefeitura Municipal de João Pessoa (cd_ugestora=201095)\n",
    "pref_mun_joao_pessoa = receitas[receitas['cd_ugestora'] == '201095']\n",
    "\n",
    "# Mostra informações sobre o dataset\n",
    "pref_mun_joao_pessoa.info()"
   ]
  },
  {
   "cell_type": "code",
   "execution_count": 31,
   "metadata": {},
   "outputs": [
    {
     "data": {
      "text/html": [
       "<div>\n",
       "<style scoped>\n",
       "    .dataframe tbody tr th:only-of-type {\n",
       "        vertical-align: middle;\n",
       "    }\n",
       "\n",
       "    .dataframe tbody tr th {\n",
       "        vertical-align: top;\n",
       "    }\n",
       "\n",
       "    .dataframe thead th {\n",
       "        text-align: right;\n",
       "    }\n",
       "</style>\n",
       "<table border=\"1\" class=\"dataframe\">\n",
       "  <thead>\n",
       "    <tr style=\"text-align: right;\">\n",
       "      <th></th>\n",
       "      <th>dt_ano</th>\n",
       "      <th>cd_receitaorcug</th>\n",
       "      <th>tp_atualizacaoreceita</th>\n",
       "      <th>vl_lancamentoOrc</th>\n",
       "    </tr>\n",
       "  </thead>\n",
       "  <tbody>\n",
       "    <tr>\n",
       "      <th>count</th>\n",
       "      <td>7749.000000</td>\n",
       "      <td>7.749000e+03</td>\n",
       "      <td>7749.000000</td>\n",
       "      <td>7.749000e+03</td>\n",
       "    </tr>\n",
       "    <tr>\n",
       "      <th>mean</th>\n",
       "      <td>2010.379275</td>\n",
       "      <td>1.507647e+08</td>\n",
       "      <td>1.197574</td>\n",
       "      <td>2.410722e+06</td>\n",
       "    </tr>\n",
       "    <tr>\n",
       "      <th>std</th>\n",
       "      <td>4.956292</td>\n",
       "      <td>1.113795e+09</td>\n",
       "      <td>0.594949</td>\n",
       "      <td>5.512834e+06</td>\n",
       "    </tr>\n",
       "    <tr>\n",
       "      <th>min</th>\n",
       "      <td>2003.000000</td>\n",
       "      <td>1.000000e+00</td>\n",
       "      <td>1.000000</td>\n",
       "      <td>0.000000e+00</td>\n",
       "    </tr>\n",
       "    <tr>\n",
       "      <th>25%</th>\n",
       "      <td>2006.000000</td>\n",
       "      <td>1.121250e+07</td>\n",
       "      <td>1.000000</td>\n",
       "      <td>2.655952e+04</td>\n",
       "    </tr>\n",
       "    <tr>\n",
       "      <th>50%</th>\n",
       "      <td>2010.000000</td>\n",
       "      <td>1.721010e+07</td>\n",
       "      <td>1.000000</td>\n",
       "      <td>2.675004e+05</td>\n",
       "    </tr>\n",
       "    <tr>\n",
       "      <th>75%</th>\n",
       "      <td>2015.000000</td>\n",
       "      <td>1.761000e+07</td>\n",
       "      <td>1.000000</td>\n",
       "      <td>1.600073e+06</td>\n",
       "    </tr>\n",
       "    <tr>\n",
       "      <th>max</th>\n",
       "      <td>2019.000000</td>\n",
       "      <td>9.517214e+09</td>\n",
       "      <td>5.000000</td>\n",
       "      <td>8.593407e+07</td>\n",
       "    </tr>\n",
       "  </tbody>\n",
       "</table>\n",
       "</div>"
      ],
      "text/plain": [
       "            dt_ano  cd_receitaorcug  tp_atualizacaoreceita  vl_lancamentoOrc\n",
       "count  7749.000000     7.749000e+03            7749.000000      7.749000e+03\n",
       "mean   2010.379275     1.507647e+08               1.197574      2.410722e+06\n",
       "std       4.956292     1.113795e+09               0.594949      5.512834e+06\n",
       "min    2003.000000     1.000000e+00               1.000000      0.000000e+00\n",
       "25%    2006.000000     1.121250e+07               1.000000      2.655952e+04\n",
       "50%    2010.000000     1.721010e+07               1.000000      2.675004e+05\n",
       "75%    2015.000000     1.761000e+07               1.000000      1.600073e+06\n",
       "max    2019.000000     9.517214e+09               5.000000      8.593407e+07"
      ]
     },
     "execution_count": 31,
     "metadata": {},
     "output_type": "execute_result"
    }
   ],
   "source": [
    "# Descrição do dataset\n",
    "pref_mun_joao_pessoa.describe()"
   ]
  },
  {
   "cell_type": "markdown",
   "metadata": {},
   "source": [
    "Aqui é demonstrado quais são os tipos de receitas que uma prefeitura como a de João Pessoa recebe por mês."
   ]
  },
  {
   "cell_type": "code",
   "execution_count": 32,
   "metadata": {},
   "outputs": [
    {
     "data": {
      "text/plain": [
       "COTA-PARTE DO IPVA                                                                  132\n",
       "IMPOSTO PREDIAL E TERRITORIAL URBANO                                                132\n",
       "DEMAIS TRANSFERENCIAS DA UNIAO                                                      125\n",
       "COTA-PARTE DO ITR                                                                   124\n",
       "RECEITA DE MERCADOS E FEIRAS                                                        120\n",
       "COTA-PARTE DO IPI SOBRE EXPORTACAO                                                  114\n",
       "Cota-Parte do ICMS                                                                  108\n",
       "TAXA DE COLETA DE RESÍDUOS                                                          108\n",
       "MULTAS E JUROS DE MORA DO IMPOSTO SOBRE SERVIÇOS DE QUALQUER NATUREZA - ISS          96\n",
       "COTA - PARTE DO FUNDO ESPECIAL FE-PETROBRAS                                          95\n",
       "IMPOSTO DE RENDA RETIDO NAS FONTES S/OS RENDIMENTOS DO TRABALHO                      95\n",
       "TRANSF.DE CONVÊNIOS DA UNIÃO E DE SUAS ENTIDADES                                     93\n",
       "INDENIZACOES E RESTITUICOES                                                          80\n",
       "TAXA DE COLETA DE RESIDUOS                                                           77\n",
       "CONTRIBUIÇÃO PARA O CUSTEIO DO SERVIÇO DE ILUMINAÇÃO PÚBLICA                         72\n",
       "TAXA PELO EXERCICIO DE LOTEAMENTO E ARRUAMENTO                                       72\n",
       "TAXA PELA RENOVACAO DE LICENCA                                                       72\n",
       "COTA - PARTE  DO  ICMS                                                               72\n",
       "IMPOSTOS SOBRE SERVICOS DE QUALQUER NATUREZA                                         72\n",
       "TRANSF.DE REC.DO FUNDO DE MANUT. E DESENV. DA EDUCAÇÃO BÁSICA E DE VALORIZAÇÃO D     72\n",
       "RECEITA DA DIVIDA ATIVA DO IMPOSTO SOBRE SERVIÇOS DE QUALQUER NATUREZA - ISS         72\n",
       "COTA - PARTE DO FPM                                                                  72\n",
       "TAXAS PELO EXERCICIO DE OBRAS PARTICULARES                                           72\n",
       "RENDIMENTOS DE APLICACOES FINANCEIRAS - RECURSOS ORDINÁRIOS                          72\n",
       "DEDUÇÕES DA RECEITA PARA FORMAÇÃO DO FUNDEB - ITR                                    71\n",
       "DEDUÇÕES DA RECEITA PARA FORMAÇÃO DO FUNDEB - ICMS                                   71\n",
       "TAXA DE LICENCA DE SAÚDE                                                             70\n",
       "TRANSFERENCIA FINANCEIRA DA LEI COMPLEMENTAR 87/96                                   68\n",
       "OUTRAS RECEITAS                                                                      65\n",
       "RECEITA DA DIVIDA ATIVA NAO TRIBUTARIA                                               65\n",
       "                                                                                   ... \n",
       "ALIENAÇÃO DE BENS MÓVEIS                                                              4\n",
       "COTA-PARTE DA CONTRIBUIÇÃO DE INTERVENÇÃO NO DOMÍNIO ECONÔMI                          4\n",
       "Outras Restituições                                                                   4\n",
       "COTA-PARTE DO IMPOSTO SOBRE OPERAÇÕES DE CRÉDITO, CÂMBIO E SEGURO, OU RELATIVAS       3\n",
       "TRANSFERÊNCIAS DO SALÁRIO EDUCAÇÃO                                                    3\n",
       "Cota-Parte do Fundo de Participação do Municípios – 1% Cota entregue no mês de d      3\n",
       "SERVIÇOS DE INSCRIÇÃO EM CONCURSOS PÚBLICOS                                           2\n",
       "Cota-Parte do Fundo de Participação dos Municípios - 1% Cota entregue no mês de       2\n",
       "TRANSFERENCIAS DE CONVENIOS - REC. DE INSTITUIÇÕES PRIVADAS - FUNDO MUNICIPAL DE      2\n",
       "TRANSFERÊNCIAS DE CONVÊNIOS - REC. DO ESTADO                                          2\n",
       "Dividendos -  Principal                                                               2\n",
       "Transferência de Convênios do Exterior -  Principal                                   2\n",
       "Transferências de Recursos Destinados a Programas de Educação                         2\n",
       "Alienação de Bens Móveis                                                              1\n",
       "COMPENSACOES PREVIDENCIÁRIA ENTRE O REGIME GERAL E OS REGIMES PROPRIOS DA PREVID      1\n",
       "RESTITUICOES                                                                          1\n",
       "Cota-Parte do Fundo de Participação do Municípios – 1% Cota entregue no mês de J      1\n",
       "TRANSFERENCIAS DE CONVÊNIOS - REC. DO ESTADO                                          1\n",
       "RECEITA DE CESSÃO DO DIREITO DE OPERACIONALIZAÇÃO DA FOLHA DE PAGAMENTO DE PESSO      1\n",
       "DEDUÇÕES DA RECEITA PARA FORMAÇÃO DO FUNDEB - IPI                                     1\n",
       "OUTRAS RECEITAS CORRENTES                                                             1\n",
       "CONTRIBUIÇÕES DE PENSIONISTA CIVIL                                                    1\n",
       "TAXA PELO EXERCÍCIO DE COMÉRCIO AMBULANTE                                             1\n",
       "Contribuição   Previdenciária   em   Regime   de   Parcelamento   de Débitos          1\n",
       "DEDUÇÕES DA RECEITA PARA FORMAÇÃO DO FUNDEF - IPI                                     1\n",
       "Taxa de Licenciamento, Controle e Fiscalização de Materiais Nucleares e Radioati      1\n",
       "ALIENACAO DE BENS IMOVEIS                                                             1\n",
       "CONTRIBUIÇÃO DO SERVIDOR INATIVO CIVIL                                                1\n",
       "TRANSFERêNCIAS DE CONVÊNIOS - REC. DE INSTITUIÇÕES PRIVADAS - ADM.DIRETA - REC.       1\n",
       "TAXA PELO EXERCICIO DE COMERCIO AMBULANTE                                             1\n",
       "Name: de_receitaorcug, Length: 240, dtype: int64"
      ]
     },
     "execution_count": 32,
     "metadata": {},
     "output_type": "execute_result"
    }
   ],
   "source": [
    "# Mostrar os tipos de receitas que o Município recebe, \n",
    "# o valor ao lado mostra a quantidade de vezes que uma receita apareceu no dataset.\n",
    "pref_mun_joao_pessoa['de_receitaorcug'].value_counts()"
   ]
  },
  {
   "cell_type": "markdown",
   "metadata": {},
   "source": [
    "Para o estudo, as entradas cujo o ano seja de 2019 serão descartadas, pois iremos trabalhar com os anos fechados de receitas recebidas. Para isso os índices das linhas que possuem o ano de 2019 são selecionadas para depois serem removidas do Dataframe.\n",
    "\n",
    "Após isso, é verificado se o dataset possui colunas com dados nulos, o que não ocorre no nosso caso."
   ]
  },
  {
   "cell_type": "code",
   "execution_count": 33,
   "metadata": {},
   "outputs": [
    {
     "data": {
      "text/html": [
       "<div>\n",
       "<style scoped>\n",
       "    .dataframe tbody tr th:only-of-type {\n",
       "        vertical-align: middle;\n",
       "    }\n",
       "\n",
       "    .dataframe tbody tr th {\n",
       "        vertical-align: top;\n",
       "    }\n",
       "\n",
       "    .dataframe thead th {\n",
       "        text-align: right;\n",
       "    }\n",
       "</style>\n",
       "<table border=\"1\" class=\"dataframe\">\n",
       "  <thead>\n",
       "    <tr style=\"text-align: right;\">\n",
       "      <th></th>\n",
       "      <th>cd_ugestora</th>\n",
       "      <th>de_ugestora</th>\n",
       "      <th>dt_ano</th>\n",
       "      <th>cd_receitaorcug</th>\n",
       "      <th>de_receitaorcug</th>\n",
       "      <th>tp_atualizacaoreceita</th>\n",
       "      <th>de_atualizacaoreceita</th>\n",
       "      <th>vl_lancamentoOrc</th>\n",
       "      <th>dt_mesano</th>\n",
       "    </tr>\n",
       "  </thead>\n",
       "  <tbody>\n",
       "    <tr>\n",
       "      <th>487846</th>\n",
       "      <td>201095</td>\n",
       "      <td>Prefeitura Municipal de João Pessoa</td>\n",
       "      <td>2007</td>\n",
       "      <td>13250000</td>\n",
       "      <td>RECEITA DE REMUNERACAO DE DEPOSITOS BANCÁRIOS ...</td>\n",
       "      <td>1</td>\n",
       "      <td>Lançamento de receita</td>\n",
       "      <td>112414.55</td>\n",
       "      <td>012007</td>\n",
       "    </tr>\n",
       "    <tr>\n",
       "      <th>487847</th>\n",
       "      <td>201095</td>\n",
       "      <td>Prefeitura Municipal de João Pessoa</td>\n",
       "      <td>2007</td>\n",
       "      <td>13250000</td>\n",
       "      <td>RECEITA DE REMUNERACAO DE DEPOSITOS BANCÁRIOS ...</td>\n",
       "      <td>1</td>\n",
       "      <td>Lançamento de receita</td>\n",
       "      <td>96588.89</td>\n",
       "      <td>022007</td>\n",
       "    </tr>\n",
       "    <tr>\n",
       "      <th>487848</th>\n",
       "      <td>201095</td>\n",
       "      <td>Prefeitura Municipal de João Pessoa</td>\n",
       "      <td>2007</td>\n",
       "      <td>13250000</td>\n",
       "      <td>RECEITA DE REMUNERACAO DE DEPOSITOS BANCÁRIOS ...</td>\n",
       "      <td>1</td>\n",
       "      <td>Lançamento de receita</td>\n",
       "      <td>112195.04</td>\n",
       "      <td>032007</td>\n",
       "    </tr>\n",
       "    <tr>\n",
       "      <th>487849</th>\n",
       "      <td>201095</td>\n",
       "      <td>Prefeitura Municipal de João Pessoa</td>\n",
       "      <td>2007</td>\n",
       "      <td>13250000</td>\n",
       "      <td>RECEITA DE REMUNERACAO DE DEPOSITOS BANCÁRIOS ...</td>\n",
       "      <td>1</td>\n",
       "      <td>Lançamento de receita</td>\n",
       "      <td>96514.83</td>\n",
       "      <td>042007</td>\n",
       "    </tr>\n",
       "    <tr>\n",
       "      <th>487850</th>\n",
       "      <td>201095</td>\n",
       "      <td>Prefeitura Municipal de João Pessoa</td>\n",
       "      <td>2007</td>\n",
       "      <td>13250000</td>\n",
       "      <td>RECEITA DE REMUNERACAO DE DEPOSITOS BANCÁRIOS ...</td>\n",
       "      <td>1</td>\n",
       "      <td>Lançamento de receita</td>\n",
       "      <td>100358.00</td>\n",
       "      <td>052007</td>\n",
       "    </tr>\n",
       "  </tbody>\n",
       "</table>\n",
       "</div>"
      ],
      "text/plain": [
       "       cd_ugestora                          de_ugestora  dt_ano  \\\n",
       "487846      201095  Prefeitura Municipal de João Pessoa    2007   \n",
       "487847      201095  Prefeitura Municipal de João Pessoa    2007   \n",
       "487848      201095  Prefeitura Municipal de João Pessoa    2007   \n",
       "487849      201095  Prefeitura Municipal de João Pessoa    2007   \n",
       "487850      201095  Prefeitura Municipal de João Pessoa    2007   \n",
       "\n",
       "        cd_receitaorcug                                    de_receitaorcug  \\\n",
       "487846         13250000  RECEITA DE REMUNERACAO DE DEPOSITOS BANCÁRIOS ...   \n",
       "487847         13250000  RECEITA DE REMUNERACAO DE DEPOSITOS BANCÁRIOS ...   \n",
       "487848         13250000  RECEITA DE REMUNERACAO DE DEPOSITOS BANCÁRIOS ...   \n",
       "487849         13250000  RECEITA DE REMUNERACAO DE DEPOSITOS BANCÁRIOS ...   \n",
       "487850         13250000  RECEITA DE REMUNERACAO DE DEPOSITOS BANCÁRIOS ...   \n",
       "\n",
       "        tp_atualizacaoreceita  de_atualizacaoreceita  vl_lancamentoOrc  \\\n",
       "487846                      1  Lançamento de receita         112414.55   \n",
       "487847                      1  Lançamento de receita          96588.89   \n",
       "487848                      1  Lançamento de receita         112195.04   \n",
       "487849                      1  Lançamento de receita          96514.83   \n",
       "487850                      1  Lançamento de receita         100358.00   \n",
       "\n",
       "       dt_mesano  \n",
       "487846    012007  \n",
       "487847    022007  \n",
       "487848    032007  \n",
       "487849    042007  \n",
       "487850    052007  "
      ]
     },
     "execution_count": 33,
     "metadata": {},
     "output_type": "execute_result"
    }
   ],
   "source": [
    "# Seleção dos índices\n",
    "indexAno2019 = pref_mun_joao_pessoa[pref_mun_joao_pessoa['dt_ano'] == 2019].index\n",
    "\n",
    "# Remoção do Dataframe\n",
    "pref_mun_joao_pessoa = pref_mun_joao_pessoa.drop(index=indexAno2019)\n",
    "pref_mun_joao_pessoa.head()"
   ]
  },
  {
   "cell_type": "code",
   "execution_count": 34,
   "metadata": {},
   "outputs": [
    {
     "data": {
      "text/plain": [
       "cd_ugestora              False\n",
       "de_ugestora              False\n",
       "dt_ano                   False\n",
       "cd_receitaorcug          False\n",
       "de_receitaorcug          False\n",
       "tp_atualizacaoreceita    False\n",
       "de_atualizacaoreceita    False\n",
       "vl_lancamentoOrc         False\n",
       "dt_mesano                False\n",
       "dtype: bool"
      ]
     },
     "execution_count": 34,
     "metadata": {},
     "output_type": "execute_result"
    }
   ],
   "source": [
    "# Identificando valores Nulos em colunas\n",
    "pref_mun_joao_pessoa.isna().any()"
   ]
  },
  {
   "cell_type": "markdown",
   "metadata": {},
   "source": [
    "Analisando outras entidade públicas no dataset, identiquei que algumas delas possuiam datas com meses incoerentes, como `13` por exemplo. Assim, vou verificar na coluna **dt_mesano** e pegar os 2 primeiros dígitos do meses (formato MMYYYY) e listar para verificar se algum possui esse dado incoerente."
   ]
  },
  {
   "cell_type": "code",
   "execution_count": 35,
   "metadata": {},
   "outputs": [
    {
     "data": {
      "text/plain": [
       "12    673\n",
       "07    646\n",
       "08    638\n",
       "10    637\n",
       "06    634\n",
       "11    630\n",
       "09    626\n",
       "05    626\n",
       "04    618\n",
       "01    605\n",
       "03    604\n",
       "02    579\n",
       "Name: dt_mesano, dtype: int64"
      ]
     },
     "execution_count": 35,
     "metadata": {},
     "output_type": "execute_result"
    }
   ],
   "source": [
    "# Certificando se possuem meses incoerentes\n",
    "pref_mun_joao_pessoa.dt_mesano.str.slice(0,2).value_counts()"
   ]
  },
  {
   "cell_type": "markdown",
   "metadata": {},
   "source": [
    "Nesse caso os dados só possuem valores de meses válidos.\n",
    "\n",
    "Sabendo que os dados da coluna **dt_mesano** estão coerentes, vou mudar o tipo de dado da coluna pata `datetime`."
   ]
  },
  {
   "cell_type": "code",
   "execution_count": 36,
   "metadata": {},
   "outputs": [],
   "source": [
    "# Convertendo a coluna Mês/Ano em Datetime\n",
    "pref_mun_joao_pessoa['dt_mesano'] = pd.to_datetime(pref_mun_joao_pessoa['dt_mesano'], format='%m%Y')"
   ]
  },
  {
   "cell_type": "markdown",
   "metadata": {},
   "source": [
    "### Análise inicial do dados e obtenção de informações do dataset\n",
    "\n",
    "Com o dataset devidamente tratado, podemos agora realizar algumas perguntas sobre nossos dados. Alguns questionamentos vieram a mente:\n",
    "\n",
    "1. Quais os valores recebidos por ano?\n",
    "1. Quais os valores recebidos por mês/ano?\n",
    "1. Quais são os top 5 tipos de receita que mais gerou retorno ao Município?\n",
    "1. Qual foi o mês/ano que mais gerou receita ao Município? Qual foi o tipo de receita que mais se destacou nesse mês?\n",
    "1. Como se comporta uma série temporal do total de receitas mês/ano do Município (2003-2018)?\n",
    "1. Como se fazer forecasting de valores orçamentários baseados no dataset?\n",
    "\n",
    "Bem, vamos começar pela primeira pergunta:\n",
    "\n",
    "#### 1. Quais os valores recebidos por ano?\n",
    "\n",
    "Para responder a essa pergunta, vamos primeiro remover as colunas que não agregam informação para isso em um novo Dataframe."
   ]
  },
  {
   "cell_type": "code",
   "execution_count": 80,
   "metadata": {},
   "outputs": [
    {
     "data": {
      "text/html": [
       "<div>\n",
       "<style scoped>\n",
       "    .dataframe tbody tr th:only-of-type {\n",
       "        vertical-align: middle;\n",
       "    }\n",
       "\n",
       "    .dataframe tbody tr th {\n",
       "        vertical-align: top;\n",
       "    }\n",
       "\n",
       "    .dataframe thead th {\n",
       "        text-align: right;\n",
       "    }\n",
       "</style>\n",
       "<table border=\"1\" class=\"dataframe\">\n",
       "  <thead>\n",
       "    <tr style=\"text-align: right;\">\n",
       "      <th></th>\n",
       "      <th>dt_ano</th>\n",
       "      <th>vl_lancamentoOrc</th>\n",
       "    </tr>\n",
       "  </thead>\n",
       "  <tbody>\n",
       "    <tr>\n",
       "      <th>487846</th>\n",
       "      <td>2007</td>\n",
       "      <td>112414.55</td>\n",
       "    </tr>\n",
       "    <tr>\n",
       "      <th>487847</th>\n",
       "      <td>2007</td>\n",
       "      <td>96588.89</td>\n",
       "    </tr>\n",
       "    <tr>\n",
       "      <th>487848</th>\n",
       "      <td>2007</td>\n",
       "      <td>112195.04</td>\n",
       "    </tr>\n",
       "    <tr>\n",
       "      <th>487849</th>\n",
       "      <td>2007</td>\n",
       "      <td>96514.83</td>\n",
       "    </tr>\n",
       "    <tr>\n",
       "      <th>487850</th>\n",
       "      <td>2007</td>\n",
       "      <td>100358.00</td>\n",
       "    </tr>\n",
       "  </tbody>\n",
       "</table>\n",
       "</div>"
      ],
      "text/plain": [
       "        dt_ano  vl_lancamentoOrc\n",
       "487846    2007         112414.55\n",
       "487847    2007          96588.89\n",
       "487848    2007         112195.04\n",
       "487849    2007          96514.83\n",
       "487850    2007         100358.00"
      ]
     },
     "execution_count": 80,
     "metadata": {},
     "output_type": "execute_result"
    }
   ],
   "source": [
    "# Criar novo dataframe apenas com os dados que importam\n",
    "receitas_por_ano = pref_mun_joao_pessoa.drop(columns=['cd_ugestora','de_ugestora','cd_receitaorcug','de_receitaorcug','tp_atualizacaoreceita','de_atualizacaoreceita','dt_mesano'])\n",
    "receitas_por_ano.head()"
   ]
  },
  {
   "cell_type": "markdown",
   "metadata": {},
   "source": [
    "Aqui temos as várias entradas de receitas por mês dos anos de 2003 a 2018. No momento, queremos esses valores somados e agrupados por ano."
   ]
  },
  {
   "cell_type": "code",
   "execution_count": 81,
   "metadata": {},
   "outputs": [],
   "source": [
    "# Agrupar e calcular a soma da coluna vl_lancamentoOrc\n",
    "receitas_por_ano['total'] = receitas_por_ano.groupby('dt_ano').transform('sum')\n",
    "receitas_por_ano = receitas_por_ano.drop(columns=['vl_lancamentoOrc'])"
   ]
  },
  {
   "cell_type": "code",
   "execution_count": 82,
   "metadata": {},
   "outputs": [],
   "source": [
    "# Removendo duplicatas e ordenando pelo ano\n",
    "receitas_por_ano.drop_duplicates(keep='first', inplace=True)\n",
    "receitas_por_ano.sort_values(by=['dt_ano'],ascending=True,inplace=True)"
   ]
  },
  {
   "cell_type": "code",
   "execution_count": 83,
   "metadata": {},
   "outputs": [
    {
     "data": {
      "text/html": [
       "<div>\n",
       "<style scoped>\n",
       "    .dataframe tbody tr th:only-of-type {\n",
       "        vertical-align: middle;\n",
       "    }\n",
       "\n",
       "    .dataframe tbody tr th {\n",
       "        vertical-align: top;\n",
       "    }\n",
       "\n",
       "    .dataframe thead th {\n",
       "        text-align: right;\n",
       "    }\n",
       "</style>\n",
       "<table border=\"1\" class=\"dataframe\">\n",
       "  <thead>\n",
       "    <tr style=\"text-align: right;\">\n",
       "      <th></th>\n",
       "      <th>total</th>\n",
       "    </tr>\n",
       "    <tr>\n",
       "      <th>dt_ano</th>\n",
       "      <th></th>\n",
       "    </tr>\n",
       "  </thead>\n",
       "  <tbody>\n",
       "    <tr>\n",
       "      <th>2003</th>\n",
       "      <td>4.269491e+08</td>\n",
       "    </tr>\n",
       "    <tr>\n",
       "      <th>2004</th>\n",
       "      <td>5.309502e+08</td>\n",
       "    </tr>\n",
       "    <tr>\n",
       "      <th>2005</th>\n",
       "      <td>6.393762e+08</td>\n",
       "    </tr>\n",
       "    <tr>\n",
       "      <th>2006</th>\n",
       "      <td>7.121140e+08</td>\n",
       "    </tr>\n",
       "    <tr>\n",
       "      <th>2007</th>\n",
       "      <td>8.121067e+08</td>\n",
       "    </tr>\n",
       "  </tbody>\n",
       "</table>\n",
       "</div>"
      ],
      "text/plain": [
       "               total\n",
       "dt_ano              \n",
       "2003    4.269491e+08\n",
       "2004    5.309502e+08\n",
       "2005    6.393762e+08\n",
       "2006    7.121140e+08\n",
       "2007    8.121067e+08"
      ]
     },
     "execution_count": 83,
     "metadata": {},
     "output_type": "execute_result"
    }
   ],
   "source": [
    "# Definindo o ano como índice\n",
    "receitas_por_ano.set_index('dt_ano',inplace=True)\n",
    "receitas_por_ano.head()"
   ]
  },
  {
   "cell_type": "markdown",
   "metadata": {},
   "source": [
    "Agora podemos exibir o primeiro gráfico, os de totais de receitas por ano."
   ]
  },
  {
   "cell_type": "code",
   "execution_count": 74,
   "metadata": {},
   "outputs": [
    {
     "data": {
      "image/png": "[encoded data removed]",
      "text/plain": [
       "<Figure size 432x288 with 1 Axes>"
      ]
     },
     "metadata": {
      "needs_background": "light"
     },
     "output_type": "display_data"
    }
   ],
   "source": [
    "# Plotando gráfico: Total de recebimentos x Ano\n",
    "ax = receitas_por_ano.plot(kind='bar',color='lightblue',title='Total de Receitas x Ano')\n",
    "\n",
    "ax.set_ylabel('Total em Milhões')\n",
    "ax.set_xlabel('Ano')\n",
    "\n",
    "plt.show()"
   ]
  },
  {
   "cell_type": "markdown",
   "metadata": {},
   "source": [
    "Como demonstrado no gráfico acima, o ano de 2018 foi o ano que mais acumulou receitas desde 2003. Abaixo temos um resumo de informações sobre o dados do agrupamento desses valores, como os quartis(25%,50% e 75%), a média (mean), o desvio padrão (std) e os valores máximos e mínimos.\n",
    "\n",
    "Mais abaixo, temos um gráfico bloxplot que evidencia essas informação graficamente."
   ]
  },
  {
   "cell_type": "code",
   "execution_count": 77,
   "metadata": {},
   "outputs": [
    {
     "data": {
      "text/plain": [
       "'R$ 1.787.108.000,00'"
      ]
     },
     "execution_count": 77,
     "metadata": {},
     "output_type": "execute_result"
    }
   ],
   "source": [
    "# Valor de receitas recebidos em 2018\n",
    "em_reais(1.787108e+09)"
   ]
  },
  {
   "cell_type": "code",
   "execution_count": 42,
   "metadata": {},
   "outputs": [
    {
     "data": {
      "text/html": [
       "<div>\n",
       "<style scoped>\n",
       "    .dataframe tbody tr th:only-of-type {\n",
       "        vertical-align: middle;\n",
       "    }\n",
       "\n",
       "    .dataframe tbody tr th {\n",
       "        vertical-align: top;\n",
       "    }\n",
       "\n",
       "    .dataframe thead th {\n",
       "        text-align: right;\n",
       "    }\n",
       "</style>\n",
       "<table border=\"1\" class=\"dataframe\">\n",
       "  <thead>\n",
       "    <tr style=\"text-align: right;\">\n",
       "      <th></th>\n",
       "      <th>dt_ano</th>\n",
       "      <th>total</th>\n",
       "    </tr>\n",
       "  </thead>\n",
       "  <tbody>\n",
       "    <tr>\n",
       "      <th>count</th>\n",
       "      <td>16.000000</td>\n",
       "      <td>1.600000e+01</td>\n",
       "    </tr>\n",
       "    <tr>\n",
       "      <th>mean</th>\n",
       "      <td>2010.500000</td>\n",
       "      <td>1.096098e+09</td>\n",
       "    </tr>\n",
       "    <tr>\n",
       "      <th>std</th>\n",
       "      <td>4.760952</td>\n",
       "      <td>4.466808e+08</td>\n",
       "    </tr>\n",
       "    <tr>\n",
       "      <th>min</th>\n",
       "      <td>2003.000000</td>\n",
       "      <td>4.269491e+08</td>\n",
       "    </tr>\n",
       "    <tr>\n",
       "      <th>25%</th>\n",
       "      <td>2006.750000</td>\n",
       "      <td>7.600471e+08</td>\n",
       "    </tr>\n",
       "    <tr>\n",
       "      <th>50%</th>\n",
       "      <td>2010.500000</td>\n",
       "      <td>1.019998e+09</td>\n",
       "    </tr>\n",
       "    <tr>\n",
       "      <th>75%</th>\n",
       "      <td>2014.250000</td>\n",
       "      <td>1.559869e+09</td>\n",
       "    </tr>\n",
       "    <tr>\n",
       "      <th>max</th>\n",
       "      <td>2018.000000</td>\n",
       "      <td>1.787108e+09</td>\n",
       "    </tr>\n",
       "  </tbody>\n",
       "</table>\n",
       "</div>"
      ],
      "text/plain": [
       "            dt_ano         total\n",
       "count    16.000000  1.600000e+01\n",
       "mean   2010.500000  1.096098e+09\n",
       "std       4.760952  4.466808e+08\n",
       "min    2003.000000  4.269491e+08\n",
       "25%    2006.750000  7.600471e+08\n",
       "50%    2010.500000  1.019998e+09\n",
       "75%    2014.250000  1.559869e+09\n",
       "max    2018.000000  1.787108e+09"
      ]
     },
     "execution_count": 42,
     "metadata": {},
     "output_type": "execute_result"
    }
   ],
   "source": [
    "# Informações sobre o desvio padrão, valores máximo e mínimo e os percentiles.\n",
    "receitas_por_ano.describe()"
   ]
  },
  {
   "cell_type": "code",
   "execution_count": 75,
   "metadata": {},
   "outputs": [
    {
     "data": {
      "text/plain": [
       "<matplotlib.axes._subplots.AxesSubplot at 0x7fefdd2ea940>"
      ]
     },
     "execution_count": 75,
     "metadata": {},
     "output_type": "execute_result"
    },
    {
     "data": {
      "image/png": "[encoded data removed]",
      "text/plain": [
       "<Figure size 432x288 with 1 Axes>"
      ]
     },
     "metadata": {
      "needs_background": "light"
     },
     "output_type": "display_data"
    }
   ],
   "source": [
    "# Gráfico bolxplot dos totais de receitas recebidas entre os anos de 2003 e 2018\n",
    "receitas_por_ano.boxplot()"
   ]
  },
  {
   "cell_type": "markdown",
   "metadata": {},
   "source": [
    "#### 2. Quais os valores recebidos por mês/ano?\n",
    "\n",
    "A análise aqui será similar a pergunta anterior, mas levando em consideração da coluna **dt_mesano** ao invés da **dt_ano**."
   ]
  },
  {
   "cell_type": "code",
   "execution_count": 87,
   "metadata": {},
   "outputs": [
    {
     "data": {
      "text/html": [
       "<div>\n",
       "<style scoped>\n",
       "    .dataframe tbody tr th:only-of-type {\n",
       "        vertical-align: middle;\n",
       "    }\n",
       "\n",
       "    .dataframe tbody tr th {\n",
       "        vertical-align: top;\n",
       "    }\n",
       "\n",
       "    .dataframe thead th {\n",
       "        text-align: right;\n",
       "    }\n",
       "</style>\n",
       "<table border=\"1\" class=\"dataframe\">\n",
       "  <thead>\n",
       "    <tr style=\"text-align: right;\">\n",
       "      <th></th>\n",
       "      <th>vl_lancamentoOrc</th>\n",
       "      <th>dt_mesano</th>\n",
       "    </tr>\n",
       "  </thead>\n",
       "  <tbody>\n",
       "    <tr>\n",
       "      <th>487846</th>\n",
       "      <td>112414.55</td>\n",
       "      <td>2007-01-01</td>\n",
       "    </tr>\n",
       "    <tr>\n",
       "      <th>487847</th>\n",
       "      <td>96588.89</td>\n",
       "      <td>2007-02-01</td>\n",
       "    </tr>\n",
       "    <tr>\n",
       "      <th>487848</th>\n",
       "      <td>112195.04</td>\n",
       "      <td>2007-03-01</td>\n",
       "    </tr>\n",
       "    <tr>\n",
       "      <th>487849</th>\n",
       "      <td>96514.83</td>\n",
       "      <td>2007-04-01</td>\n",
       "    </tr>\n",
       "    <tr>\n",
       "      <th>487850</th>\n",
       "      <td>100358.00</td>\n",
       "      <td>2007-05-01</td>\n",
       "    </tr>\n",
       "  </tbody>\n",
       "</table>\n",
       "</div>"
      ],
      "text/plain": [
       "        vl_lancamentoOrc  dt_mesano\n",
       "487846         112414.55 2007-01-01\n",
       "487847          96588.89 2007-02-01\n",
       "487848         112195.04 2007-03-01\n",
       "487849          96514.83 2007-04-01\n",
       "487850         100358.00 2007-05-01"
      ]
     },
     "execution_count": 87,
     "metadata": {},
     "output_type": "execute_result"
    }
   ],
   "source": [
    "# Criar novo dataframe apenas com os dados que importam\n",
    "receitas_por_mes_ano = pref_mun_joao_pessoa.drop(columns=['cd_ugestora','de_ugestora','cd_receitaorcug','de_receitaorcug','tp_atualizacaoreceita','de_atualizacaoreceita','dt_ano'])\n",
    "receitas_por_mes_ano.head()"
   ]
  },
  {
   "cell_type": "code",
   "execution_count": 88,
   "metadata": {},
   "outputs": [],
   "source": [
    "# Agrupar e calcular a soma da coluna vl_lancamentoOrc\n",
    "receitas_por_mes_ano['total'] = receitas_por_mes_ano.groupby('dt_mesano').transform('sum')\n",
    "receitas_por_mes_ano = receitas_por_mes_ano.drop(columns=['vl_lancamentoOrc'])"
   ]
  },
  {
   "cell_type": "code",
   "execution_count": 89,
   "metadata": {},
   "outputs": [],
   "source": [
    "# Removendo duplicatas\n",
    "receitas_por_mes_ano.drop_duplicates(keep='first', inplace=True)\n",
    "receitas_por_mes_ano.sort_values(by=['dt_mesano'],ascending=True,inplace=True)"
   ]
  },
  {
   "cell_type": "code",
   "execution_count": 90,
   "metadata": {},
   "outputs": [
    {
     "data": {
      "text/html": [
       "<div>\n",
       "<style scoped>\n",
       "    .dataframe tbody tr th:only-of-type {\n",
       "        vertical-align: middle;\n",
       "    }\n",
       "\n",
       "    .dataframe tbody tr th {\n",
       "        vertical-align: top;\n",
       "    }\n",
       "\n",
       "    .dataframe thead th {\n",
       "        text-align: right;\n",
       "    }\n",
       "</style>\n",
       "<table border=\"1\" class=\"dataframe\">\n",
       "  <thead>\n",
       "    <tr style=\"text-align: right;\">\n",
       "      <th></th>\n",
       "      <th>total</th>\n",
       "    </tr>\n",
       "    <tr>\n",
       "      <th>dt_mesano</th>\n",
       "      <th></th>\n",
       "    </tr>\n",
       "  </thead>\n",
       "  <tbody>\n",
       "    <tr>\n",
       "      <th>2003-01-01</th>\n",
       "      <td>46923205.80</td>\n",
       "    </tr>\n",
       "    <tr>\n",
       "      <th>2003-02-01</th>\n",
       "      <td>31463697.81</td>\n",
       "    </tr>\n",
       "    <tr>\n",
       "      <th>2003-03-01</th>\n",
       "      <td>34147830.15</td>\n",
       "    </tr>\n",
       "    <tr>\n",
       "      <th>2003-04-01</th>\n",
       "      <td>29138516.65</td>\n",
       "    </tr>\n",
       "    <tr>\n",
       "      <th>2003-05-01</th>\n",
       "      <td>38139457.19</td>\n",
       "    </tr>\n",
       "  </tbody>\n",
       "</table>\n",
       "</div>"
      ],
      "text/plain": [
       "                  total\n",
       "dt_mesano              \n",
       "2003-01-01  46923205.80\n",
       "2003-02-01  31463697.81\n",
       "2003-03-01  34147830.15\n",
       "2003-04-01  29138516.65\n",
       "2003-05-01  38139457.19"
      ]
     },
     "execution_count": 90,
     "metadata": {},
     "output_type": "execute_result"
    }
   ],
   "source": [
    "# Definindo o mês/ano como índice\n",
    "receitas_por_mes_ano.set_index('dt_mesano',inplace=True)\n",
    "receitas_por_mes_ano.head()"
   ]
  },
  {
   "cell_type": "markdown",
   "metadata": {},
   "source": [
    "Como os dados tratados aqui agora são os meses do ano a visualização do gráfico utilizando barras não fica bom. Portanto vou criar um gráfico em linha. Isso também irá nos ambientar para nosso futuro estudo sobre a série temporal orçamentária."
   ]
  },
  {
   "cell_type": "code",
   "execution_count": 91,
   "metadata": {},
   "outputs": [
    {
     "data": {
      "image/png": "[encoded data removed]",
      "text/plain": [
       "<Figure size 432x288 with 1 Axes>"
      ]
     },
     "metadata": {
      "needs_background": "light"
     },
     "output_type": "display_data"
    }
   ],
   "source": [
    "# Plotando gráfico: Total de recebimentos x Mês/Ano\n",
    "ax = receitas_por_mes_ano.plot(kind='line',color='lightblue',title='Total de Recebimentos x Mês/Ano')\n",
    "\n",
    "ax.set_ylabel('Total em Milhões')\n",
    "ax.set_xlabel('Mês/Ano')\n",
    "\n",
    "plt.show()"
   ]
  },
  {
   "cell_type": "code",
   "execution_count": 93,
   "metadata": {},
   "outputs": [
    {
     "data": {
      "text/plain": [
       "'R$ 229.477.900,00'"
      ]
     },
     "execution_count": 93,
     "metadata": {},
     "output_type": "execute_result"
    }
   ],
   "source": [
    "# Maior valor de receitas em um mês entre 2003 e 2018\n",
    "em_reais(2.294779e+08)"
   ]
  },
  {
   "cell_type": "code",
   "execution_count": 102,
   "metadata": {},
   "outputs": [
    {
     "data": {
      "text/plain": [
       "total   2014-12-01\n",
       "dtype: datetime64[ns]"
      ]
     },
     "execution_count": 102,
     "metadata": {},
     "output_type": "execute_result"
    }
   ],
   "source": [
    "# Mês que ocorreu o maior valor\n",
    "receitas_por_mes_ano.idxmax(axis=0)"
   ]
  },
  {
   "cell_type": "code",
   "execution_count": 92,
   "metadata": {},
   "outputs": [
    {
     "data": {
      "text/html": [
       "<div>\n",
       "<style scoped>\n",
       "    .dataframe tbody tr th:only-of-type {\n",
       "        vertical-align: middle;\n",
       "    }\n",
       "\n",
       "    .dataframe tbody tr th {\n",
       "        vertical-align: top;\n",
       "    }\n",
       "\n",
       "    .dataframe thead th {\n",
       "        text-align: right;\n",
       "    }\n",
       "</style>\n",
       "<table border=\"1\" class=\"dataframe\">\n",
       "  <thead>\n",
       "    <tr style=\"text-align: right;\">\n",
       "      <th></th>\n",
       "      <th>total</th>\n",
       "    </tr>\n",
       "  </thead>\n",
       "  <tbody>\n",
       "    <tr>\n",
       "      <th>count</th>\n",
       "      <td>1.920000e+02</td>\n",
       "    </tr>\n",
       "    <tr>\n",
       "      <th>mean</th>\n",
       "      <td>9.134154e+07</td>\n",
       "    </tr>\n",
       "    <tr>\n",
       "      <th>std</th>\n",
       "      <td>3.953522e+07</td>\n",
       "    </tr>\n",
       "    <tr>\n",
       "      <th>min</th>\n",
       "      <td>2.913852e+07</td>\n",
       "    </tr>\n",
       "    <tr>\n",
       "      <th>25%</th>\n",
       "      <td>6.025553e+07</td>\n",
       "    </tr>\n",
       "    <tr>\n",
       "      <th>50%</th>\n",
       "      <td>8.585041e+07</td>\n",
       "    </tr>\n",
       "    <tr>\n",
       "      <th>75%</th>\n",
       "      <td>1.231781e+08</td>\n",
       "    </tr>\n",
       "    <tr>\n",
       "      <th>max</th>\n",
       "      <td>2.294779e+08</td>\n",
       "    </tr>\n",
       "  </tbody>\n",
       "</table>\n",
       "</div>"
      ],
      "text/plain": [
       "              total\n",
       "count  1.920000e+02\n",
       "mean   9.134154e+07\n",
       "std    3.953522e+07\n",
       "min    2.913852e+07\n",
       "25%    6.025553e+07\n",
       "50%    8.585041e+07\n",
       "75%    1.231781e+08\n",
       "max    2.294779e+08"
      ]
     },
     "execution_count": 92,
     "metadata": {},
     "output_type": "execute_result"
    }
   ],
   "source": [
    "# Dados estatísticos\n",
    "receitas_por_mes_ano.describe()"
   ]
  },
  {
   "cell_type": "code",
   "execution_count": 103,
   "metadata": {},
   "outputs": [
    {
     "data": {
      "text/plain": [
       "<matplotlib.axes._subplots.AxesSubplot at 0x7fefdce627b8>"
      ]
     },
     "execution_count": 103,
     "metadata": {},
     "output_type": "execute_result"
    },
    {
     "data": {
      "image/png": "[encoded data removed]",
      "text/plain": [
       "<Figure size 432x288 with 1 Axes>"
      ]
     },
     "metadata": {
      "needs_background": "light"
     },
     "output_type": "display_data"
    }
   ],
   "source": [
    "# Gráfico Bloxplot com os quartis, outliers, valores mínimos e máximos (desconsiderando os outliers)\n",
    "receitas_por_mes_ano.boxplot()"
   ]
  },
  {
   "cell_type": "code",
   "execution_count": 61,
   "metadata": {},
   "outputs": [
    {
     "data": {
      "text/plain": [
       "0.8504240316671062"
      ]
     },
     "execution_count": 61,
     "metadata": {},
     "output_type": "execute_result"
    }
   ],
   "source": []
  },
  {
   "cell_type": "code",
   "execution_count": null,
   "metadata": {},
   "outputs": [],
   "source": []
  },
  {
   "cell_type": "code",
   "execution_count": null,
   "metadata": {},
   "outputs": [],
   "source": []
  },
  {
   "cell_type": "code",
   "execution_count": 104,
   "metadata": {},
   "outputs": [
    {
     "data": {
      "text/plain": [
       "0.8504240316671062"
      ]
     },
     "execution_count": 104,
     "metadata": {},
     "output_type": "execute_result"
    }
   ],
   "source": [
    "receitas_por_mes_ano.total.autocorr()"
   ]
  },
  {
   "cell_type": "code",
   "execution_count": 64,
   "metadata": {},
   "outputs": [
    {
     "data": {
      "text/plain": [
       "<matplotlib.axes._subplots.AxesSubplot at 0x7fefdd4bafd0>"
      ]
     },
     "execution_count": 64,
     "metadata": {},
     "output_type": "execute_result"
    },
    {
     "data": {
      "image/png": "[encoded data removed]",
      "text/plain": [
       "<Figure size 432x288 with 1 Axes>"
      ]
     },
     "metadata": {
      "needs_background": "light"
     },
     "output_type": "display_data"
    }
   ],
   "source": [
    "from pandas.plotting import autocorrelation_plot\n",
    "\n",
    "autocorrelation_plot(receitas_por_mes_ano.total)"
   ]
  },
  {
   "cell_type": "code",
   "execution_count": 65,
   "metadata": {},
   "outputs": [
    {
     "data": {
      "image/png": "[encoded data removed]",
      "text/plain": [
       "<Figure size 432x288 with 1 Axes>"
      ]
     },
     "metadata": {
      "needs_background": "light"
     },
     "output_type": "display_data"
    }
   ],
   "source": [
    "import statsmodels.api as sm\n",
    "\n",
    "sm.graphics.tsa.plot_acf(receitas_por_mes_ano.values.squeeze(), lags=190)\n",
    "plt.show()"
   ]
  },
  {
   "cell_type": "code",
   "execution_count": 66,
   "metadata": {},
   "outputs": [
    {
     "data": {
      "image/png": "[encoded data removed]",
      "text/plain": [
       "<Figure size 432x288 with 1 Axes>"
      ]
     },
     "metadata": {
      "needs_background": "light"
     },
     "output_type": "display_data"
    }
   ],
   "source": [
    "sm.graphics.tsa.plot_pacf(receitas_por_mes_ano.values.squeeze(), lags=60)\n",
    "plt.show()"
   ]
  },
  {
   "cell_type": "code",
   "execution_count": 29,
   "metadata": {},
   "outputs": [
    {
     "data": {
      "text/plain": [
       "'\\nEtapas\\n\\n- Tornar a séria estacionária - Por diferenciação\\n- Controlar a variação (por transformação logarítmica, a mais simples)\\n- Determinar se os termos autorregressivos (AR) ou de médias móveis (MA) são necessários\\n- Teste do Modelo, Menor AIC\\n- Analisar os resíduos estacionários, com média zero e variância constante = Modelo correto\\n'"
      ]
     },
     "execution_count": 29,
     "metadata": {},
     "output_type": "execute_result"
    }
   ],
   "source": [
    "# Plotar esse mesmo gráfico num bloxplot, plotando os ciclos\n",
    "# Em R -> boxplot(AirPassengers~cycle(AirPassengers)) para ajudar a identificar a sazonalidade no ciclo.\n",
    "# ACF - Auto correlation factor, mostra se o gráfico é estacionário; Se houver uma queda, ela indica se a série\n",
    "# é estacionária, se ocilar não é;\n",
    "# Partial ACF -> Vai mostrar os picos dentro da séria\n",
    "\n",
    "# Testar se a nova série é estacionária, rodar o teste ADF (Augmented Dickey-Fuller Test);\n",
    "\n",
    "# Nesse gráfico mostra\n",
    "# - Uma tendência positiva, mostrando uma séria temporal crescente;\n",
    "# - Isso demostra uma série não estacionária;\n",
    "# - Mostra uma aparente sazonalidade com uma variação relevante nos anos de 2015 e 2017;\n",
    "# - Deve-se, portanto, calcular o ruído para ver se a média dessa ocilação positiva e negativa tende a 0;\n",
    "# - Seve-se também aplicar técnicas para estacionar a série;\n",
    "\n",
    "# - Para séries não estacionárias, no modelo ARIMA, utilizar 1 no nível de autoregressão já seria o suficiente;\n",
    "'''\n",
    "Etapas\n",
    "\n",
    "- Tornar a séria estacionária - Por diferenciação\n",
    "- Controlar a variação (por transformação logarítmica, a mais simples)\n",
    "- Determinar se os termos autorregressivos (AR) ou de médias móveis (MA) são necessários\n",
    "- Teste do Modelo, Menor AIC\n",
    "- Analisar os resíduos estacionários, com média zero e variância constante = Modelo correto\n",
    "'''"
   ]
  }
 ],
 "metadata": {
  "kernelspec": {
   "display_name": "Python 3",
   "language": "python",
   "name": "python3"
  },
  "language_info": {
   "codemirror_mode": {
    "name": "ipython",
    "version": 3
   },
   "file_extension": ".py",
   "mimetype": "text/x-python",
   "name": "python",
   "nbconvert_exporter": "python",
   "pygments_lexer": "ipython3",
   "version": "3.6.8"
  }
 },
 "nbformat": 4,
 "nbformat_minor": 2
}
