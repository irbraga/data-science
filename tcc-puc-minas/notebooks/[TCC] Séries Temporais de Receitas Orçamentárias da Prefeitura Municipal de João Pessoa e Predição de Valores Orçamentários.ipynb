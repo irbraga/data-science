{
 "cells": [
  {
   "cell_type": "markdown",
   "metadata": {},
   "source": [
    "# PUC Minas\n",
    "## Pós Graduação em Ciência de Dados e Big Data (2018-2019)\n",
    "## Trabalho de Conclusão de Curso\n",
    "### Aluno: Igor Ribeiro Braga\n",
    "\n",
    "Este notebook é relativo ao meu Trabalho de Conclusão de Curso em Ciência de Dados e Big Data. O título é **Séries Temporais de Receitas Orçamentárias da Prefeitura Municipal de João Pessoa e Predição de Valores Orçamentários**, neste trabalho o dataset foi baixado no site do [TCE-PB](http://tce.pb.gov.br/servicos/dados-abertos-do-sagres-tce-pb), especificamente a Tabela: Receita Orçamentária da Esfera Municipal. Para fazer o download diretamente, clique [aqui](https://dados.tce.pb.gov.br/TCE-PB-SAGRES-Receita_Orcamentaria_Esfera_Municipal.txt.gz). O dataset deve ser salvo na pasta `datasets` na pasta raiz deste notebook."
   ]
  },
  {
   "cell_type": "markdown",
   "metadata": {},
   "source": [
    "### Leitura dos dados e importação das bibliotecas utilizadas\n",
    "\n",
    "Para iniciar o trabalho, o primeiro passo é fazer o downlad do *dataset* com os links disponibilizados acima e armazená-lo na pasta `datasets`. Assim, o documento pode ser lido sem maiores problemas.\n",
    "\n",
    "No código abaixo, as importações das bibliotecas utilizadas e a definição de métodos para facilitar a visualização dos valores em moeda Real (R$), executar testes de ADF e exibir gráficos de value counts do pandas."
   ]
  },
  {
   "cell_type": "code",
   "execution_count": 52,
   "metadata": {},
   "outputs": [
    {
     "data": {
      "text/plain": [
       "'pt_BR.UTF-8'"
      ]
     },
     "execution_count": 52,
     "metadata": {},
     "output_type": "execute_result"
    }
   ],
   "source": [
    "# Imports das bibliotecas utilizadas\n",
    "import locale\n",
    "import warnings\n",
    "import pandas as pd\n",
    "import numpy as np\n",
    "import seaborn as sns\n",
    "import statsmodels.api as sm\n",
    "import matplotlib.pyplot as plt\n",
    "from matplotlib.pylab import rcParams\n",
    "from statsmodels.tsa.stattools import adfuller\n",
    "from statsmodels.tsa.seasonal import seasonal_decompose\n",
    "from statsmodels.tsa.arima_model import ARIMA\n",
    "\n",
    "# Não exibe as mensagens de warnings\n",
    "warnings.filterwarnings('ignore')\n",
    "\n",
    "# Define valores padrão para as figuras do matplotlib\n",
    "rcParams['figure.figsize'] = 15, 6\n",
    "\n",
    "# Função para converter Float em Currency\n",
    "locale.setlocale(locale.LC_MONETARY, 'pt_BR.UTF-8')"
   ]
  },
  {
   "cell_type": "code",
   "execution_count": 3,
   "metadata": {},
   "outputs": [],
   "source": [
    "def em_reais(valor):\n",
    "    '''\n",
    "    Função para exibir os valores em reais.\n",
    "    '''\n",
    "    return locale.currency(valor, grouping=True)\n",
    "\n",
    "def show_value_counts(serie, column_desc=None, grain='Registers', \n",
    "                      size=None, total=None, title=None, height=10, index=None):\n",
    "    '''\n",
    "    Função que plota os value_counts de uma série.\n",
    "    '''\n",
    "    fig = plt.figure()\n",
    "    fig.set_size_inches(15, height)\n",
    "\n",
    "    ax1 = plt.subplot(1,1,1)\n",
    "\n",
    "    serie = serie.value_counts().sort_values(ascending=True)\n",
    "\n",
    "    if not total:\n",
    "        total = serie.sum()\n",
    "    \n",
    "    corte = ''\n",
    "    \n",
    "    if (index):\n",
    "        serie = serie.rename(index)\n",
    "    \n",
    "    if serie.index.dtype != 'object':\n",
    "        if serie.index.dtype == 'float64':\n",
    "            serie.index = serie.index.map(int)\n",
    "        serie.index = serie.index.map(str)\n",
    "    serie.index = serie.index.map(str)\n",
    "    \n",
    "    if size and len(serie) > size:\n",
    "        serie = serie.sort_values(ascending=False)\n",
    "        serie = serie[:size]\n",
    "        serie = serie.sort_values(ascending=True)\n",
    "        corte = ' ({} mais frequentes)'.format(size)\n",
    "    \n",
    "    if not title:\n",
    "        if column_desc:\n",
    "            column = column_desc\n",
    "        else:\n",
    "            column = serie.name\n",
    "        title = \"#{} by {}{}\".format(grain, column, corte)\n",
    "   \n",
    "    ax1.barh(serie.index, serie, align='center', color='c', ecolor='black')\n",
    "    percentage = serie/total*100\n",
    "    number_distance = serie.max()*0.005\n",
    "    \n",
    "    for i, v in enumerate(serie):\n",
    "        pct = locale.format('%.2f', percentage[i], True)\n",
    "        ax1.text(v+number_distance , i-0.2, '{0:,} ({1}%)'.format(v, pct), color='k')\n",
    "    ax1.set(title=title,\n",
    "           xlabel='',\n",
    "           ylabel='')\n",
    "    sns.despine(left=True, bottom=True)\n",
    "\n",
    "    plt.show()\n",
    "    plt.show()\n",
    "\n",
    "def teste_adf(serie):\n",
    "    '''\n",
    "    Função para exibir o teste Augmented Dickey-Fuller.\n",
    "    '''\n",
    "    result = adfuller(serie)\n",
    "    print('ADF Statistic: %f' % result[0])\n",
    "    print('p-value: %f' % result[1])\n",
    "    print('Critical Values:')\n",
    "    for key, value in result[4].items():\n",
    "        print('\\t%s: %.3f' % (key, value))"
   ]
  },
  {
   "cell_type": "markdown",
   "metadata": {},
   "source": [
    "Para a leitura do dataset, foi definido os tipos das colunas **cd_ugestora**, **dt_mesano** e **dt_ano**."
   ]
  },
  {
   "cell_type": "code",
   "execution_count": 4,
   "metadata": {},
   "outputs": [],
   "source": [
    "# Definindo tipos das colunas antes de ler o dataset\n",
    "columns_types = {'cd_ugestora': str, 'dt_mesano': str, 'dt_ano': int}\n",
    "\n",
    "# Carrega os dados usando pandas\n",
    "receitas = pd.read_csv('datasets/TCE-PB-SAGRES-Receita_Orcamentaria_Esfera_Municipal.txt',sep='|',dtype=columns_types,encoding='utf-8')"
   ]
  },
  {
   "cell_type": "markdown",
   "metadata": {},
   "source": [
    "O dataset possui os dados de todas as entidade públicas da esfera municipal do estado da Paraíba, mas este estudo, apenas a **Prefeitura Municipal de João Pessoa** será utilizada. Portanto um filtro é aplicado e cria-se um novo Pandas Dataframe."
   ]
  },
  {
   "cell_type": "code",
   "execution_count": 5,
   "metadata": {},
   "outputs": [
    {
     "name": "stdout",
     "output_type": "stream",
     "text": [
      "<class 'pandas.core.frame.DataFrame'>\n",
      "Int64Index: 7749 entries, 487846 to 628083\n",
      "Data columns (total 9 columns):\n",
      "cd_ugestora              7749 non-null object\n",
      "de_ugestora              7749 non-null object\n",
      "dt_ano                   7749 non-null int64\n",
      "cd_receitaorcug          7749 non-null int64\n",
      "de_receitaorcug          7516 non-null object\n",
      "tp_atualizacaoreceita    7749 non-null int64\n",
      "de_atualizacaoreceita    7749 non-null object\n",
      "vl_lancamentoOrc         7749 non-null float64\n",
      "dt_mesano                7749 non-null object\n",
      "dtypes: float64(1), int64(3), object(5)\n",
      "memory usage: 605.4+ KB\n"
     ]
    }
   ],
   "source": [
    "# Obtém todos os dados da Prefeitura Municipal de João Pessoa (cd_ugestora=201095)\n",
    "pref_mun_joao_pessoa = receitas[receitas['cd_ugestora'] == '201095']\n",
    "\n",
    "# Mostra informações sobre o dataset\n",
    "pref_mun_joao_pessoa.info()"
   ]
  },
  {
   "cell_type": "markdown",
   "metadata": {},
   "source": [
    "Acima, um resumo do dataset disponibilizado pelo Pandas. Nele, podemos verificar quais as colunas presentes, qual o tipo de dado cada coluna foi carregada e quantos objetos não nulos temos por coluna. Neste exemplo podemos verificar que a coluna **de_receitaorcug** possui valores nulos."
   ]
  },
  {
   "cell_type": "code",
   "execution_count": 6,
   "metadata": {},
   "outputs": [
    {
     "data": {
      "text/html": [
       "<div>\n",
       "<style scoped>\n",
       "    .dataframe tbody tr th:only-of-type {\n",
       "        vertical-align: middle;\n",
       "    }\n",
       "\n",
       "    .dataframe tbody tr th {\n",
       "        vertical-align: top;\n",
       "    }\n",
       "\n",
       "    .dataframe thead th {\n",
       "        text-align: right;\n",
       "    }\n",
       "</style>\n",
       "<table border=\"1\" class=\"dataframe\">\n",
       "  <thead>\n",
       "    <tr style=\"text-align: right;\">\n",
       "      <th></th>\n",
       "      <th>dt_ano</th>\n",
       "      <th>cd_receitaorcug</th>\n",
       "      <th>tp_atualizacaoreceita</th>\n",
       "      <th>vl_lancamentoOrc</th>\n",
       "    </tr>\n",
       "  </thead>\n",
       "  <tbody>\n",
       "    <tr>\n",
       "      <th>count</th>\n",
       "      <td>7749.000000</td>\n",
       "      <td>7.749000e+03</td>\n",
       "      <td>7749.000000</td>\n",
       "      <td>7.749000e+03</td>\n",
       "    </tr>\n",
       "    <tr>\n",
       "      <th>mean</th>\n",
       "      <td>2010.379275</td>\n",
       "      <td>1.507647e+08</td>\n",
       "      <td>1.197574</td>\n",
       "      <td>2.410722e+06</td>\n",
       "    </tr>\n",
       "    <tr>\n",
       "      <th>std</th>\n",
       "      <td>4.956292</td>\n",
       "      <td>1.113795e+09</td>\n",
       "      <td>0.594949</td>\n",
       "      <td>5.512834e+06</td>\n",
       "    </tr>\n",
       "    <tr>\n",
       "      <th>min</th>\n",
       "      <td>2003.000000</td>\n",
       "      <td>1.000000e+00</td>\n",
       "      <td>1.000000</td>\n",
       "      <td>0.000000e+00</td>\n",
       "    </tr>\n",
       "    <tr>\n",
       "      <th>25%</th>\n",
       "      <td>2006.000000</td>\n",
       "      <td>1.121250e+07</td>\n",
       "      <td>1.000000</td>\n",
       "      <td>2.655952e+04</td>\n",
       "    </tr>\n",
       "    <tr>\n",
       "      <th>50%</th>\n",
       "      <td>2010.000000</td>\n",
       "      <td>1.721010e+07</td>\n",
       "      <td>1.000000</td>\n",
       "      <td>2.675004e+05</td>\n",
       "    </tr>\n",
       "    <tr>\n",
       "      <th>75%</th>\n",
       "      <td>2015.000000</td>\n",
       "      <td>1.761000e+07</td>\n",
       "      <td>1.000000</td>\n",
       "      <td>1.600073e+06</td>\n",
       "    </tr>\n",
       "    <tr>\n",
       "      <th>max</th>\n",
       "      <td>2019.000000</td>\n",
       "      <td>9.517214e+09</td>\n",
       "      <td>5.000000</td>\n",
       "      <td>8.593407e+07</td>\n",
       "    </tr>\n",
       "  </tbody>\n",
       "</table>\n",
       "</div>"
      ],
      "text/plain": [
       "            dt_ano  cd_receitaorcug  tp_atualizacaoreceita  vl_lancamentoOrc\n",
       "count  7749.000000     7.749000e+03            7749.000000      7.749000e+03\n",
       "mean   2010.379275     1.507647e+08               1.197574      2.410722e+06\n",
       "std       4.956292     1.113795e+09               0.594949      5.512834e+06\n",
       "min    2003.000000     1.000000e+00               1.000000      0.000000e+00\n",
       "25%    2006.000000     1.121250e+07               1.000000      2.655952e+04\n",
       "50%    2010.000000     1.721010e+07               1.000000      2.675004e+05\n",
       "75%    2015.000000     1.761000e+07               1.000000      1.600073e+06\n",
       "max    2019.000000     9.517214e+09               5.000000      8.593407e+07"
      ]
     },
     "execution_count": 6,
     "metadata": {},
     "output_type": "execute_result"
    }
   ],
   "source": [
    "# Descrição do dataset\n",
    "pref_mun_joao_pessoa.describe()"
   ]
  },
  {
   "cell_type": "markdown",
   "metadata": {},
   "source": [
    "Com o método *describe* do Pandas obtemos informações sobre o dataset como:\n",
    "1. count: Quantidade de registros\n",
    "1. mean: Mediana\n",
    "1. std: Desvio padrão\n",
    "1. min: Valor mínimo\n",
    "1. 25%: Primeiro quartil\n",
    "1. 50%: Segundo quartil\n",
    "1. 75%: Terceiro quartil\n",
    "1. máx: Valor máximo"
   ]
  },
  {
   "cell_type": "markdown",
   "metadata": {},
   "source": [
    "Abaixo são demonstrados quais são os tipos de receitas que uma prefeitura como a de João Pessoa recebe por mês."
   ]
  },
  {
   "cell_type": "code",
   "execution_count": 7,
   "metadata": {},
   "outputs": [
    {
     "data": {
      "image/png": "[encoded data removed]",
      "text/plain": [
       "<Figure size 1080x360 with 1 Axes>"
      ]
     },
     "metadata": {
      "needs_background": "light"
     },
     "output_type": "display_data"
    }
   ],
   "source": [
    "# Tipos de receitas que o Município recebe:\n",
    "# Aqui, os valores não são referentes ao total em receita, mas quantas vezes aparece no dataset.\n",
    "show_value_counts(pref_mun_joao_pessoa['de_receitaorcug'],size=5,column_desc='Tipos de receitas',height=5)"
   ]
  },
  {
   "cell_type": "markdown",
   "metadata": {},
   "source": [
    "Vamos verificar se o dataset possui colunas com dados nulos."
   ]
  },
  {
   "cell_type": "code",
   "execution_count": 8,
   "metadata": {},
   "outputs": [
    {
     "data": {
      "text/plain": [
       "cd_ugestora              False\n",
       "de_ugestora              False\n",
       "dt_ano                   False\n",
       "cd_receitaorcug          False\n",
       "de_receitaorcug           True\n",
       "tp_atualizacaoreceita    False\n",
       "de_atualizacaoreceita    False\n",
       "vl_lancamentoOrc         False\n",
       "dt_mesano                False\n",
       "dtype: bool"
      ]
     },
     "execution_count": 8,
     "metadata": {},
     "output_type": "execute_result"
    }
   ],
   "source": [
    "# Identificando valores Nulos em colunas\n",
    "pref_mun_joao_pessoa.isna().any()"
   ]
  },
  {
   "cell_type": "markdown",
   "metadata": {},
   "source": [
    "É identificado que a coluna **de_receitaorcug** possui dados nulos. Essa coluna é de descrição das receitas recebidas pela unidade de gestão. Abaixo iremos preencher com uma string padrão."
   ]
  },
  {
   "cell_type": "code",
   "execution_count": 9,
   "metadata": {},
   "outputs": [],
   "source": [
    "# Preenchendo os valores nulos\n",
    "pref_mun_joao_pessoa.de_receitaorcug.fillna('Sem descrição', inplace=True)"
   ]
  },
  {
   "cell_type": "markdown",
   "metadata": {},
   "source": [
    "Após preencher a coluna que possui dados nulos, verificar se ficou alguma coluna com dados nulos."
   ]
  },
  {
   "cell_type": "code",
   "execution_count": 10,
   "metadata": {},
   "outputs": [
    {
     "data": {
      "text/plain": [
       "cd_ugestora              False\n",
       "de_ugestora              False\n",
       "dt_ano                   False\n",
       "cd_receitaorcug          False\n",
       "de_receitaorcug          False\n",
       "tp_atualizacaoreceita    False\n",
       "de_atualizacaoreceita    False\n",
       "vl_lancamentoOrc         False\n",
       "dt_mesano                False\n",
       "dtype: bool"
      ]
     },
     "execution_count": 10,
     "metadata": {},
     "output_type": "execute_result"
    }
   ],
   "source": [
    "# Identificando valores Nulos em colunas\n",
    "pref_mun_joao_pessoa.isna().any()"
   ]
  },
  {
   "cell_type": "markdown",
   "metadata": {},
   "source": [
    "Analisando outras entidade públicas no dataset, identiquei que algumas delas possuiam datas com meses incoerentes, como `13` por exemplo. Assim, vou verificar na coluna **dt_mesano** e pegar os 2 primeiros dígitos do meses (formato MMYYYY) e listar para verificar se algum possui esse dado incoerente."
   ]
  },
  {
   "cell_type": "code",
   "execution_count": 11,
   "metadata": {},
   "outputs": [
    {
     "data": {
      "text/plain": [
       "07    683\n",
       "12    673\n",
       "06    671\n",
       "05    660\n",
       "04    651\n",
       "08    638\n",
       "10    637\n",
       "01    636\n",
       "03    635\n",
       "11    630\n",
       "09    626\n",
       "02    609\n",
       "Name: dt_mesano, dtype: int64"
      ]
     },
     "execution_count": 11,
     "metadata": {},
     "output_type": "execute_result"
    }
   ],
   "source": [
    "# Certificando se possuem meses incoerentes\n",
    "pref_mun_joao_pessoa.dt_mesano.str.slice(0,2).value_counts()"
   ]
  },
  {
   "cell_type": "markdown",
   "metadata": {},
   "source": [
    "Nesse caso os dados só possuem valores de meses válidos.\n",
    "\n",
    "Sabendo que os dados da coluna **dt_mesano** estão coerentes, vou mudar o tipo de dado da coluna pata `datetime`."
   ]
  },
  {
   "cell_type": "code",
   "execution_count": 12,
   "metadata": {},
   "outputs": [],
   "source": [
    "# Convertendo a coluna Mês/Ano em Datetime\n",
    "pref_mun_joao_pessoa['dt_mesano'] = pd.to_datetime(pref_mun_joao_pessoa['dt_mesano'], format='%m%Y')"
   ]
  },
  {
   "cell_type": "markdown",
   "metadata": {},
   "source": [
    "Com o dataset suficientemente validado, podemos iniciar o processo de análise dos dados."
   ]
  },
  {
   "cell_type": "markdown",
   "metadata": {},
   "source": [
    "### Análise inicial do dados e obtenção de informações do dataset\n",
    "\n",
    "Para iniciar o estudo do dataset, alguns questionamentos vieram a mente:\n",
    "\n",
    "1. Quais os valores recebidos por ano?\n",
    "1. Quais os valores recebidos por mês/ano?\n",
    "1. Como se comporta a série temporal do total de receitas mês/ano do Município?\n",
    "1. Como se fazer forecasting de valores orçamentários baseados no dataset?\n",
    "\n",
    "Bem, vamos começar pela primeira pergunta:\n",
    "\n",
    "#### 1. Quais os valores recebidos por ano?\n",
    "\n",
    "Para responder a essa pergunta, vamos primeiro remover as colunas que não agregam informação para isso em um novo Dataframe."
   ]
  },
  {
   "cell_type": "code",
   "execution_count": 13,
   "metadata": {
    "scrolled": true
   },
   "outputs": [
    {
     "data": {
      "text/html": [
       "<div>\n",
       "<style scoped>\n",
       "    .dataframe tbody tr th:only-of-type {\n",
       "        vertical-align: middle;\n",
       "    }\n",
       "\n",
       "    .dataframe tbody tr th {\n",
       "        vertical-align: top;\n",
       "    }\n",
       "\n",
       "    .dataframe thead th {\n",
       "        text-align: right;\n",
       "    }\n",
       "</style>\n",
       "<table border=\"1\" class=\"dataframe\">\n",
       "  <thead>\n",
       "    <tr style=\"text-align: right;\">\n",
       "      <th></th>\n",
       "      <th>dt_ano</th>\n",
       "      <th>vl_lancamentoOrc</th>\n",
       "    </tr>\n",
       "  </thead>\n",
       "  <tbody>\n",
       "    <tr>\n",
       "      <th>487846</th>\n",
       "      <td>2007</td>\n",
       "      <td>112414.55</td>\n",
       "    </tr>\n",
       "    <tr>\n",
       "      <th>487847</th>\n",
       "      <td>2007</td>\n",
       "      <td>96588.89</td>\n",
       "    </tr>\n",
       "    <tr>\n",
       "      <th>487848</th>\n",
       "      <td>2007</td>\n",
       "      <td>112195.04</td>\n",
       "    </tr>\n",
       "    <tr>\n",
       "      <th>487849</th>\n",
       "      <td>2007</td>\n",
       "      <td>96514.83</td>\n",
       "    </tr>\n",
       "    <tr>\n",
       "      <th>487850</th>\n",
       "      <td>2007</td>\n",
       "      <td>100358.00</td>\n",
       "    </tr>\n",
       "  </tbody>\n",
       "</table>\n",
       "</div>"
      ],
      "text/plain": [
       "        dt_ano  vl_lancamentoOrc\n",
       "487846    2007         112414.55\n",
       "487847    2007          96588.89\n",
       "487848    2007         112195.04\n",
       "487849    2007          96514.83\n",
       "487850    2007         100358.00"
      ]
     },
     "execution_count": 13,
     "metadata": {},
     "output_type": "execute_result"
    }
   ],
   "source": [
    "# Criar novo dataframe apenas com os dados que importam\n",
    "receitas_por_ano = pref_mun_joao_pessoa.drop(columns=['cd_ugestora','de_ugestora','cd_receitaorcug','de_receitaorcug','tp_atualizacaoreceita','de_atualizacaoreceita','dt_mesano'])\n",
    "receitas_por_ano.head()"
   ]
  },
  {
   "cell_type": "markdown",
   "metadata": {},
   "source": [
    "Aqui temos as várias entradas de receitas por mês dos anos de 2003 a 2018. No momento, queremos esses valores agrupados e somados por ano."
   ]
  },
  {
   "cell_type": "code",
   "execution_count": 14,
   "metadata": {},
   "outputs": [],
   "source": [
    "# Agrupar e calcular a soma da coluna vl_lancamentoOrc\n",
    "receitas_por_ano['total'] = receitas_por_ano.groupby('dt_ano').transform('sum')\n",
    "receitas_por_ano = receitas_por_ano.drop(columns=['vl_lancamentoOrc'])"
   ]
  },
  {
   "cell_type": "code",
   "execution_count": 15,
   "metadata": {},
   "outputs": [],
   "source": [
    "# Removendo duplicatas e ordenando pelo ano\n",
    "receitas_por_ano.drop_duplicates(keep='first', inplace=True)\n",
    "receitas_por_ano.sort_values(by=['dt_ano'],ascending=True,inplace=True)"
   ]
  },
  {
   "cell_type": "code",
   "execution_count": 16,
   "metadata": {},
   "outputs": [
    {
     "data": {
      "text/html": [
       "<div>\n",
       "<style scoped>\n",
       "    .dataframe tbody tr th:only-of-type {\n",
       "        vertical-align: middle;\n",
       "    }\n",
       "\n",
       "    .dataframe tbody tr th {\n",
       "        vertical-align: top;\n",
       "    }\n",
       "\n",
       "    .dataframe thead th {\n",
       "        text-align: right;\n",
       "    }\n",
       "</style>\n",
       "<table border=\"1\" class=\"dataframe\">\n",
       "  <thead>\n",
       "    <tr style=\"text-align: right;\">\n",
       "      <th></th>\n",
       "      <th>total</th>\n",
       "    </tr>\n",
       "    <tr>\n",
       "      <th>dt_ano</th>\n",
       "      <th></th>\n",
       "    </tr>\n",
       "  </thead>\n",
       "  <tbody>\n",
       "    <tr>\n",
       "      <th>2003</th>\n",
       "      <td>4.269491e+08</td>\n",
       "    </tr>\n",
       "    <tr>\n",
       "      <th>2004</th>\n",
       "      <td>5.309502e+08</td>\n",
       "    </tr>\n",
       "    <tr>\n",
       "      <th>2005</th>\n",
       "      <td>6.393762e+08</td>\n",
       "    </tr>\n",
       "    <tr>\n",
       "      <th>2006</th>\n",
       "      <td>7.121140e+08</td>\n",
       "    </tr>\n",
       "    <tr>\n",
       "      <th>2007</th>\n",
       "      <td>8.121067e+08</td>\n",
       "    </tr>\n",
       "  </tbody>\n",
       "</table>\n",
       "</div>"
      ],
      "text/plain": [
       "               total\n",
       "dt_ano              \n",
       "2003    4.269491e+08\n",
       "2004    5.309502e+08\n",
       "2005    6.393762e+08\n",
       "2006    7.121140e+08\n",
       "2007    8.121067e+08"
      ]
     },
     "execution_count": 16,
     "metadata": {},
     "output_type": "execute_result"
    }
   ],
   "source": [
    "# Definindo o ano como índice\n",
    "receitas_por_ano.set_index('dt_ano',inplace=True)\n",
    "receitas_por_ano.head()"
   ]
  },
  {
   "cell_type": "markdown",
   "metadata": {},
   "source": [
    "Agora podemos exibir o primeiro gráfico, o de totais de receitas por ano."
   ]
  },
  {
   "cell_type": "code",
   "execution_count": 17,
   "metadata": {},
   "outputs": [
    {
     "data": {
      "image/png": "[encoded data removed]",
      "text/plain": [
       "<Figure size 432x288 with 1 Axes>"
      ]
     },
     "metadata": {
      "needs_background": "light"
     },
     "output_type": "display_data"
    }
   ],
   "source": [
    "# Plotando gráfico: Total de recebimentos x Ano\n",
    "ax = receitas_por_ano.plot(kind='bar',color='lightblue',title='Total de Receitas x Ano')\n",
    "\n",
    "ax.set_ylabel('Total em Bilhões')\n",
    "ax.set_xlabel('Ano')\n",
    "\n",
    "plt.show()"
   ]
  },
  {
   "cell_type": "markdown",
   "metadata": {},
   "source": [
    "Como demonstrado no gráfico acima, o ano de 2018 foi o ano que mais acumulou receitas desde 2003. Abaixo temos um resumo de informações sobre o dados do agrupamento desses valores, como os quartis(25%, 50% e 75%), a média (mean), o desvio padrão (std) e os valores máximos e mínimos.\n",
    "\n",
    "Mais abaixo, temos um gráfico bloxplot que evidencia essas informação graficamente."
   ]
  },
  {
   "cell_type": "code",
   "execution_count": 18,
   "metadata": {},
   "outputs": [
    {
     "data": {
      "text/html": [
       "<div>\n",
       "<style scoped>\n",
       "    .dataframe tbody tr th:only-of-type {\n",
       "        vertical-align: middle;\n",
       "    }\n",
       "\n",
       "    .dataframe tbody tr th {\n",
       "        vertical-align: top;\n",
       "    }\n",
       "\n",
       "    .dataframe thead th {\n",
       "        text-align: right;\n",
       "    }\n",
       "</style>\n",
       "<table border=\"1\" class=\"dataframe\">\n",
       "  <thead>\n",
       "    <tr style=\"text-align: right;\">\n",
       "      <th></th>\n",
       "      <th>total</th>\n",
       "    </tr>\n",
       "  </thead>\n",
       "  <tbody>\n",
       "    <tr>\n",
       "      <th>count</th>\n",
       "      <td>1.700000e+01</td>\n",
       "    </tr>\n",
       "    <tr>\n",
       "      <th>mean</th>\n",
       "      <td>1.098864e+09</td>\n",
       "    </tr>\n",
       "    <tr>\n",
       "      <th>std</th>\n",
       "      <td>4.326471e+08</td>\n",
       "    </tr>\n",
       "    <tr>\n",
       "      <th>min</th>\n",
       "      <td>4.269491e+08</td>\n",
       "    </tr>\n",
       "    <tr>\n",
       "      <th>25%</th>\n",
       "      <td>7.760248e+08</td>\n",
       "    </tr>\n",
       "    <tr>\n",
       "      <th>50%</th>\n",
       "      <td>1.112647e+09</td>\n",
       "    </tr>\n",
       "    <tr>\n",
       "      <th>75%</th>\n",
       "      <td>1.558121e+09</td>\n",
       "    </tr>\n",
       "    <tr>\n",
       "      <th>max</th>\n",
       "      <td>1.787108e+09</td>\n",
       "    </tr>\n",
       "  </tbody>\n",
       "</table>\n",
       "</div>"
      ],
      "text/plain": [
       "              total\n",
       "count  1.700000e+01\n",
       "mean   1.098864e+09\n",
       "std    4.326471e+08\n",
       "min    4.269491e+08\n",
       "25%    7.760248e+08\n",
       "50%    1.112647e+09\n",
       "75%    1.558121e+09\n",
       "max    1.787108e+09"
      ]
     },
     "execution_count": 18,
     "metadata": {},
     "output_type": "execute_result"
    }
   ],
   "source": [
    "# Informações sobre o desvio padrão, valores máximo e mínimo e os percentiles.\n",
    "receitas_por_ano.describe()"
   ]
  },
  {
   "cell_type": "code",
   "execution_count": 19,
   "metadata": {},
   "outputs": [
    {
     "data": {
      "text/plain": [
       "<matplotlib.axes._subplots.AxesSubplot at 0x7fbd97369320>"
      ]
     },
     "execution_count": 19,
     "metadata": {},
     "output_type": "execute_result"
    },
    {
     "data": {
      "image/png": "[encoded data removed]",
      "text/plain": [
       "<Figure size 432x288 with 1 Axes>"
      ]
     },
     "metadata": {
      "needs_background": "light"
     },
     "output_type": "display_data"
    }
   ],
   "source": [
    "# Gráfico bolxplot dos totais de receitas recebidas entre os anos de 2003 e 2019\n",
    "receitas_por_ano.boxplot()"
   ]
  },
  {
   "cell_type": "code",
   "execution_count": 20,
   "metadata": {},
   "outputs": [
    {
     "data": {
      "text/plain": [
       "total    2018\n",
       "dtype: int64"
      ]
     },
     "execution_count": 20,
     "metadata": {},
     "output_type": "execute_result"
    }
   ],
   "source": [
    "# Ano que ocorreu o maior valor total de receitas\n",
    "receitas_por_ano.idxmax(axis=0)"
   ]
  },
  {
   "cell_type": "code",
   "execution_count": 21,
   "metadata": {},
   "outputs": [
    {
     "data": {
      "text/plain": [
       "'R$ 1.787.107.723,33'"
      ]
     },
     "execution_count": 21,
     "metadata": {},
     "output_type": "execute_result"
    }
   ],
   "source": [
    "# Maior valor total de receitas recebidos em um mesmo ano\n",
    "em_reais(receitas_por_ano.loc[2018]['total'])"
   ]
  },
  {
   "cell_type": "markdown",
   "metadata": {},
   "source": [
    "Com o gráfico fica mais evidente a proporção dos valores recebidos por ano, e com isso pudemos identificar o ano que mais acumulou receita e o valor total acumulado.\n",
    "\n",
    "**2018: R$ 1.787.108.000,00**"
   ]
  },
  {
   "cell_type": "markdown",
   "metadata": {},
   "source": [
    "Mais da metade dos anos presentes no dataset mostram valores que são marcados como **outliers**, sejam eles superiores ou inforiores aos percentis. Isso pode ser devido a meses no ano em que as arrecadações sobem consideravelmente por eventos que ocorrem em intervalo de tempo, como prazos limites de pagamentos de impostos ou recebimentos de receitas que sofreram atrasos em alguns anos.  \n",
    "\n",
    "Mais abaixo iremos detalhar melhor os dados mensalmente. E rever esse mesmo gráfico agrupado por mês e verificar seu comportamento."
   ]
  },
  {
   "cell_type": "markdown",
   "metadata": {},
   "source": [
    "#### 2. Quais os valores recebidos por mês/ano?\n",
    "\n",
    "A análise aqui será similar a da pergunta anterior, mas levando em consideração da coluna **dt_mesano** ao invés da **dt_ano**."
   ]
  },
  {
   "cell_type": "code",
   "execution_count": 22,
   "metadata": {},
   "outputs": [
    {
     "data": {
      "text/html": [
       "<div>\n",
       "<style scoped>\n",
       "    .dataframe tbody tr th:only-of-type {\n",
       "        vertical-align: middle;\n",
       "    }\n",
       "\n",
       "    .dataframe tbody tr th {\n",
       "        vertical-align: top;\n",
       "    }\n",
       "\n",
       "    .dataframe thead th {\n",
       "        text-align: right;\n",
       "    }\n",
       "</style>\n",
       "<table border=\"1\" class=\"dataframe\">\n",
       "  <thead>\n",
       "    <tr style=\"text-align: right;\">\n",
       "      <th></th>\n",
       "      <th>vl_lancamentoOrc</th>\n",
       "      <th>dt_mesano</th>\n",
       "    </tr>\n",
       "  </thead>\n",
       "  <tbody>\n",
       "    <tr>\n",
       "      <th>487846</th>\n",
       "      <td>112414.55</td>\n",
       "      <td>2007-01-01</td>\n",
       "    </tr>\n",
       "    <tr>\n",
       "      <th>487847</th>\n",
       "      <td>96588.89</td>\n",
       "      <td>2007-02-01</td>\n",
       "    </tr>\n",
       "    <tr>\n",
       "      <th>487848</th>\n",
       "      <td>112195.04</td>\n",
       "      <td>2007-03-01</td>\n",
       "    </tr>\n",
       "    <tr>\n",
       "      <th>487849</th>\n",
       "      <td>96514.83</td>\n",
       "      <td>2007-04-01</td>\n",
       "    </tr>\n",
       "    <tr>\n",
       "      <th>487850</th>\n",
       "      <td>100358.00</td>\n",
       "      <td>2007-05-01</td>\n",
       "    </tr>\n",
       "  </tbody>\n",
       "</table>\n",
       "</div>"
      ],
      "text/plain": [
       "        vl_lancamentoOrc  dt_mesano\n",
       "487846         112414.55 2007-01-01\n",
       "487847          96588.89 2007-02-01\n",
       "487848         112195.04 2007-03-01\n",
       "487849          96514.83 2007-04-01\n",
       "487850         100358.00 2007-05-01"
      ]
     },
     "execution_count": 22,
     "metadata": {},
     "output_type": "execute_result"
    }
   ],
   "source": [
    "# Criar novo dataframe apenas com os dados que importam\n",
    "receitas_por_mes_ano = pref_mun_joao_pessoa.drop(columns=['cd_ugestora','de_ugestora','cd_receitaorcug','de_receitaorcug','tp_atualizacaoreceita','de_atualizacaoreceita','dt_ano'])\n",
    "receitas_por_mes_ano.head()"
   ]
  },
  {
   "cell_type": "code",
   "execution_count": 23,
   "metadata": {},
   "outputs": [],
   "source": [
    "# Agrupar e calcular a soma da coluna vl_lancamentoOrc\n",
    "receitas_por_mes_ano['total'] = receitas_por_mes_ano.groupby('dt_mesano').transform('sum')\n",
    "receitas_por_mes_ano = receitas_por_mes_ano.drop(columns=['vl_lancamentoOrc'])"
   ]
  },
  {
   "cell_type": "code",
   "execution_count": 24,
   "metadata": {},
   "outputs": [],
   "source": [
    "# Removendo duplicatas\n",
    "receitas_por_mes_ano.drop_duplicates(keep='first', inplace=True)\n",
    "receitas_por_mes_ano.sort_values(by=['dt_mesano'],ascending=True,inplace=True)"
   ]
  },
  {
   "cell_type": "code",
   "execution_count": 25,
   "metadata": {},
   "outputs": [
    {
     "data": {
      "text/html": [
       "<div>\n",
       "<style scoped>\n",
       "    .dataframe tbody tr th:only-of-type {\n",
       "        vertical-align: middle;\n",
       "    }\n",
       "\n",
       "    .dataframe tbody tr th {\n",
       "        vertical-align: top;\n",
       "    }\n",
       "\n",
       "    .dataframe thead th {\n",
       "        text-align: right;\n",
       "    }\n",
       "</style>\n",
       "<table border=\"1\" class=\"dataframe\">\n",
       "  <thead>\n",
       "    <tr style=\"text-align: right;\">\n",
       "      <th></th>\n",
       "      <th>total</th>\n",
       "    </tr>\n",
       "    <tr>\n",
       "      <th>dt_mesano</th>\n",
       "      <th></th>\n",
       "    </tr>\n",
       "  </thead>\n",
       "  <tbody>\n",
       "    <tr>\n",
       "      <th>2003-01-01</th>\n",
       "      <td>46923205.80</td>\n",
       "    </tr>\n",
       "    <tr>\n",
       "      <th>2003-02-01</th>\n",
       "      <td>31463697.81</td>\n",
       "    </tr>\n",
       "    <tr>\n",
       "      <th>2003-03-01</th>\n",
       "      <td>34147830.15</td>\n",
       "    </tr>\n",
       "    <tr>\n",
       "      <th>2003-04-01</th>\n",
       "      <td>29138516.65</td>\n",
       "    </tr>\n",
       "    <tr>\n",
       "      <th>2003-05-01</th>\n",
       "      <td>38139457.19</td>\n",
       "    </tr>\n",
       "  </tbody>\n",
       "</table>\n",
       "</div>"
      ],
      "text/plain": [
       "                  total\n",
       "dt_mesano              \n",
       "2003-01-01  46923205.80\n",
       "2003-02-01  31463697.81\n",
       "2003-03-01  34147830.15\n",
       "2003-04-01  29138516.65\n",
       "2003-05-01  38139457.19"
      ]
     },
     "execution_count": 25,
     "metadata": {},
     "output_type": "execute_result"
    }
   ],
   "source": [
    "# Definindo o mês/ano como índice\n",
    "receitas_por_mes_ano.set_index('dt_mesano',inplace=True)\n",
    "receitas_por_mes_ano.head()"
   ]
  },
  {
   "cell_type": "markdown",
   "metadata": {},
   "source": [
    "Como os dados tratados aqui agora são os meses do ano, a visualização do gráfico utilizando barras não fica bom pois serão plotados os meses e as informações sobre os meses no eixo X ficarão sobrepostos. Portanto vou criar um gráfico em linha. Isso também irá nos ambientar para nosso futuro estudo sobre a série temporal orçamentária."
   ]
  },
  {
   "cell_type": "code",
   "execution_count": 26,
   "metadata": {},
   "outputs": [
    {
     "data": {
      "image/png": "[encoded data removed]",
      "text/plain": [
       "<Figure size 432x288 with 1 Axes>"
      ]
     },
     "metadata": {
      "needs_background": "light"
     },
     "output_type": "display_data"
    }
   ],
   "source": [
    "# Plotando gráfico: Total de recebimentos x Mês/Ano\n",
    "ax = receitas_por_mes_ano.plot(kind='line',color='lightblue',title='Total de Recebimentos x Mês/Ano')\n",
    "\n",
    "ax.set_ylabel('Total em Milhões')\n",
    "ax.set_xlabel('Mês/Ano')\n",
    "\n",
    "plt.show()"
   ]
  },
  {
   "cell_type": "code",
   "execution_count": 27,
   "metadata": {},
   "outputs": [
    {
     "data": {
      "text/html": [
       "<div>\n",
       "<style scoped>\n",
       "    .dataframe tbody tr th:only-of-type {\n",
       "        vertical-align: middle;\n",
       "    }\n",
       "\n",
       "    .dataframe tbody tr th {\n",
       "        vertical-align: top;\n",
       "    }\n",
       "\n",
       "    .dataframe thead th {\n",
       "        text-align: right;\n",
       "    }\n",
       "</style>\n",
       "<table border=\"1\" class=\"dataframe\">\n",
       "  <thead>\n",
       "    <tr style=\"text-align: right;\">\n",
       "      <th></th>\n",
       "      <th>total</th>\n",
       "    </tr>\n",
       "  </thead>\n",
       "  <tbody>\n",
       "    <tr>\n",
       "      <th>count</th>\n",
       "      <td>1.990000e+02</td>\n",
       "    </tr>\n",
       "    <tr>\n",
       "      <th>mean</th>\n",
       "      <td>9.387277e+07</td>\n",
       "    </tr>\n",
       "    <tr>\n",
       "      <th>std</th>\n",
       "      <td>4.116992e+07</td>\n",
       "    </tr>\n",
       "    <tr>\n",
       "      <th>min</th>\n",
       "      <td>2.913852e+07</td>\n",
       "    </tr>\n",
       "    <tr>\n",
       "      <th>25%</th>\n",
       "      <td>6.045014e+07</td>\n",
       "    </tr>\n",
       "    <tr>\n",
       "      <th>50%</th>\n",
       "      <td>9.002253e+07</td>\n",
       "    </tr>\n",
       "    <tr>\n",
       "      <th>75%</th>\n",
       "      <td>1.252799e+08</td>\n",
       "    </tr>\n",
       "    <tr>\n",
       "      <th>max</th>\n",
       "      <td>2.294779e+08</td>\n",
       "    </tr>\n",
       "  </tbody>\n",
       "</table>\n",
       "</div>"
      ],
      "text/plain": [
       "              total\n",
       "count  1.990000e+02\n",
       "mean   9.387277e+07\n",
       "std    4.116992e+07\n",
       "min    2.913852e+07\n",
       "25%    6.045014e+07\n",
       "50%    9.002253e+07\n",
       "75%    1.252799e+08\n",
       "max    2.294779e+08"
      ]
     },
     "execution_count": 27,
     "metadata": {},
     "output_type": "execute_result"
    }
   ],
   "source": [
    "# Dados estatísticos\n",
    "receitas_por_mes_ano.describe()"
   ]
  },
  {
   "cell_type": "code",
   "execution_count": 28,
   "metadata": {},
   "outputs": [
    {
     "data": {
      "text/plain": [
       "<matplotlib.axes._subplots.AxesSubplot at 0x7fbd972606d8>"
      ]
     },
     "execution_count": 28,
     "metadata": {},
     "output_type": "execute_result"
    },
    {
     "data": {
      "image/png": "[encoded data removed]",
      "text/plain": [
       "<Figure size 432x288 with 1 Axes>"
      ]
     },
     "metadata": {
      "needs_background": "light"
     },
     "output_type": "display_data"
    }
   ],
   "source": [
    "# Gráfico Bloxplot com os quartis, outliers, valores mínimos e máximos\n",
    "receitas_por_mes_ano.boxplot()"
   ]
  },
  {
   "cell_type": "markdown",
   "metadata": {},
   "source": [
    "Aqui o gráfico mostra que a média dos valores se encontra bem mais próxima do limite inferior do que o limite superior. Isso mostra que quando enxergamos os dados da perspectica mensal os dados podem ter um comportamento diferente que o anual, que demonstrou ser mais distribuída ao longo do tempo."
   ]
  },
  {
   "cell_type": "code",
   "execution_count": 29,
   "metadata": {},
   "outputs": [
    {
     "data": {
      "text/plain": [
       "dt_mesano\n",
       "2014-12-01    2.294779e+08\n",
       "2018-12-01    2.177838e+08\n",
       "2016-12-01    1.992848e+08\n",
       "2019-03-01    1.939290e+08\n",
       "2015-12-01    1.714181e+08\n",
       "Name: total, dtype: float64"
      ]
     },
     "execution_count": 29,
     "metadata": {},
     "output_type": "execute_result"
    }
   ],
   "source": [
    "# 5 meses com maior volume de receitas\n",
    "receitas_por_mes_ano.total.nlargest(n=5)"
   ]
  },
  {
   "cell_type": "code",
   "execution_count": 30,
   "metadata": {},
   "outputs": [
    {
     "data": {
      "text/plain": [
       "'R$ 229.477.921,05'"
      ]
     },
     "execution_count": 30,
     "metadata": {},
     "output_type": "execute_result"
    }
   ],
   "source": [
    "# Valor formatado em reais de dezembro de 2014\n",
    "em_reais(receitas_por_mes_ano.loc['2014-12-01']['total'])"
   ]
  },
  {
   "cell_type": "markdown",
   "metadata": {},
   "source": [
    "O gráfico bloxplot acima nos dá informações sobre os percentis, desvio padrão, média, valor máximo e mínimo dos totais por mês/ano. Mas não mostra como fica essa distribuição agrupado por ano. Abaixo podemos ter essa visão e identificar o aparecimento de valores marcados como posíveis **outliers**."
   ]
  },
  {
   "cell_type": "code",
   "execution_count": 31,
   "metadata": {},
   "outputs": [
    {
     "data": {
      "text/plain": [
       "<matplotlib.axes._subplots.AxesSubplot at 0x7fbd971f8630>"
      ]
     },
     "execution_count": 31,
     "metadata": {},
     "output_type": "execute_result"
    },
    {
     "data": {
      "image/png": "[encoded data removed]",
      "text/plain": [
       "<Figure size 432x288 with 1 Axes>"
      ]
     },
     "metadata": {
      "needs_background": "light"
     },
     "output_type": "display_data"
    }
   ],
   "source": [
    "# Distribuição dos valores do dataset por ano\n",
    "df = receitas_por_mes_ano.reset_index()\n",
    "df['ano'] = df.dt_mesano.dt.year\n",
    "df.boxplot(by='ano')"
   ]
  },
  {
   "cell_type": "markdown",
   "metadata": {},
   "source": [
    "Agora vamos ver esse mesmo gráfico agrupado mensalmente. Os dados agora não mostram mais dados observados como **outliers**, isso mostra que a distribuição dos valores das receitas nos meses distribuídos pelos anos tiveram um comportamento normal para os padrões de cada mês."
   ]
  },
  {
   "cell_type": "code",
   "execution_count": 32,
   "metadata": {},
   "outputs": [
    {
     "data": {
      "text/plain": [
       "<matplotlib.axes._subplots.AxesSubplot at 0x7fbd96feceb8>"
      ]
     },
     "execution_count": 32,
     "metadata": {},
     "output_type": "execute_result"
    },
    {
     "data": {
      "image/png": "[encoded data removed]",
      "text/plain": [
       "<Figure size 432x288 with 1 Axes>"
      ]
     },
     "metadata": {
      "needs_background": "light"
     },
     "output_type": "display_data"
    }
   ],
   "source": [
    "# Distribuição dos valores do dataset por ano\n",
    "df = receitas_por_mes_ano.reset_index()\n",
    "df['mês'] = df.dt_mesano.dt.month\n",
    "df.boxplot(by='mês')"
   ]
  },
  {
   "cell_type": "markdown",
   "metadata": {},
   "source": [
    "#### Outliers\n",
    "  \n",
    "  Como a análise da série é levando em consideração os dados mensais dos totais por mês, vou considerar a figura 5, onde apenas um dos valores foi apontado como outlier relativo aos demais dados. Para o tratamento do dado e com o intuito de não impactar os valores da série, vou utilizar a média do mês de dezembro do ano de 2013 (anterior) e o ano de 2015 (posterior)."
   ]
  },
  {
   "cell_type": "code",
   "execution_count": 33,
   "metadata": {},
   "outputs": [],
   "source": [
    "receitas_por_mes_ano.total['2014-12-01'] = (receitas_por_mes_ano.total['2013-12-01'] + receitas_por_mes_ano.total['2015-12-01']) / 2"
   ]
  },
  {
   "cell_type": "code",
   "execution_count": 34,
   "metadata": {},
   "outputs": [
    {
     "data": {
      "text/plain": [
       "'R$ 163.870.833,32'"
      ]
     },
     "execution_count": 34,
     "metadata": {},
     "output_type": "execute_result"
    }
   ],
   "source": [
    "em_reais(receitas_por_mes_ano.total['2014-12-01'])"
   ]
  },
  {
   "cell_type": "markdown",
   "metadata": {},
   "source": [
    "#### 3. Como se comporta a série temporal do total de receitas mês/ano do Município?\n"
   ]
  },
  {
   "cell_type": "markdown",
   "metadata": {},
   "source": [
    "Para se inicar o estudo da série temporal, vou primeiro dividir o dataset em dois tipos de bases. Uma base de treinamento do modelo preditivo (com aproximadamente 80% dos dados) e uma outra base de teste para validação do modelo (com os 20% restantes)."
   ]
  },
  {
   "cell_type": "code",
   "execution_count": 35,
   "metadata": {},
   "outputs": [],
   "source": [
    "# Dividindo as bases\n",
    "qtd_meses_teste = 41\n",
    "ts_treino = receitas_por_mes_ano.iloc[:-qtd_meses_teste,0:1].copy()\n",
    "ts_teste = receitas_por_mes_ano.iloc[-qtd_meses_teste:,0:1].copy()"
   ]
  },
  {
   "cell_type": "code",
   "execution_count": 36,
   "metadata": {},
   "outputs": [
    {
     "data": {
      "text/html": [
       "<div>\n",
       "<style scoped>\n",
       "    .dataframe tbody tr th:only-of-type {\n",
       "        vertical-align: middle;\n",
       "    }\n",
       "\n",
       "    .dataframe tbody tr th {\n",
       "        vertical-align: top;\n",
       "    }\n",
       "\n",
       "    .dataframe thead th {\n",
       "        text-align: right;\n",
       "    }\n",
       "</style>\n",
       "<table border=\"1\" class=\"dataframe\">\n",
       "  <thead>\n",
       "    <tr style=\"text-align: right;\">\n",
       "      <th></th>\n",
       "      <th>total</th>\n",
       "    </tr>\n",
       "    <tr>\n",
       "      <th>dt_mesano</th>\n",
       "      <th></th>\n",
       "    </tr>\n",
       "  </thead>\n",
       "  <tbody>\n",
       "    <tr>\n",
       "      <th>2016-03-01</th>\n",
       "      <td>1.620259e+08</td>\n",
       "    </tr>\n",
       "    <tr>\n",
       "      <th>2016-04-01</th>\n",
       "      <td>1.174910e+08</td>\n",
       "    </tr>\n",
       "    <tr>\n",
       "      <th>2016-05-01</th>\n",
       "      <td>1.562148e+08</td>\n",
       "    </tr>\n",
       "    <tr>\n",
       "      <th>2016-06-01</th>\n",
       "      <td>1.285613e+08</td>\n",
       "    </tr>\n",
       "    <tr>\n",
       "      <th>2016-07-01</th>\n",
       "      <td>1.295133e+08</td>\n",
       "    </tr>\n",
       "  </tbody>\n",
       "</table>\n",
       "</div>"
      ],
      "text/plain": [
       "                   total\n",
       "dt_mesano               \n",
       "2016-03-01  1.620259e+08\n",
       "2016-04-01  1.174910e+08\n",
       "2016-05-01  1.562148e+08\n",
       "2016-06-01  1.285613e+08\n",
       "2016-07-01  1.295133e+08"
      ]
     },
     "execution_count": 36,
     "metadata": {},
     "output_type": "execute_result"
    }
   ],
   "source": [
    "# Início da base de teste\n",
    "ts_teste.head()"
   ]
  },
  {
   "cell_type": "code",
   "execution_count": 37,
   "metadata": {},
   "outputs": [
    {
     "data": {
      "text/html": [
       "<div>\n",
       "<style scoped>\n",
       "    .dataframe tbody tr th:only-of-type {\n",
       "        vertical-align: middle;\n",
       "    }\n",
       "\n",
       "    .dataframe tbody tr th {\n",
       "        vertical-align: top;\n",
       "    }\n",
       "\n",
       "    .dataframe thead th {\n",
       "        text-align: right;\n",
       "    }\n",
       "</style>\n",
       "<table border=\"1\" class=\"dataframe\">\n",
       "  <thead>\n",
       "    <tr style=\"text-align: right;\">\n",
       "      <th></th>\n",
       "      <th>total</th>\n",
       "    </tr>\n",
       "    <tr>\n",
       "      <th>dt_mesano</th>\n",
       "      <th></th>\n",
       "    </tr>\n",
       "  </thead>\n",
       "  <tbody>\n",
       "    <tr>\n",
       "      <th>2015-10-01</th>\n",
       "      <td>1.123847e+08</td>\n",
       "    </tr>\n",
       "    <tr>\n",
       "      <th>2015-11-01</th>\n",
       "      <td>1.075520e+08</td>\n",
       "    </tr>\n",
       "    <tr>\n",
       "      <th>2015-12-01</th>\n",
       "      <td>1.714181e+08</td>\n",
       "    </tr>\n",
       "    <tr>\n",
       "      <th>2016-01-01</th>\n",
       "      <td>1.331819e+08</td>\n",
       "    </tr>\n",
       "    <tr>\n",
       "      <th>2016-02-01</th>\n",
       "      <td>1.366303e+08</td>\n",
       "    </tr>\n",
       "  </tbody>\n",
       "</table>\n",
       "</div>"
      ],
      "text/plain": [
       "                   total\n",
       "dt_mesano               \n",
       "2015-10-01  1.123847e+08\n",
       "2015-11-01  1.075520e+08\n",
       "2015-12-01  1.714181e+08\n",
       "2016-01-01  1.331819e+08\n",
       "2016-02-01  1.366303e+08"
      ]
     },
     "execution_count": 37,
     "metadata": {},
     "output_type": "execute_result"
    }
   ],
   "source": [
    "# Final da base de treino\n",
    "ts_treino.tail()"
   ]
  },
  {
   "cell_type": "markdown",
   "metadata": {},
   "source": [
    "Vamos agora iniciar o estudo da série temporal utilizando a base de treinamento.\n",
    "  \n",
    "  \n",
    "Vamos falar sobre o gráfico criado apartir das receitas recebidas por mês pela Prefeitura Municipal de João Pessoa durante os anos de 2003 e 2016. O ciclo escolhido será de 12 meses, levando em consideração o ano fiscal que a prefeitura deve seguir para o recebimento das receitas. A motivação é identificar no gráfico características de **Tendência, Sazonalidade e Resíduo**. Vejamos o gráfico abaixo:"
   ]
  },
  {
   "cell_type": "code",
   "execution_count": 38,
   "metadata": {},
   "outputs": [
    {
     "data": {
      "image/png": "[encoded data removed]",
      "text/plain": [
       "<Figure size 432x288 with 4 Axes>"
      ]
     },
     "metadata": {
      "needs_background": "light"
     },
     "output_type": "display_data"
    }
   ],
   "source": [
    "# Decomposição dos dados da base de treinamento\n",
    "decomposicao = seasonal_decompose(ts_treino, freq=12)\n",
    "imagem = decomposicao.plot()"
   ]
  },
  {
   "cell_type": "markdown",
   "metadata": {},
   "source": [
    "#### Tendência\n",
    "  \n",
    "  No gráfico *Trend* acima é possível identificar uma crescente na tendência dos dados no gráfico. Isso também fica evidente no gráfico original da série pois os valores tendem a crecer com o decorrer do tempo. O teste de *Dickey-Fuller* pode ser aplicado para mostrar se a série é probabilísticamente estacionária caso o valor *p-value* seja menor que 5%."
   ]
  },
  {
   "cell_type": "code",
   "execution_count": 39,
   "metadata": {},
   "outputs": [
    {
     "name": "stdout",
     "output_type": "stream",
     "text": [
      "ADF Statistic: 0.670713\n",
      "p-value: 0.989235\n",
      "Critical Values:\n",
      "\t1%: -3.476\n",
      "\t5%: -2.882\n",
      "\t10%: -2.577\n"
     ]
    }
   ],
   "source": [
    "# Teste Dickey-Fuller\n",
    "teste_adf(ts_treino.total)"
   ]
  },
  {
   "cell_type": "markdown",
   "metadata": {},
   "source": [
    "O *p-value* é muito alto aqui, sendo 98%. Vamos precisar aplicar técnicas para estacionar a série."
   ]
  },
  {
   "cell_type": "markdown",
   "metadata": {},
   "source": [
    "#### Aplicando diferenciação\n",
    "  \n",
    "A diferenciação é usada para remover os sinais de tendência na tentativa de tornar a série estacionária."
   ]
  },
  {
   "cell_type": "code",
   "execution_count": 40,
   "metadata": {},
   "outputs": [],
   "source": [
    "# Aplicando a diferenciação na série e removendo dados nulos\n",
    "ts_treino_diff_1 = ts_treino.diff()\n",
    "ts_treino_diff_1 = ts_treino_diff_1.dropna()"
   ]
  },
  {
   "cell_type": "code",
   "execution_count": 41,
   "metadata": {},
   "outputs": [
    {
     "data": {
      "image/png": "[encoded data removed]",
      "text/plain": [
       "<Figure size 432x288 with 4 Axes>"
      ]
     },
     "metadata": {
      "needs_background": "light"
     },
     "output_type": "display_data"
    }
   ],
   "source": [
    "# Decomposição dos dados da base de treinamento\n",
    "decomposicao = seasonal_decompose(ts_treino_diff_1, freq=12)\n",
    "imagem = decomposicao.plot()"
   ]
  },
  {
   "cell_type": "markdown",
   "metadata": {},
   "source": [
    "Podemos notar agora que a tendência (gráfico *Trend*) varia em torno de 0. Vamos executar novamente o teste e validar o *p-value*."
   ]
  },
  {
   "cell_type": "code",
   "execution_count": 42,
   "metadata": {},
   "outputs": [
    {
     "name": "stdout",
     "output_type": "stream",
     "text": [
      "ADF Statistic: -13.588397\n",
      "p-value: 0.000000\n",
      "Critical Values:\n",
      "\t1%: -3.476\n",
      "\t5%: -2.882\n",
      "\t10%: -2.577\n"
     ]
    }
   ],
   "source": [
    "# Teste Dickey-Fuller\n",
    "teste_adf(ts_treino_diff_1.total)"
   ]
  },
  {
   "cell_type": "markdown",
   "metadata": {},
   "source": [
    "Com valor *p-value* 0 podemos considerar agora que a série é estacionária aplicando apenas **1** deferencial."
   ]
  },
  {
   "cell_type": "markdown",
   "metadata": {},
   "source": [
    "#### Autocorrelação (AR)\n",
    "\n",
    "A autocorrelação nos informará qual o grau de relação que cada dado tem com os demais dados passados da série. Isso irá ajudar a definir o valor *p* para ser utilizado no modelo preditivo.\n",
    "  \n",
    "Para isso, iremos utilizar o gráfico ACF (Autocorrelation Factor), que irá nos mostrar o número de *lags* estão fora do intervalo de confiança. Esse valor será o nosso AR."
   ]
  },
  {
   "cell_type": "code",
   "execution_count": 43,
   "metadata": {},
   "outputs": [
    {
     "data": {
      "image/png": "[encoded data removed]",
      "text/plain": [
       "<Figure size 432x288 with 1 Axes>"
      ]
     },
     "metadata": {
      "needs_background": "light"
     },
     "output_type": "display_data"
    }
   ],
   "source": [
    "# Gráfico de autocorrelação\n",
    "sm.graphics.tsa.plot_acf(ts_treino.values.squeeze(), lags=25)\n",
    "plt.show()"
   ]
  },
  {
   "cell_type": "markdown",
   "metadata": {},
   "source": [
    "Como o gráfico mostra, os valores ficam contidos no intervalo a partir do *lag* 15, então os valores a serem utilizados estará perto do valor *14*. Após alguns testes e verificando o AIC e BIC do modelo, decidi usar o valor *11*."
   ]
  },
  {
   "cell_type": "markdown",
   "metadata": {},
   "source": [
    "#### Médias Móveis (MA)\n",
    "\n",
    "Para obter o valor das médias móveis e termos uma pista sobre o valor *q*, utilizaremos o gráfico PACF (Partial Autocorrelation Factor)."
   ]
  },
  {
   "cell_type": "code",
   "execution_count": 44,
   "metadata": {},
   "outputs": [
    {
     "data": {
      "image/png": "[encoded data removed]",
      "text/plain": [
       "<Figure size 432x288 with 1 Axes>"
      ]
     },
     "metadata": {
      "needs_background": "light"
     },
     "output_type": "display_data"
    }
   ],
   "source": [
    "# Gráfico da autocorrelação parcial\n",
    "sm.graphics.tsa.plot_pacf(ts_treino.values.squeeze(), lags=25)\n",
    "plt.show()"
   ]
  },
  {
   "cell_type": "markdown",
   "metadata": {},
   "source": [
    "Vemos aqui eu os três primeiros valores têm uma significância correlativa alta em relação aos demais. Então usarei o valor 3 inicialmente para definir o valor *q* do modelo preditivo.\n",
    "  \n",
    "#### Criando o modelo preditivo e realizando a predição\n",
    "\n",
    "  Definido os valores *AR(p), I(d), MA(q)* para nosso modelo ARIMA, vamos criar o modelo e mostrar no gráfico como ficou a predição em relação aos dados de teste definidos anteriormente."
   ]
  },
  {
   "cell_type": "code",
   "execution_count": 45,
   "metadata": {},
   "outputs": [],
   "source": [
    "# Criando o modelo\n",
    "modelo = ARIMA(ts_treino, order=(11,1,3), freq=ts_treino.index.inferred_freq)"
   ]
  },
  {
   "cell_type": "code",
   "execution_count": 46,
   "metadata": {},
   "outputs": [],
   "source": [
    "# Ajustando o modelo de acordo com os parâmetros\n",
    "modelo_ajustado = modelo.fit(disp=0)"
   ]
  },
  {
   "cell_type": "code",
   "execution_count": 47,
   "metadata": {},
   "outputs": [
    {
     "data": {
      "text/html": [
       "<table class=\"simpletable\">\n",
       "<caption>ARIMA Model Results</caption>\n",
       "<tr>\n",
       "  <th>Dep. Variable:</th>      <td>D.total</td>     <th>  No. Observations:  </th>     <td>157</td>    \n",
       "</tr>\n",
       "<tr>\n",
       "  <th>Model:</th>          <td>ARIMA(11, 1, 3)</td> <th>  Log Likelihood     </th>  <td>-2753.222</td> \n",
       "</tr>\n",
       "<tr>\n",
       "  <th>Method:</th>             <td>css-mle</td>     <th>  S.D. of innovations</th> <td>9748544.576</td>\n",
       "</tr>\n",
       "<tr>\n",
       "  <th>Date:</th>          <td>Thu, 17 Oct 2019</td> <th>  AIC                </th>  <td>5538.444</td>  \n",
       "</tr>\n",
       "<tr>\n",
       "  <th>Time:</th>              <td>22:24:57</td>     <th>  BIC                </th>  <td>5587.343</td>  \n",
       "</tr>\n",
       "<tr>\n",
       "  <th>Sample:</th>           <td>02-01-2003</td>    <th>  HQIC               </th>  <td>5558.304</td>  \n",
       "</tr>\n",
       "<tr>\n",
       "  <th></th>                 <td>- 02-01-2016</td>   <th>                     </th>      <td> </td>     \n",
       "</tr>\n",
       "</table>\n",
       "<table class=\"simpletable\">\n",
       "<tr>\n",
       "         <td></td>           <th>coef</th>     <th>std err</th>      <th>z</th>      <th>P>|z|</th>  <th>[0.025</th>    <th>0.975]</th>  \n",
       "</tr>\n",
       "<tr>\n",
       "  <th>const</th>          <td> 5.714e+05</td> <td> 1.04e+05</td> <td>    5.519</td> <td> 0.000</td> <td> 3.68e+05</td> <td> 7.74e+05</td>\n",
       "</tr>\n",
       "<tr>\n",
       "  <th>ar.L1.D.total</th>  <td>   -0.9235</td> <td>    0.104</td> <td>   -8.867</td> <td> 0.000</td> <td>   -1.128</td> <td>   -0.719</td>\n",
       "</tr>\n",
       "<tr>\n",
       "  <th>ar.L2.D.total</th>  <td>   -0.8814</td> <td>    0.124</td> <td>   -7.134</td> <td> 0.000</td> <td>   -1.124</td> <td>   -0.639</td>\n",
       "</tr>\n",
       "<tr>\n",
       "  <th>ar.L3.D.total</th>  <td>   -0.7863</td> <td>    0.124</td> <td>   -6.342</td> <td> 0.000</td> <td>   -1.029</td> <td>   -0.543</td>\n",
       "</tr>\n",
       "<tr>\n",
       "  <th>ar.L4.D.total</th>  <td>   -0.8452</td> <td>    0.107</td> <td>   -7.907</td> <td> 0.000</td> <td>   -1.055</td> <td>   -0.636</td>\n",
       "</tr>\n",
       "<tr>\n",
       "  <th>ar.L5.D.total</th>  <td>   -0.8075</td> <td>    0.108</td> <td>   -7.474</td> <td> 0.000</td> <td>   -1.019</td> <td>   -0.596</td>\n",
       "</tr>\n",
       "<tr>\n",
       "  <th>ar.L6.D.total</th>  <td>   -0.7733</td> <td>    0.110</td> <td>   -7.035</td> <td> 0.000</td> <td>   -0.989</td> <td>   -0.558</td>\n",
       "</tr>\n",
       "<tr>\n",
       "  <th>ar.L7.D.total</th>  <td>   -0.8234</td> <td>    0.102</td> <td>   -8.073</td> <td> 0.000</td> <td>   -1.023</td> <td>   -0.624</td>\n",
       "</tr>\n",
       "<tr>\n",
       "  <th>ar.L8.D.total</th>  <td>   -0.7595</td> <td>    0.095</td> <td>   -7.960</td> <td> 0.000</td> <td>   -0.947</td> <td>   -0.573</td>\n",
       "</tr>\n",
       "<tr>\n",
       "  <th>ar.L9.D.total</th>  <td>   -0.7965</td> <td>    0.092</td> <td>   -8.702</td> <td> 0.000</td> <td>   -0.976</td> <td>   -0.617</td>\n",
       "</tr>\n",
       "<tr>\n",
       "  <th>ar.L10.D.total</th> <td>   -0.7371</td> <td>    0.086</td> <td>   -8.594</td> <td> 0.000</td> <td>   -0.905</td> <td>   -0.569</td>\n",
       "</tr>\n",
       "<tr>\n",
       "  <th>ar.L11.D.total</th> <td>   -0.6479</td> <td>    0.066</td> <td>   -9.757</td> <td> 0.000</td> <td>   -0.778</td> <td>   -0.518</td>\n",
       "</tr>\n",
       "<tr>\n",
       "  <th>ma.L1.D.total</th>  <td>    0.1063</td> <td>    0.136</td> <td>    0.780</td> <td> 0.437</td> <td>   -0.161</td> <td>    0.374</td>\n",
       "</tr>\n",
       "<tr>\n",
       "  <th>ma.L2.D.total</th>  <td>    0.0175</td> <td>    0.160</td> <td>    0.109</td> <td> 0.913</td> <td>   -0.296</td> <td>    0.331</td>\n",
       "</tr>\n",
       "<tr>\n",
       "  <th>ma.L3.D.total</th>  <td>    0.0902</td> <td>    0.130</td> <td>    0.696</td> <td> 0.487</td> <td>   -0.164</td> <td>    0.344</td>\n",
       "</tr>\n",
       "</table>\n",
       "<table class=\"simpletable\">\n",
       "<caption>Roots</caption>\n",
       "<tr>\n",
       "    <td></td>    <th>            Real</th>  <th>         Imaginary</th> <th>         Modulus</th>  <th>        Frequency</th>\n",
       "</tr>\n",
       "<tr>\n",
       "  <th>AR.1</th>  <td>           0.8841</td> <td>          -0.5068j</td> <td>           1.0191</td> <td>          -0.0828</td>\n",
       "</tr>\n",
       "<tr>\n",
       "  <th>AR.2</th>  <td>           0.8841</td> <td>          +0.5068j</td> <td>           1.0191</td> <td>           0.0828</td>\n",
       "</tr>\n",
       "<tr>\n",
       "  <th>AR.3</th>  <td>           0.5148</td> <td>          -0.8986j</td> <td>           1.0356</td> <td>          -0.1672</td>\n",
       "</tr>\n",
       "<tr>\n",
       "  <th>AR.4</th>  <td>           0.5148</td> <td>          +0.8986j</td> <td>           1.0356</td> <td>           0.1672</td>\n",
       "</tr>\n",
       "<tr>\n",
       "  <th>AR.5</th>  <td>          -1.0415</td> <td>          -0.0000j</td> <td>           1.0415</td> <td>          -0.5000</td>\n",
       "</tr>\n",
       "<tr>\n",
       "  <th>AR.6</th>  <td>          -0.8967</td> <td>          -0.5545j</td> <td>           1.0543</td> <td>          -0.4119</td>\n",
       "</tr>\n",
       "<tr>\n",
       "  <th>AR.7</th>  <td>          -0.8967</td> <td>          +0.5545j</td> <td>           1.0543</td> <td>           0.4119</td>\n",
       "</tr>\n",
       "<tr>\n",
       "  <th>AR.8</th>  <td>          -0.0096</td> <td>          -1.0495j</td> <td>           1.0495</td> <td>          -0.2515</td>\n",
       "</tr>\n",
       "<tr>\n",
       "  <th>AR.9</th>  <td>          -0.0096</td> <td>          +1.0495j</td> <td>           1.0495</td> <td>           0.2515</td>\n",
       "</tr>\n",
       "<tr>\n",
       "  <th>AR.10</th> <td>          -0.5407</td> <td>          -0.8914j</td> <td>           1.0425</td> <td>          -0.3368</td>\n",
       "</tr>\n",
       "<tr>\n",
       "  <th>AR.11</th> <td>          -0.5407</td> <td>          +0.8914j</td> <td>           1.0425</td> <td>           0.3368</td>\n",
       "</tr>\n",
       "<tr>\n",
       "  <th>MA.1</th>  <td>          -2.1150</td> <td>          -0.0000j</td> <td>           2.1150</td> <td>          -0.5000</td>\n",
       "</tr>\n",
       "<tr>\n",
       "  <th>MA.2</th>  <td>           0.9606</td> <td>          -2.0784j</td> <td>           2.2897</td> <td>          -0.1811</td>\n",
       "</tr>\n",
       "<tr>\n",
       "  <th>MA.3</th>  <td>           0.9606</td> <td>          +2.0784j</td> <td>           2.2897</td> <td>           0.1811</td>\n",
       "</tr>\n",
       "</table>"
      ],
      "text/plain": [
       "<class 'statsmodels.iolib.summary.Summary'>\n",
       "\"\"\"\n",
       "                             ARIMA Model Results                              \n",
       "==============================================================================\n",
       "Dep. Variable:                D.total   No. Observations:                  157\n",
       "Model:                ARIMA(11, 1, 3)   Log Likelihood               -2753.222\n",
       "Method:                       css-mle   S.D. of innovations        9748544.576\n",
       "Date:                Thu, 17 Oct 2019   AIC                           5538.444\n",
       "Time:                        22:24:57   BIC                           5587.343\n",
       "Sample:                    02-01-2003   HQIC                          5558.304\n",
       "                         - 02-01-2016                                         \n",
       "==================================================================================\n",
       "                     coef    std err          z      P>|z|      [0.025      0.975]\n",
       "----------------------------------------------------------------------------------\n",
       "const           5.714e+05   1.04e+05      5.519      0.000    3.68e+05    7.74e+05\n",
       "ar.L1.D.total     -0.9235      0.104     -8.867      0.000      -1.128      -0.719\n",
       "ar.L2.D.total     -0.8814      0.124     -7.134      0.000      -1.124      -0.639\n",
       "ar.L3.D.total     -0.7863      0.124     -6.342      0.000      -1.029      -0.543\n",
       "ar.L4.D.total     -0.8452      0.107     -7.907      0.000      -1.055      -0.636\n",
       "ar.L5.D.total     -0.8075      0.108     -7.474      0.000      -1.019      -0.596\n",
       "ar.L6.D.total     -0.7733      0.110     -7.035      0.000      -0.989      -0.558\n",
       "ar.L7.D.total     -0.8234      0.102     -8.073      0.000      -1.023      -0.624\n",
       "ar.L8.D.total     -0.7595      0.095     -7.960      0.000      -0.947      -0.573\n",
       "ar.L9.D.total     -0.7965      0.092     -8.702      0.000      -0.976      -0.617\n",
       "ar.L10.D.total    -0.7371      0.086     -8.594      0.000      -0.905      -0.569\n",
       "ar.L11.D.total    -0.6479      0.066     -9.757      0.000      -0.778      -0.518\n",
       "ma.L1.D.total      0.1063      0.136      0.780      0.437      -0.161       0.374\n",
       "ma.L2.D.total      0.0175      0.160      0.109      0.913      -0.296       0.331\n",
       "ma.L3.D.total      0.0902      0.130      0.696      0.487      -0.164       0.344\n",
       "                                    Roots                                     \n",
       "==============================================================================\n",
       "                   Real          Imaginary           Modulus         Frequency\n",
       "------------------------------------------------------------------------------\n",
       "AR.1             0.8841           -0.5068j            1.0191           -0.0828\n",
       "AR.2             0.8841           +0.5068j            1.0191            0.0828\n",
       "AR.3             0.5148           -0.8986j            1.0356           -0.1672\n",
       "AR.4             0.5148           +0.8986j            1.0356            0.1672\n",
       "AR.5            -1.0415           -0.0000j            1.0415           -0.5000\n",
       "AR.6            -0.8967           -0.5545j            1.0543           -0.4119\n",
       "AR.7            -0.8967           +0.5545j            1.0543            0.4119\n",
       "AR.8            -0.0096           -1.0495j            1.0495           -0.2515\n",
       "AR.9            -0.0096           +1.0495j            1.0495            0.2515\n",
       "AR.10           -0.5407           -0.8914j            1.0425           -0.3368\n",
       "AR.11           -0.5407           +0.8914j            1.0425            0.3368\n",
       "MA.1            -2.1150           -0.0000j            2.1150           -0.5000\n",
       "MA.2             0.9606           -2.0784j            2.2897           -0.1811\n",
       "MA.3             0.9606           +2.0784j            2.2897            0.1811\n",
       "------------------------------------------------------------------------------\n",
       "\"\"\""
      ]
     },
     "execution_count": 47,
     "metadata": {},
     "output_type": "execute_result"
    }
   ],
   "source": [
    "# Exibe dados do modelo, como valores AIC e BIC obtidos.\n",
    "modelo_ajustado.summary()"
   ]
  },
  {
   "cell_type": "code",
   "execution_count": 48,
   "metadata": {},
   "outputs": [
    {
     "data": {
      "image/png": "[encoded data removed]",
      "text/plain": [
       "<Figure size 432x288 with 2 Axes>"
      ]
     },
     "metadata": {
      "needs_background": "light"
     },
     "output_type": "display_data"
    }
   ],
   "source": [
    "# Gráfico com os erros residuais do modelo ajustado\n",
    "redisuais = pd.DataFrame(modelo_ajustado.resid)\n",
    "fig, ax = plt.subplots(1,2)\n",
    "redisuais.plot(title=\"Residuais\", ax=ax[0])\n",
    "redisuais.plot(kind='kde', title='Densidade', ax=ax[1])\n",
    "plt.show()"
   ]
  },
  {
   "cell_type": "markdown",
   "metadata": {},
   "source": [
    "Os resíduos ficam em torno de 0 com uma variação satisfatória, com os pontos tendendo a permanecer com média em torno de 0. E a densidade dos dados se comporta como uma distribuição normal."
   ]
  },
  {
   "cell_type": "code",
   "execution_count": 49,
   "metadata": {},
   "outputs": [
    {
     "data": {
      "image/png": "[encoded data removed]",
      "text/plain": [
       "<Figure size 432x288 with 1 Axes>"
      ]
     },
     "metadata": {
      "needs_background": "light"
     },
     "output_type": "display_data"
    }
   ],
   "source": [
    "# Dados atuais x Modelo\n",
    "modelo_ajustado.plot_predict(dynamic=False)\n",
    "plt.show()"
   ]
  },
  {
   "cell_type": "code",
   "execution_count": 50,
   "metadata": {},
   "outputs": [
    {
     "data": {
      "text/html": [
       "<div>\n",
       "<style scoped>\n",
       "    .dataframe tbody tr th:only-of-type {\n",
       "        vertical-align: middle;\n",
       "    }\n",
       "\n",
       "    .dataframe tbody tr th {\n",
       "        vertical-align: top;\n",
       "    }\n",
       "\n",
       "    .dataframe thead th {\n",
       "        text-align: right;\n",
       "    }\n",
       "</style>\n",
       "<table border=\"1\" class=\"dataframe\">\n",
       "  <thead>\n",
       "    <tr style=\"text-align: right;\">\n",
       "      <th></th>\n",
       "      <th>0</th>\n",
       "    </tr>\n",
       "  </thead>\n",
       "  <tbody>\n",
       "    <tr>\n",
       "      <th>count</th>\n",
       "      <td>1.570000e+02</td>\n",
       "    </tr>\n",
       "    <tr>\n",
       "      <th>mean</th>\n",
       "      <td>3.213631e+05</td>\n",
       "    </tr>\n",
       "    <tr>\n",
       "      <th>std</th>\n",
       "      <td>9.865589e+06</td>\n",
       "    </tr>\n",
       "    <tr>\n",
       "      <th>min</th>\n",
       "      <td>-3.354013e+07</td>\n",
       "    </tr>\n",
       "    <tr>\n",
       "      <th>25%</th>\n",
       "      <td>-5.243865e+06</td>\n",
       "    </tr>\n",
       "    <tr>\n",
       "      <th>50%</th>\n",
       "      <td>-1.540462e+06</td>\n",
       "    </tr>\n",
       "    <tr>\n",
       "      <th>75%</th>\n",
       "      <td>4.691893e+06</td>\n",
       "    </tr>\n",
       "    <tr>\n",
       "      <th>max</th>\n",
       "      <td>3.245369e+07</td>\n",
       "    </tr>\n",
       "  </tbody>\n",
       "</table>\n",
       "</div>"
      ],
      "text/plain": [
       "                  0\n",
       "count  1.570000e+02\n",
       "mean   3.213631e+05\n",
       "std    9.865589e+06\n",
       "min   -3.354013e+07\n",
       "25%   -5.243865e+06\n",
       "50%   -1.540462e+06\n",
       "75%    4.691893e+06\n",
       "max    3.245369e+07"
      ]
     },
     "execution_count": 50,
     "metadata": {},
     "output_type": "execute_result"
    }
   ],
   "source": [
    "redisuais.describe()"
   ]
  },
  {
   "cell_type": "markdown",
   "metadata": {},
   "source": [
    "#### 4. Como se fazer forecasting de valores orçamentários baseados no dataset?"
   ]
  },
  {
   "cell_type": "markdown",
   "metadata": {},
   "source": [
    "Com os parâmetros definidos através da análise da série e criado o modelo ARIMA, para se criar a predição dos dados e comparando-os com os dados da base de treinamento, podemos ter uma idéia dos valores preditos em relação aos dados reais."
   ]
  },
  {
   "cell_type": "code",
   "execution_count": 53,
   "metadata": {},
   "outputs": [
    {
     "data": {
      "image/png": "[encoded data removed]",
      "text/plain": [
       "<Figure size 1080x432 with 1 Axes>"
      ]
     },
     "metadata": {
      "needs_background": "light"
     },
     "output_type": "display_data"
    }
   ],
   "source": [
    "# Predição\n",
    "fc, se, conf = modelo_ajustado.forecast(41, alpha=0.05)\n",
    "\n",
    "# Criando uma série partindo da predição\n",
    "serie_predicao = pd.Series(fc, index=ts_teste.index)\n",
    "serie_ic_inferior = pd.Series(conf[:, 0], index=ts_teste.index)\n",
    "serie_ic_superior = pd.Series(conf[:, 1], index=ts_teste.index)\n",
    "\n",
    "# Definindo o gráfico\n",
    "plt.plot(ts_treino, label='Base de treino')\n",
    "plt.plot(ts_teste, label='Base de teste')\n",
    "plt.plot(serie_predicao, label='Predição')\n",
    "plt.fill_between(serie_ic_inferior.index, serie_ic_inferior, serie_ic_superior, \n",
    "                 color='k', alpha=.15)\n",
    "plt.title('Predição x Dados atuais')\n",
    "plt.legend(loc='upper left')\n",
    "plt.show()"
   ]
  },
  {
   "cell_type": "markdown",
   "metadata": {},
   "source": [
    "Os dados obtidos neste gráfico mostra que a predição utilizando o modelo ARIMA(11,1,3) exibe pontos bem próximos dos reais, com exceção dos picos que estão presentes fora do intervalo de confiança do modelo, o comportamento da curva acompanha os dados reais da base de treinamento.\n",
    "\n",
    "#### 5. Conclusão\n",
    "\n",
    "  O estudo se séries temporais é um dos assuntos que mais me despertou interesse no curso de Big Data e Ciência de Dados, e a medida em que me aprofundava no assunto mais me despertava a importância da matemática estatística nesse universo. Me mostrou o quanto este universo e o da informática devem e tendem a se fundir para atender as necessidades atuais sobre o estudo analítico dos dados gerados diariamente pelas pessoas e pelos sistemas.\n",
    "  \n",
    "  Sobre este estudo, todas as etapas, desde a obtenção dos dados, o tratamento das informações e a análise do `dataset` para que possamos gerar informação, tem uma profunda importância nos passos futuros. A fase em que mais me fascinou foi a de análise da série e como obter os parâmetros para a predição de dados futuros de acordo com o modelo. Nesta etapa é onde se destacam os profissionais matemáticos que conseguem analisar os gráficos levando em consideração sua natureza e seu comportamento em uma linha do tempo. A análise não acontece friamente baseado-se apenas em números, mas sim o que esses números representam em um ambiente computacionalmente vivo e evolutivo.\n",
    "  \n",
    "  Como pontos de melhoria no estudo eu acredito que um tratamento mais minucioso nos *outliers* podem melhorar o desempenho do modelo assim como experimentar outros tipos de modelo além do ARIMA. Uma dificuldade que passei eu entendo que foi devido à natureza do `dataset`. Diferentemente de um `dataset` que poderia ter dados de temperaturas de um lugar onde a variância é conhecida e a identificação de *outliers* derivados de medições problemáticas ou defeitos de equipamentos, os dados de receitas orçamentárias de um município que são validadas por um órgão de competência como o Tribunal de Contas do Estado podem sofrer oscilações bem consideráveis, mas certamente justificáveis, como o recebimento de royalties do pré-sal ou aportes da União para resolver questões momentâneas, e para isso cabe um estudo histórico mais aprofundado e detalhado para definir o que realmente é *outlier* e como tratá-los."
   ]
  }
 ],
 "metadata": {
  "kernelspec": {
   "display_name": "Python 3",
   "language": "python",
   "name": "python3"
  },
  "language_info": {
   "codemirror_mode": {
    "name": "ipython",
    "version": 3
   },
   "file_extension": ".py",
   "mimetype": "text/x-python",
   "name": "python",
   "nbconvert_exporter": "python",
   "pygments_lexer": "ipython3",
   "version": "3.6.8"
  }
 },
 "nbformat": 4,
 "nbformat_minor": 2
}
