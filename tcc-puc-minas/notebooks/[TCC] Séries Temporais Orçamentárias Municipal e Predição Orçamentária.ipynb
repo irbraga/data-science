{
 "cells": [
  {
   "cell_type": "code",
   "execution_count": 1,
   "metadata": {},
   "outputs": [
    {
     "name": "stdout",
     "output_type": "stream",
     "text": [
      "<class 'pandas.core.frame.DataFrame'>\n",
      "Int64Index: 7712 entries, 486833 to 754495\n",
      "Data columns (total 9 columns):\n",
      "cd_ugestora              7712 non-null object\n",
      "de_ugestora              7712 non-null object\n",
      "dt_ano                   7712 non-null int64\n",
      "cd_receitaorcug          7712 non-null int64\n",
      "de_receitaorcug          7516 non-null object\n",
      "tp_atualizacaoreceita    7712 non-null int64\n",
      "de_atualizacaoreceita    7712 non-null object\n",
      "vl_lancamentoOrc         7712 non-null float64\n",
      "dt_mesano                7712 non-null object\n",
      "dtypes: float64(1), int64(3), object(5)\n",
      "memory usage: 602.5+ KB\n"
     ]
    }
   ],
   "source": [
    "'''\n",
    "Importação de bibliotecas e datasets utilizados\n",
    "'''\n",
    "import pandas as pd\n",
    "import matplotlib.pyplot as plt\n",
    "\n",
    "# Definindo tipos de colunas antes de ler o dataset\n",
    "columns_types = {'cd_ugestora': str, 'dt_mesano': str, 'dt_ano': int}\n",
    "\n",
    "# Carrega os dados no pandas\n",
    "receitas = pd.read_csv('datasets/TCE-PB-SAGRES-Receita_Orcamentaria_Esfera_Municipal.txt',sep='|',dtype=columns_types,encoding='utf-8')\n",
    "\n",
    "# Obtém todos os dados da Prefeitura Municipal de João Pessoa (cd_ugestora=201095)\n",
    "pref_mun_joao_pessoa = receitas[receitas['cd_ugestora'] == '201095']\n",
    "\n",
    "# Mostra informações sobre as colunas do dataset\n",
    "pref_mun_joao_pessoa.info()"
   ]
  },
  {
   "cell_type": "code",
   "execution_count": 2,
   "metadata": {},
   "outputs": [
    {
     "data": {
      "text/html": [
       "<div>\n",
       "<style scoped>\n",
       "    .dataframe tbody tr th:only-of-type {\n",
       "        vertical-align: middle;\n",
       "    }\n",
       "\n",
       "    .dataframe tbody tr th {\n",
       "        vertical-align: top;\n",
       "    }\n",
       "\n",
       "    .dataframe thead th {\n",
       "        text-align: right;\n",
       "    }\n",
       "</style>\n",
       "<table border=\"1\" class=\"dataframe\">\n",
       "  <thead>\n",
       "    <tr style=\"text-align: right;\">\n",
       "      <th></th>\n",
       "      <th>dt_ano</th>\n",
       "      <th>cd_receitaorcug</th>\n",
       "      <th>tp_atualizacaoreceita</th>\n",
       "      <th>vl_lancamentoOrc</th>\n",
       "    </tr>\n",
       "  </thead>\n",
       "  <tbody>\n",
       "    <tr>\n",
       "      <th>count</th>\n",
       "      <td>7712.000000</td>\n",
       "      <td>7.712000e+03</td>\n",
       "      <td>7712.000000</td>\n",
       "      <td>7.712000e+03</td>\n",
       "    </tr>\n",
       "    <tr>\n",
       "      <th>mean</th>\n",
       "      <td>2010.337915</td>\n",
       "      <td>1.514149e+08</td>\n",
       "      <td>1.196966</td>\n",
       "      <td>2.400637e+06</td>\n",
       "    </tr>\n",
       "    <tr>\n",
       "      <th>std</th>\n",
       "      <td>4.931977</td>\n",
       "      <td>1.116424e+09</td>\n",
       "      <td>0.594119</td>\n",
       "      <td>5.496038e+06</td>\n",
       "    </tr>\n",
       "    <tr>\n",
       "      <th>min</th>\n",
       "      <td>2003.000000</td>\n",
       "      <td>1.000000e+00</td>\n",
       "      <td>1.000000</td>\n",
       "      <td>0.000000e+00</td>\n",
       "    </tr>\n",
       "    <tr>\n",
       "      <th>25%</th>\n",
       "      <td>2006.000000</td>\n",
       "      <td>1.121250e+07</td>\n",
       "      <td>1.000000</td>\n",
       "      <td>2.645316e+04</td>\n",
       "    </tr>\n",
       "    <tr>\n",
       "      <th>50%</th>\n",
       "      <td>2010.000000</td>\n",
       "      <td>1.721010e+07</td>\n",
       "      <td>1.000000</td>\n",
       "      <td>2.672748e+05</td>\n",
       "    </tr>\n",
       "    <tr>\n",
       "      <th>75%</th>\n",
       "      <td>2015.000000</td>\n",
       "      <td>1.761000e+07</td>\n",
       "      <td>1.000000</td>\n",
       "      <td>1.587541e+06</td>\n",
       "    </tr>\n",
       "    <tr>\n",
       "      <th>max</th>\n",
       "      <td>2019.000000</td>\n",
       "      <td>9.517214e+09</td>\n",
       "      <td>5.000000</td>\n",
       "      <td>8.593407e+07</td>\n",
       "    </tr>\n",
       "  </tbody>\n",
       "</table>\n",
       "</div>"
      ],
      "text/plain": [
       "            dt_ano  cd_receitaorcug  tp_atualizacaoreceita  vl_lancamentoOrc\n",
       "count  7712.000000     7.712000e+03            7712.000000      7.712000e+03\n",
       "mean   2010.337915     1.514149e+08               1.196966      2.400637e+06\n",
       "std       4.931977     1.116424e+09               0.594119      5.496038e+06\n",
       "min    2003.000000     1.000000e+00               1.000000      0.000000e+00\n",
       "25%    2006.000000     1.121250e+07               1.000000      2.645316e+04\n",
       "50%    2010.000000     1.721010e+07               1.000000      2.672748e+05\n",
       "75%    2015.000000     1.761000e+07               1.000000      1.587541e+06\n",
       "max    2019.000000     9.517214e+09               5.000000      8.593407e+07"
      ]
     },
     "execution_count": 2,
     "metadata": {},
     "output_type": "execute_result"
    }
   ],
   "source": [
    "# Descrição do dataset\n",
    "pref_mun_joao_pessoa.describe()"
   ]
  },
  {
   "cell_type": "code",
   "execution_count": 3,
   "metadata": {},
   "outputs": [
    {
     "data": {
      "text/plain": [
       "COTA-PARTE DO IPVA                                                                  132\n",
       "IMPOSTO PREDIAL E TERRITORIAL URBANO                                                132\n",
       "DEMAIS TRANSFERENCIAS DA UNIAO                                                      125\n",
       "COTA-PARTE DO ITR                                                                   124\n",
       "RECEITA DE MERCADOS E FEIRAS                                                        120\n",
       "COTA-PARTE DO IPI SOBRE EXPORTACAO                                                  114\n",
       "TAXA DE COLETA DE RESÍDUOS                                                          108\n",
       "Cota-Parte do ICMS                                                                  108\n",
       "MULTAS E JUROS DE MORA DO IMPOSTO SOBRE SERVIÇOS DE QUALQUER NATUREZA - ISS          96\n",
       "COTA - PARTE DO FUNDO ESPECIAL FE-PETROBRAS                                          95\n",
       "IMPOSTO DE RENDA RETIDO NAS FONTES S/OS RENDIMENTOS DO TRABALHO                      95\n",
       "TRANSF.DE CONVÊNIOS DA UNIÃO E DE SUAS ENTIDADES                                     93\n",
       "INDENIZACOES E RESTITUICOES                                                          80\n",
       "TAXA DE COLETA DE RESIDUOS                                                           77\n",
       "COTA - PARTE  DO  ICMS                                                               72\n",
       "RECEITA DA DIVIDA ATIVA DO IMPOSTO SOBRE SERVIÇOS DE QUALQUER NATUREZA - ISS         72\n",
       "RENDIMENTOS DE APLICACOES FINANCEIRAS - RECURSOS ORDINÁRIOS                          72\n",
       "TAXA PELO EXERCICIO DE LOTEAMENTO E ARRUAMENTO                                       72\n",
       "COTA - PARTE DO FPM                                                                  72\n",
       "TAXAS PELO EXERCICIO DE OBRAS PARTICULARES                                           72\n",
       "IMPOSTOS SOBRE SERVICOS DE QUALQUER NATUREZA                                         72\n",
       "TAXA PELA RENOVACAO DE LICENCA                                                       72\n",
       "CONTRIBUIÇÃO PARA O CUSTEIO DO SERVIÇO DE ILUMINAÇÃO PÚBLICA                         72\n",
       "TRANSF.DE REC.DO FUNDO DE MANUT. E DESENV. DA EDUCAÇÃO BÁSICA E DE VALORIZAÇÃO D     72\n",
       "DEDUÇÕES DA RECEITA PARA FORMAÇÃO DO FUNDEB - ICMS                                   71\n",
       "DEDUÇÕES DA RECEITA PARA FORMAÇÃO DO FUNDEB - ITR                                    71\n",
       "TAXA DE LICENCA DE SAÚDE                                                             70\n",
       "TRANSFERENCIA FINANCEIRA DA LEI COMPLEMENTAR 87/96                                   68\n",
       "OUTRAS RECEITAS                                                                      65\n",
       "RECEITA DA DIVIDA ATIVA NAO TRIBUTARIA                                               65\n",
       "                                                                                   ... \n",
       "Outras Restituições                                                                   4\n",
       "Outros Impostos -  Principal                                                          4\n",
       "COTA-PARTE DA CONTRIBUIÇÃO DE INTERVENÇÃO NO DOMÍNIO ECONÔMI                          4\n",
       "TRANSFERÊNCIAS DO SALÁRIO EDUCAÇÃO                                                    3\n",
       "COTA-PARTE DO IMPOSTO SOBRE OPERAÇÕES DE CRÉDITO, CÂMBIO E SEGURO, OU RELATIVAS       3\n",
       "Cota-Parte do Fundo de Participação do Municípios – 1% Cota entregue no mês de d      3\n",
       "Cota-Parte do Fundo de Participação dos Municípios - 1% Cota entregue no mês de       2\n",
       "TRANSFERENCIAS DE CONVENIOS - REC. DE INSTITUIÇÕES PRIVADAS - FUNDO MUNICIPAL DE      2\n",
       "Dividendos -  Principal                                                               2\n",
       "TRANSFERÊNCIAS DE CONVÊNIOS - REC. DO ESTADO                                          2\n",
       "Transferências de Recursos Destinados a Programas de Educação                         2\n",
       "SERVIÇOS DE INSCRIÇÃO EM CONCURSOS PÚBLICOS                                           2\n",
       "Transferência de Convênios do Exterior -  Principal                                   2\n",
       "ALIENACAO DE BENS IMOVEIS                                                             1\n",
       "DEDUÇÕES DA RECEITA PARA FORMAÇÃO DO FUNDEF - IPI                                     1\n",
       "TRANSFERENCIAS DE CONVÊNIOS - REC. DO ESTADO                                          1\n",
       "RECEITA DE CESSÃO DO DIREITO DE OPERACIONALIZAÇÃO DA FOLHA DE PAGAMENTO DE PESSO      1\n",
       "RESTITUICOES                                                                          1\n",
       "Taxa de Licenciamento, Controle e Fiscalização de Materiais Nucleares e Radioati      1\n",
       "TRANSFERêNCIAS DE CONVÊNIOS - REC. DE INSTITUIÇÕES PRIVADAS - ADM.DIRETA - REC.       1\n",
       "DEDUÇÕES DA RECEITA PARA FORMAÇÃO DO FUNDEB - IPI                                     1\n",
       "TAXA PELO EXERCICIO DE COMERCIO AMBULANTE                                             1\n",
       "TAXA PELO EXERCÍCIO DE COMÉRCIO AMBULANTE                                             1\n",
       "Contribuição   Previdenciária   em   Regime   de   Parcelamento   de Débitos          1\n",
       "COMPENSACOES PREVIDENCIÁRIA ENTRE O REGIME GERAL E OS REGIMES PROPRIOS DA PREVID      1\n",
       "Cota-Parte do Fundo de Participação do Municípios – 1% Cota entregue no mês de J      1\n",
       "CONTRIBUIÇÕES DE PENSIONISTA CIVIL                                                    1\n",
       "Alienação de Bens Móveis                                                              1\n",
       "CONTRIBUIÇÃO DO SERVIDOR INATIVO CIVIL                                                1\n",
       "OUTRAS RECEITAS CORRENTES                                                             1\n",
       "Name: de_receitaorcug, Length: 240, dtype: int64"
      ]
     },
     "execution_count": 3,
     "metadata": {},
     "output_type": "execute_result"
    }
   ],
   "source": [
    "# Mostrar os tipos de receitas que o Município recebe \n",
    "pref_mun_joao_pessoa['de_receitaorcug'].value_counts()"
   ]
  },
  {
   "cell_type": "code",
   "execution_count": 4,
   "metadata": {},
   "outputs": [
    {
     "data": {
      "text/plain": [
       "Int64Index([616846, 616847, 616848, 616849, 616850, 616851, 616852, 616853,\n",
       "            616854, 616855,\n",
       "            ...\n",
       "            619624, 619625, 619626, 619627, 619628, 619752, 619753, 619754,\n",
       "            619755, 619756],\n",
       "           dtype='int64', length=196)"
      ]
     },
     "execution_count": 4,
     "metadata": {},
     "output_type": "execute_result"
    }
   ],
   "source": [
    "pref_mun_joao_pessoa[pref_mun_joao_pessoa['dt_ano'] == 2019].index"
   ]
  },
  {
   "cell_type": "code",
   "execution_count": 5,
   "metadata": {},
   "outputs": [
    {
     "data": {
      "text/html": [
       "<div>\n",
       "<style scoped>\n",
       "    .dataframe tbody tr th:only-of-type {\n",
       "        vertical-align: middle;\n",
       "    }\n",
       "\n",
       "    .dataframe tbody tr th {\n",
       "        vertical-align: top;\n",
       "    }\n",
       "\n",
       "    .dataframe thead th {\n",
       "        text-align: right;\n",
       "    }\n",
       "</style>\n",
       "<table border=\"1\" class=\"dataframe\">\n",
       "  <thead>\n",
       "    <tr style=\"text-align: right;\">\n",
       "      <th></th>\n",
       "      <th>cd_ugestora</th>\n",
       "      <th>de_ugestora</th>\n",
       "      <th>dt_ano</th>\n",
       "      <th>cd_receitaorcug</th>\n",
       "      <th>de_receitaorcug</th>\n",
       "      <th>tp_atualizacaoreceita</th>\n",
       "      <th>de_atualizacaoreceita</th>\n",
       "      <th>vl_lancamentoOrc</th>\n",
       "      <th>dt_mesano</th>\n",
       "    </tr>\n",
       "  </thead>\n",
       "  <tbody>\n",
       "    <tr>\n",
       "      <th>486833</th>\n",
       "      <td>201095</td>\n",
       "      <td>Prefeitura Municipal de João Pessoa</td>\n",
       "      <td>2004</td>\n",
       "      <td>11120800</td>\n",
       "      <td>IMPOSTO SOBRE TRANSMISSAO -\"INTER VIVOS\" DE BE...</td>\n",
       "      <td>1</td>\n",
       "      <td>Lançamento de receita</td>\n",
       "      <td>702074.41</td>\n",
       "      <td>012004</td>\n",
       "    </tr>\n",
       "    <tr>\n",
       "      <th>486834</th>\n",
       "      <td>201095</td>\n",
       "      <td>Prefeitura Municipal de João Pessoa</td>\n",
       "      <td>2004</td>\n",
       "      <td>11120800</td>\n",
       "      <td>IMPOSTO SOBRE TRANSMISSAO -\"INTER VIVOS\" DE BE...</td>\n",
       "      <td>1</td>\n",
       "      <td>Lançamento de receita</td>\n",
       "      <td>495731.36</td>\n",
       "      <td>022004</td>\n",
       "    </tr>\n",
       "    <tr>\n",
       "      <th>486835</th>\n",
       "      <td>201095</td>\n",
       "      <td>Prefeitura Municipal de João Pessoa</td>\n",
       "      <td>2004</td>\n",
       "      <td>11120800</td>\n",
       "      <td>IMPOSTO SOBRE TRANSMISSAO -\"INTER VIVOS\" DE BE...</td>\n",
       "      <td>1</td>\n",
       "      <td>Lançamento de receita</td>\n",
       "      <td>684563.07</td>\n",
       "      <td>032004</td>\n",
       "    </tr>\n",
       "    <tr>\n",
       "      <th>486836</th>\n",
       "      <td>201095</td>\n",
       "      <td>Prefeitura Municipal de João Pessoa</td>\n",
       "      <td>2004</td>\n",
       "      <td>11120800</td>\n",
       "      <td>IMPOSTO SOBRE TRANSMISSAO -\"INTER VIVOS\" DE BE...</td>\n",
       "      <td>1</td>\n",
       "      <td>Lançamento de receita</td>\n",
       "      <td>504136.72</td>\n",
       "      <td>042004</td>\n",
       "    </tr>\n",
       "    <tr>\n",
       "      <th>486837</th>\n",
       "      <td>201095</td>\n",
       "      <td>Prefeitura Municipal de João Pessoa</td>\n",
       "      <td>2004</td>\n",
       "      <td>11120800</td>\n",
       "      <td>IMPOSTO SOBRE TRANSMISSAO -\"INTER VIVOS\" DE BE...</td>\n",
       "      <td>1</td>\n",
       "      <td>Lançamento de receita</td>\n",
       "      <td>580640.06</td>\n",
       "      <td>052004</td>\n",
       "    </tr>\n",
       "  </tbody>\n",
       "</table>\n",
       "</div>"
      ],
      "text/plain": [
       "       cd_ugestora                          de_ugestora  dt_ano  \\\n",
       "486833      201095  Prefeitura Municipal de João Pessoa    2004   \n",
       "486834      201095  Prefeitura Municipal de João Pessoa    2004   \n",
       "486835      201095  Prefeitura Municipal de João Pessoa    2004   \n",
       "486836      201095  Prefeitura Municipal de João Pessoa    2004   \n",
       "486837      201095  Prefeitura Municipal de João Pessoa    2004   \n",
       "\n",
       "        cd_receitaorcug                                    de_receitaorcug  \\\n",
       "486833         11120800  IMPOSTO SOBRE TRANSMISSAO -\"INTER VIVOS\" DE BE...   \n",
       "486834         11120800  IMPOSTO SOBRE TRANSMISSAO -\"INTER VIVOS\" DE BE...   \n",
       "486835         11120800  IMPOSTO SOBRE TRANSMISSAO -\"INTER VIVOS\" DE BE...   \n",
       "486836         11120800  IMPOSTO SOBRE TRANSMISSAO -\"INTER VIVOS\" DE BE...   \n",
       "486837         11120800  IMPOSTO SOBRE TRANSMISSAO -\"INTER VIVOS\" DE BE...   \n",
       "\n",
       "        tp_atualizacaoreceita  de_atualizacaoreceita  vl_lancamentoOrc  \\\n",
       "486833                      1  Lançamento de receita         702074.41   \n",
       "486834                      1  Lançamento de receita         495731.36   \n",
       "486835                      1  Lançamento de receita         684563.07   \n",
       "486836                      1  Lançamento de receita         504136.72   \n",
       "486837                      1  Lançamento de receita         580640.06   \n",
       "\n",
       "       dt_mesano  \n",
       "486833    012004  \n",
       "486834    022004  \n",
       "486835    032004  \n",
       "486836    042004  \n",
       "486837    052004  "
      ]
     },
     "execution_count": 5,
     "metadata": {},
     "output_type": "execute_result"
    }
   ],
   "source": [
    "indexAno2019 = pref_mun_joao_pessoa[pref_mun_joao_pessoa['dt_ano'] == 2019].index\n",
    "\n",
    "pref_mun_joao_pessoa = pref_mun_joao_pessoa.drop(index=indexAno2019)\n",
    "pref_mun_joao_pessoa.head()"
   ]
  },
  {
   "cell_type": "code",
   "execution_count": 6,
   "metadata": {},
   "outputs": [
    {
     "data": {
      "text/plain": [
       "cd_ugestora              False\n",
       "de_ugestora              False\n",
       "dt_ano                   False\n",
       "cd_receitaorcug          False\n",
       "de_receitaorcug          False\n",
       "tp_atualizacaoreceita    False\n",
       "de_atualizacaoreceita    False\n",
       "vl_lancamentoOrc         False\n",
       "dt_mesano                False\n",
       "dtype: bool"
      ]
     },
     "execution_count": 6,
     "metadata": {},
     "output_type": "execute_result"
    }
   ],
   "source": [
    "# Identificando valores Nulos em colunas\n",
    "pref_mun_joao_pessoa.isna().any()"
   ]
  },
  {
   "cell_type": "code",
   "execution_count": 7,
   "metadata": {},
   "outputs": [],
   "source": [
    "# Como a coluna 'de_receitaorcug' apresentou dados nulos, irei preencher com dados não nulos\n",
    "#pref_mun_joao_pessoa['de_receitaorcug'].fillna(\"Não definido\", inplace = True) "
   ]
  },
  {
   "cell_type": "code",
   "execution_count": 8,
   "metadata": {},
   "outputs": [],
   "source": [
    "# Re-validando se o dataset ainda possui dados nulos\n",
    "#pref_mun_joao_pessoa.isna().any()"
   ]
  },
  {
   "cell_type": "code",
   "execution_count": 9,
   "metadata": {},
   "outputs": [
    {
     "data": {
      "text/plain": [
       "12    673\n",
       "07    646\n",
       "08    638\n",
       "10    637\n",
       "06    634\n",
       "11    630\n",
       "09    626\n",
       "05    626\n",
       "04    618\n",
       "01    605\n",
       "03    604\n",
       "02    579\n",
       "Name: dt_mesano, dtype: int64"
      ]
     },
     "execution_count": 9,
     "metadata": {},
     "output_type": "execute_result"
    }
   ],
   "source": [
    "# Certificando se possuem meses incoerentes\n",
    "pref_mun_joao_pessoa.dt_mesano.str.slice(0,2).value_counts()"
   ]
  },
  {
   "cell_type": "code",
   "execution_count": 10,
   "metadata": {},
   "outputs": [],
   "source": [
    "# Convertendo a coluna Mês/Ano em Datetime\n",
    "pref_mun_joao_pessoa['dt_mesano'] = pd.to_datetime(pref_mun_joao_pessoa['dt_mesano'], format='%m%Y')"
   ]
  },
  {
   "cell_type": "code",
   "execution_count": 11,
   "metadata": {},
   "outputs": [],
   "source": [
    "###################\n",
    "# Questionamentos #\n",
    "###################\n",
    "\n",
    "# 1. Quais os valores recebidos por ano?\n",
    "# 2. Quais os valores recebidos por mês/ano?\n",
    "# 3. Quais são os top 5 tipos de receita que mais gera retorno ao Município?\n",
    "# 4. Qual foi o mês/ano que mais gerou receita ao Município? Qual foi o tipo de receita que mais se destacou nesse mês?\n",
    "# 5. Como se comporta uma série temporal do total de receitas mês/ano do Município?\n",
    "# 6. Como se fazer forecasting de valores orçamentários baseados no dataset?"
   ]
  },
  {
   "cell_type": "code",
   "execution_count": 12,
   "metadata": {},
   "outputs": [
    {
     "data": {
      "text/html": [
       "<div>\n",
       "<style scoped>\n",
       "    .dataframe tbody tr th:only-of-type {\n",
       "        vertical-align: middle;\n",
       "    }\n",
       "\n",
       "    .dataframe tbody tr th {\n",
       "        vertical-align: top;\n",
       "    }\n",
       "\n",
       "    .dataframe thead th {\n",
       "        text-align: right;\n",
       "    }\n",
       "</style>\n",
       "<table border=\"1\" class=\"dataframe\">\n",
       "  <thead>\n",
       "    <tr style=\"text-align: right;\">\n",
       "      <th></th>\n",
       "      <th>dt_ano</th>\n",
       "      <th>vl_lancamentoOrc</th>\n",
       "    </tr>\n",
       "  </thead>\n",
       "  <tbody>\n",
       "    <tr>\n",
       "      <th>486833</th>\n",
       "      <td>2004</td>\n",
       "      <td>702074.41</td>\n",
       "    </tr>\n",
       "    <tr>\n",
       "      <th>486834</th>\n",
       "      <td>2004</td>\n",
       "      <td>495731.36</td>\n",
       "    </tr>\n",
       "    <tr>\n",
       "      <th>486835</th>\n",
       "      <td>2004</td>\n",
       "      <td>684563.07</td>\n",
       "    </tr>\n",
       "    <tr>\n",
       "      <th>486836</th>\n",
       "      <td>2004</td>\n",
       "      <td>504136.72</td>\n",
       "    </tr>\n",
       "    <tr>\n",
       "      <th>486837</th>\n",
       "      <td>2004</td>\n",
       "      <td>580640.06</td>\n",
       "    </tr>\n",
       "  </tbody>\n",
       "</table>\n",
       "</div>"
      ],
      "text/plain": [
       "        dt_ano  vl_lancamentoOrc\n",
       "486833    2004         702074.41\n",
       "486834    2004         495731.36\n",
       "486835    2004         684563.07\n",
       "486836    2004         504136.72\n",
       "486837    2004         580640.06"
      ]
     },
     "execution_count": 12,
     "metadata": {},
     "output_type": "execute_result"
    }
   ],
   "source": [
    "##########################################\n",
    "# 1. Quais os valores recebidos por ano? #\n",
    "##########################################\n",
    "\n",
    "# Criar novo dataframe apenas com os dados que importam\n",
    "group_by_ano = pref_mun_joao_pessoa.drop(columns=['cd_ugestora','de_ugestora','cd_receitaorcug','de_receitaorcug','tp_atualizacaoreceita','de_atualizacaoreceita','dt_mesano'])\n",
    "group_by_ano.head()"
   ]
  },
  {
   "cell_type": "code",
   "execution_count": 13,
   "metadata": {},
   "outputs": [
    {
     "data": {
      "text/html": [
       "<div>\n",
       "<style scoped>\n",
       "    .dataframe tbody tr th:only-of-type {\n",
       "        vertical-align: middle;\n",
       "    }\n",
       "\n",
       "    .dataframe tbody tr th {\n",
       "        vertical-align: top;\n",
       "    }\n",
       "\n",
       "    .dataframe thead th {\n",
       "        text-align: right;\n",
       "    }\n",
       "</style>\n",
       "<table border=\"1\" class=\"dataframe\">\n",
       "  <thead>\n",
       "    <tr style=\"text-align: right;\">\n",
       "      <th></th>\n",
       "      <th>dt_ano</th>\n",
       "      <th>total</th>\n",
       "    </tr>\n",
       "  </thead>\n",
       "  <tbody>\n",
       "    <tr>\n",
       "      <th>490002</th>\n",
       "      <td>2003</td>\n",
       "      <td>4.269491e+08</td>\n",
       "    </tr>\n",
       "    <tr>\n",
       "      <th>486833</th>\n",
       "      <td>2004</td>\n",
       "      <td>5.309502e+08</td>\n",
       "    </tr>\n",
       "    <tr>\n",
       "      <th>487182</th>\n",
       "      <td>2005</td>\n",
       "      <td>6.393762e+08</td>\n",
       "    </tr>\n",
       "    <tr>\n",
       "      <th>495097</th>\n",
       "      <td>2006</td>\n",
       "      <td>7.121140e+08</td>\n",
       "    </tr>\n",
       "    <tr>\n",
       "      <th>487695</th>\n",
       "      <td>2007</td>\n",
       "      <td>8.121067e+08</td>\n",
       "    </tr>\n",
       "  </tbody>\n",
       "</table>\n",
       "</div>"
      ],
      "text/plain": [
       "        dt_ano         total\n",
       "490002    2003  4.269491e+08\n",
       "486833    2004  5.309502e+08\n",
       "487182    2005  6.393762e+08\n",
       "495097    2006  7.121140e+08\n",
       "487695    2007  8.121067e+08"
      ]
     },
     "execution_count": 13,
     "metadata": {},
     "output_type": "execute_result"
    }
   ],
   "source": [
    "# Agrupar e calcular a soma da coluna vl_lancamentoOrc\n",
    "group_by_ano['total'] = group_by_ano.groupby('dt_ano').transform('sum')\n",
    "group_by_ano = group_by_ano.drop(columns=['vl_lancamentoOrc'])\n",
    "\n",
    "# Removendo duplicatas\n",
    "group_by_ano.drop_duplicates(keep='first', inplace=True)\n",
    "group_by_ano.sort_values(by=['dt_ano'],ascending=True,inplace=True)\n",
    "group_by_ano.head()"
   ]
  },
  {
   "cell_type": "code",
   "execution_count": 14,
   "metadata": {},
   "outputs": [
    {
     "data": {
      "image/png": "[encoded data removed]",
      "text/plain": [
       "<Figure size 432x288 with 1 Axes>"
      ]
     },
     "metadata": {
      "needs_background": "light"
     },
     "output_type": "display_data"
    }
   ],
   "source": [
    "# Plotando gráfico: Total de recebimentos x Ano\n",
    "ax = group_by_ano.plot(kind='bar',x='dt_ano',y='total',color='lightblue',title='Total de recebimentos x Ano')\n",
    "\n",
    "ax.set_ylabel('Total em Milhões')\n",
    "ax.set_xlabel('Ano')\n",
    "\n",
    "plt.show()"
   ]
  },
  {
   "cell_type": "code",
   "execution_count": 15,
   "metadata": {},
   "outputs": [
    {
     "data": {
      "text/html": [
       "<div>\n",
       "<style scoped>\n",
       "    .dataframe tbody tr th:only-of-type {\n",
       "        vertical-align: middle;\n",
       "    }\n",
       "\n",
       "    .dataframe tbody tr th {\n",
       "        vertical-align: top;\n",
       "    }\n",
       "\n",
       "    .dataframe thead th {\n",
       "        text-align: right;\n",
       "    }\n",
       "</style>\n",
       "<table border=\"1\" class=\"dataframe\">\n",
       "  <thead>\n",
       "    <tr style=\"text-align: right;\">\n",
       "      <th></th>\n",
       "      <th>dt_ano</th>\n",
       "      <th>total</th>\n",
       "    </tr>\n",
       "  </thead>\n",
       "  <tbody>\n",
       "    <tr>\n",
       "      <th>count</th>\n",
       "      <td>16.000000</td>\n",
       "      <td>1.600000e+01</td>\n",
       "    </tr>\n",
       "    <tr>\n",
       "      <th>mean</th>\n",
       "      <td>2010.500000</td>\n",
       "      <td>1.096098e+09</td>\n",
       "    </tr>\n",
       "    <tr>\n",
       "      <th>std</th>\n",
       "      <td>4.760952</td>\n",
       "      <td>4.466808e+08</td>\n",
       "    </tr>\n",
       "    <tr>\n",
       "      <th>min</th>\n",
       "      <td>2003.000000</td>\n",
       "      <td>4.269491e+08</td>\n",
       "    </tr>\n",
       "    <tr>\n",
       "      <th>25%</th>\n",
       "      <td>2006.750000</td>\n",
       "      <td>7.600471e+08</td>\n",
       "    </tr>\n",
       "    <tr>\n",
       "      <th>50%</th>\n",
       "      <td>2010.500000</td>\n",
       "      <td>1.019998e+09</td>\n",
       "    </tr>\n",
       "    <tr>\n",
       "      <th>75%</th>\n",
       "      <td>2014.250000</td>\n",
       "      <td>1.559869e+09</td>\n",
       "    </tr>\n",
       "    <tr>\n",
       "      <th>max</th>\n",
       "      <td>2018.000000</td>\n",
       "      <td>1.787108e+09</td>\n",
       "    </tr>\n",
       "  </tbody>\n",
       "</table>\n",
       "</div>"
      ],
      "text/plain": [
       "            dt_ano         total\n",
       "count    16.000000  1.600000e+01\n",
       "mean   2010.500000  1.096098e+09\n",
       "std       4.760952  4.466808e+08\n",
       "min    2003.000000  4.269491e+08\n",
       "25%    2006.750000  7.600471e+08\n",
       "50%    2010.500000  1.019998e+09\n",
       "75%    2014.250000  1.559869e+09\n",
       "max    2018.000000  1.787108e+09"
      ]
     },
     "execution_count": 15,
     "metadata": {},
     "output_type": "execute_result"
    }
   ],
   "source": [
    "# Informações sobre o desvio padrão, valores máximo e mínimo e os percentiles.\n",
    "group_by_ano.describe()"
   ]
  },
  {
   "cell_type": "code",
   "execution_count": 25,
   "metadata": {},
   "outputs": [
    {
     "data": {
      "text/html": [
       "<div>\n",
       "<style scoped>\n",
       "    .dataframe tbody tr th:only-of-type {\n",
       "        vertical-align: middle;\n",
       "    }\n",
       "\n",
       "    .dataframe tbody tr th {\n",
       "        vertical-align: top;\n",
       "    }\n",
       "\n",
       "    .dataframe thead th {\n",
       "        text-align: right;\n",
       "    }\n",
       "</style>\n",
       "<table border=\"1\" class=\"dataframe\">\n",
       "  <thead>\n",
       "    <tr style=\"text-align: right;\">\n",
       "      <th></th>\n",
       "      <th>vl_lancamentoOrc</th>\n",
       "      <th>dt_mesano</th>\n",
       "    </tr>\n",
       "  </thead>\n",
       "  <tbody>\n",
       "    <tr>\n",
       "      <th>486833</th>\n",
       "      <td>702074.41</td>\n",
       "      <td>2004-01-01</td>\n",
       "    </tr>\n",
       "    <tr>\n",
       "      <th>486834</th>\n",
       "      <td>495731.36</td>\n",
       "      <td>2004-02-01</td>\n",
       "    </tr>\n",
       "    <tr>\n",
       "      <th>486835</th>\n",
       "      <td>684563.07</td>\n",
       "      <td>2004-03-01</td>\n",
       "    </tr>\n",
       "    <tr>\n",
       "      <th>486836</th>\n",
       "      <td>504136.72</td>\n",
       "      <td>2004-04-01</td>\n",
       "    </tr>\n",
       "    <tr>\n",
       "      <th>486837</th>\n",
       "      <td>580640.06</td>\n",
       "      <td>2004-05-01</td>\n",
       "    </tr>\n",
       "  </tbody>\n",
       "</table>\n",
       "</div>"
      ],
      "text/plain": [
       "        vl_lancamentoOrc  dt_mesano\n",
       "486833         702074.41 2004-01-01\n",
       "486834         495731.36 2004-02-01\n",
       "486835         684563.07 2004-03-01\n",
       "486836         504136.72 2004-04-01\n",
       "486837         580640.06 2004-05-01"
      ]
     },
     "execution_count": 25,
     "metadata": {},
     "output_type": "execute_result"
    }
   ],
   "source": [
    "##############################################\n",
    "# 2. Quais os valores recebidos por mês/ano? #\n",
    "##############################################\n",
    "\n",
    "# Criar novo dataframe apenas com os dados que importam\n",
    "group_by_mes_ano = pref_mun_joao_pessoa.drop(columns=['cd_ugestora','de_ugestora','cd_receitaorcug','de_receitaorcug','tp_atualizacaoreceita','de_atualizacaoreceita','dt_ano'])\n",
    "group_by_mes_ano.head()"
   ]
  },
  {
   "cell_type": "code",
   "execution_count": 26,
   "metadata": {},
   "outputs": [],
   "source": [
    "# Convertendo a coluna Mês/Ano em Datetime\n",
    "# group_by_mes_ano['dt_mesano'] = pd.to_datetime(group_by_mes_ano['dt_mesano'], format='%m%Y')\n",
    "\n",
    "# Agrupar e calcular a soma da coluna vl_lancamentoOrc\n",
    "group_by_mes_ano['total'] = group_by_mes_ano.groupby('dt_mesano').transform('sum')\n",
    "group_by_mes_ano = group_by_mes_ano.drop(columns=['vl_lancamentoOrc'])"
   ]
  },
  {
   "cell_type": "code",
   "execution_count": 27,
   "metadata": {},
   "outputs": [],
   "source": [
    "# Removendo duplicatas\n",
    "group_by_mes_ano.drop_duplicates(keep='first', inplace=True)\n",
    "group_by_mes_ano.sort_values(by=['dt_mesano'],ascending=True,inplace=True)"
   ]
  },
  {
   "cell_type": "code",
   "execution_count": 28,
   "metadata": {},
   "outputs": [
    {
     "data": {
      "text/html": [
       "<div>\n",
       "<style scoped>\n",
       "    .dataframe tbody tr th:only-of-type {\n",
       "        vertical-align: middle;\n",
       "    }\n",
       "\n",
       "    .dataframe tbody tr th {\n",
       "        vertical-align: top;\n",
       "    }\n",
       "\n",
       "    .dataframe thead th {\n",
       "        text-align: right;\n",
       "    }\n",
       "</style>\n",
       "<table border=\"1\" class=\"dataframe\">\n",
       "  <thead>\n",
       "    <tr style=\"text-align: right;\">\n",
       "      <th></th>\n",
       "      <th>total</th>\n",
       "    </tr>\n",
       "    <tr>\n",
       "      <th>dt_mesano</th>\n",
       "      <th></th>\n",
       "    </tr>\n",
       "  </thead>\n",
       "  <tbody>\n",
       "    <tr>\n",
       "      <th>2003-01-01</th>\n",
       "      <td>46923205.80</td>\n",
       "    </tr>\n",
       "    <tr>\n",
       "      <th>2003-02-01</th>\n",
       "      <td>31463697.81</td>\n",
       "    </tr>\n",
       "    <tr>\n",
       "      <th>2003-03-01</th>\n",
       "      <td>34147830.15</td>\n",
       "    </tr>\n",
       "    <tr>\n",
       "      <th>2003-04-01</th>\n",
       "      <td>29138516.65</td>\n",
       "    </tr>\n",
       "    <tr>\n",
       "      <th>2003-05-01</th>\n",
       "      <td>38139457.19</td>\n",
       "    </tr>\n",
       "  </tbody>\n",
       "</table>\n",
       "</div>"
      ],
      "text/plain": [
       "                  total\n",
       "dt_mesano              \n",
       "2003-01-01  46923205.80\n",
       "2003-02-01  31463697.81\n",
       "2003-03-01  34147830.15\n",
       "2003-04-01  29138516.65\n",
       "2003-05-01  38139457.19"
      ]
     },
     "execution_count": 28,
     "metadata": {},
     "output_type": "execute_result"
    }
   ],
   "source": [
    "# group_by_mes_ano.to_csv(r'group_by_mes_ano.csv',header=True,index=False,sep='|')\n",
    "group_by_mes_ano.set_index('dt_mesano',inplace=True)\n",
    "group_by_mes_ano.head()"
   ]
  },
  {
   "cell_type": "code",
   "execution_count": 30,
   "metadata": {},
   "outputs": [
    {
     "data": {
      "image/png": "[encoded data removed]",
      "text/plain": [
       "<Figure size 432x288 with 1 Axes>"
      ]
     },
     "metadata": {
      "needs_background": "light"
     },
     "output_type": "display_data"
    }
   ],
   "source": [
    "# Plotando gráfico: Total de recebimentos x Mês/Ano\n",
    "ax = group_by_mes_ano.plot(kind='line',color='lightblue',title='Total de Recebimentos x Mês/Ano')\n",
    "\n",
    "ax.set_ylabel('Total em Milhões')\n",
    "ax.set_xlabel('Mês/Ano')\n",
    "\n",
    "plt.show()"
   ]
  },
  {
   "cell_type": "code",
   "execution_count": null,
   "metadata": {},
   "outputs": [],
   "source": []
  }
 ],
 "metadata": {
  "kernelspec": {
   "display_name": "Python 3",
   "language": "python",
   "name": "python3"
  },
  "language_info": {
   "codemirror_mode": {
    "name": "ipython",
    "version": 3
   },
   "file_extension": ".py",
   "mimetype": "text/x-python",
   "name": "python",
   "nbconvert_exporter": "python",
   "pygments_lexer": "ipython3",
   "version": "3.6.8"
  }
 },
 "nbformat": 4,
 "nbformat_minor": 2
}
